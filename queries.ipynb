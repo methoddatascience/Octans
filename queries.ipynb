{
 "cells": [
  {
   "cell_type": "markdown",
   "metadata": {},
   "source": [
    "## App to get literature from multiple years"
   ]
  },
  {
   "cell_type": "markdown",
   "metadata": {},
   "source": [
    "#### work in progress"
   ]
  },
  {
   "cell_type": "markdown",
   "metadata": {},
   "source": [
    "example of search term: (stroke[Title/Abstract]) AND (\"2017/01/01\"[Date - Publication] : \"3000\"[Date - Publication])\n",
    "\n",
    "build new search terms here: https://www.ncbi.nlm.nih.gov/pubmed/advanced"
   ]
  },
  {
   "cell_type": "code",
   "execution_count": 1,
   "metadata": {},
   "outputs": [],
   "source": [
    "import scraper as sc\n",
    "import pandas as pd\n",
    "from collections import defaultdict\n",
    "import matplotlib.pyplot as plt"
   ]
  },
  {
   "cell_type": "code",
   "execution_count": 2,
   "metadata": {},
   "outputs": [],
   "source": [
    "retmax = 200\n",
    "email = 'chris.dinant@gmail.com'"
   ]
  },
  {
   "cell_type": "code",
   "execution_count": 3,
   "metadata": {},
   "outputs": [],
   "source": [
    "def make_query(term, year):\n",
    "    return '({}[Title/Abstract]) AND \\\n",
    "({}[Date - Publication])'\\\n",
    ".format(term, year)"
   ]
  },
  {
   "cell_type": "code",
   "execution_count": 4,
   "metadata": {},
   "outputs": [
    {
     "data": {
      "text/plain": [
       "\"(parkinson's[Title/Abstract]) AND (2016[Date - Publication])\""
      ]
     },
     "execution_count": 4,
     "metadata": {},
     "output_type": "execute_result"
    }
   ],
   "source": [
    "make_query('parkinson\\'s', 2016)"
   ]
  },
  {
   "cell_type": "code",
   "execution_count": null,
   "metadata": {},
   "outputs": [],
   "source": [
    "for i, n in enumerate(range(2000,2019,1)):\n",
    "    new_keys = range(i*retmax, (i+1)*retmax)\n",
    "    query = make_query('parkinson\\'s', n)\n",
    "    ap = sc.ArticleParser(retmax, email)\n",
    "    raw_dict = ap.find_term(query)\n",
    "    articles = ap.fetch_info(raw_dict['IdList'])\n",
    "    if i == 0:\n",
    "        parsed_dict = ap.parse_info(articles)\n",
    "    else:\n",
    "        n_parsed_dict = ap.parse_info(articles)\n",
    "        for k in n_parsed_dict.keys():\n",
    "            parsed_dict[new_keys[k]] = n_parsed_dict[k] # add articles from the next year behind the current  \n"
   ]
  },
  {
   "cell_type": "code",
   "execution_count": null,
   "metadata": {},
   "outputs": [],
   "source": [
    "df = pd.DataFrame.from_dict(parsed_dict, orient = 'index')\n",
    "df.date = pd.to_datetime(df.date)\n",
    "df = df[df.abstract != ''].sort_values(by='date', \n",
    "                                       ascending=0)\\\n",
    "                          .reset_index(drop=True)\n",
    "df.head()"
   ]
  },
  {
   "cell_type": "code",
   "execution_count": 7,
   "metadata": {},
   "outputs": [],
   "source": [
    "df.to_csv('parkinson_2000tonow.csv')"
   ]
  },
  {
   "cell_type": "code",
   "execution_count": 8,
   "metadata": {},
   "outputs": [],
   "source": [
    "# top 20 journals from each year, 1999 to 2017\n",
    "jr_dict = defaultdict(list)\n",
    "for year in range(1999,2018):\n",
    "    scimago = pd.read_csv('scimago/scimagojr {}  \\\n",
    "Subject Category - Neurology (clinical).csv'.format(year), sep=';')\n",
    "    jr_dict[year] = scimago.Title[:20].tolist()\n",
    "        "
   ]
  },
  {
   "cell_type": "code",
   "execution_count": 9,
   "metadata": {},
   "outputs": [
    {
     "data": {
      "text/plain": [
       "['Annals of Neurology',\n",
       " 'Brain Research Reviews',\n",
       " 'Brain',\n",
       " 'Critical Reviews in Neurobiology',\n",
       " 'Journal of Cerebral Blood Flow and Metabolism',\n",
       " 'Human Brain Mapping',\n",
       " 'Stroke',\n",
       " 'Journal of Neuropathology and Experimental Neurology',\n",
       " 'Neurology',\n",
       " 'Brain Pathology',\n",
       " 'Journal of Neurosurgery',\n",
       " 'International Review of Neurobiology',\n",
       " 'JAMA Neurology',\n",
       " 'Neurosurgery',\n",
       " 'Pain',\n",
       " 'Neurobiology of Aging',\n",
       " 'Journal of Neuropsychiatry and Clinical Neurosciences',\n",
       " 'American Journal of Neuroradiology',\n",
       " 'Journal of Neuroimmunology',\n",
       " 'Epilepsia']"
      ]
     },
     "execution_count": 9,
     "metadata": {},
     "output_type": "execute_result"
    }
   ],
   "source": [
    "jr_dict[1999]"
   ]
  },
  {
   "cell_type": "code",
   "execution_count": 10,
   "metadata": {},
   "outputs": [],
   "source": [
    "gen_top_jr = ['Science', \n",
    "            'Nature', \n",
    "            'Cell', \n",
    "            'Nature Medicine', \n",
    "            'New England Journal of Medicine']"
   ]
  },
  {
   "cell_type": "code",
   "execution_count": 11,
   "metadata": {},
   "outputs": [],
   "source": [
    "fractions = defaultdict(int)"
   ]
  },
  {
   "cell_type": "code",
   "execution_count": 12,
   "metadata": {},
   "outputs": [],
   "source": [
    "for key, value in jr_dict.items():\n",
    "    mask = (df.date > str(key))&(df.date < str(key+1))\n",
    "    fractions[key] = df.loc[mask]\\\n",
    "    ['published in'].apply(lambda x: x in value).sum()\\\n",
    "    + df.loc[mask]\\\n",
    "    ['published in'].apply(lambda x: x in gen_top_jr).sum()"
   ]
  },
  {
   "cell_type": "markdown",
   "metadata": {},
   "source": [
    "__This should include newer literature, compared with the latest scimago data__"
   ]
  },
  {
   "cell_type": "code",
   "execution_count": 13,
   "metadata": {},
   "outputs": [
    {
     "data": {
      "text/plain": [
       "dict_keys([1999, 2000, 2001, 2002, 2003, 2004, 2005, 2006, 2007, 2008, 2009, 2010, 2011, 2012, 2013, 2014, 2015, 2016, 2017])"
      ]
     },
     "execution_count": 13,
     "metadata": {},
     "output_type": "execute_result"
    }
   ],
   "source": [
    "fractions.keys()"
   ]
  },
  {
   "cell_type": "code",
   "execution_count": 14,
   "metadata": {},
   "outputs": [
    {
     "data": {
      "image/png": "[encoded data removed]",
      "text/plain": [
       "<matplotlib.figure.Figure at 0x7f5b55465898>"
      ]
     },
     "metadata": {},
     "output_type": "display_data"
    }
   ],
   "source": [
    "plt.bar(range(len(fractions)), list(fractions.values()), align='center')\n",
    "plt.xticks(range(len(fractions)), list(fractions.keys()), rotation = 50)\n",
    "plt.ylabel('fraction published in top journal')\n",
    "plt.show()"
   ]
  },
  {
   "cell_type": "code",
   "execution_count": null,
   "metadata": {},
   "outputs": [],
   "source": []
  }
 ],
 "metadata": {
  "kernelspec": {
   "display_name": "Python 3",
   "language": "python",
   "name": "python3"
  },
  "language_info": {
   "codemirror_mode": {
    "name": "ipython",
    "version": 3
   },
   "file_extension": ".py",
   "mimetype": "text/x-python",
   "name": "python",
   "nbconvert_exporter": "python",
   "pygments_lexer": "ipython3",
   "version": "3.6.6"
  }
 },
 "nbformat": 4,
 "nbformat_minor": 2
}

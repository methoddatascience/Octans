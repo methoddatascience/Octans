{
 "cells": [
  {
   "cell_type": "markdown",
   "metadata": {},
   "source": [
    "# Get data from funding sources\n",
    "\n",
    "[Notes](https://docs.google.com/document/d/1SdCsvdYpDiPTJDF_gyiCr6ADJz49sR0eBYGPhywhGM8/edit?usp=sharing) about different funding sources and their usability. "
   ]
  },
  {
   "cell_type": "code",
   "execution_count": 3,
   "metadata": {
    "collapsed": false
   },
   "outputs": [],
   "source": [
    "# import urllib2 no matching distribution found. needed?\n",
    "import urllib\n",
    "import json\n",
    "import pprint"
   ]
  },
  {
   "cell_type": "code",
   "execution_count": 7,
   "metadata": {
    "collapsed": false
   },
   "outputs": [],
   "source": [
    "#!pip install ckanapi"
   ]
  },
  {
   "cell_type": "code",
   "execution_count": 9,
   "metadata": {
    "collapsed": false
   },
   "outputs": [
    {
     "ename": "CKANAPIError",
     "evalue": "['http://demo.ckan.org/api/action/group_list', 302, 'Found']",
     "output_type": "error",
     "traceback": [
      "\u001b[0;31m---------------------------------------------------------------------------\u001b[0m",
      "\u001b[0;31mCKANAPIError\u001b[0m                              Traceback (most recent call last)",
      "\u001b[0;32m<ipython-input-9-ce15b178a7e6>\u001b[0m in \u001b[0;36m<module>\u001b[0;34m()\u001b[0m\n\u001b[1;32m      5\u001b[0m \u001b[0;34m\u001b[0m\u001b[0m\n\u001b[1;32m      6\u001b[0m \u001b[0mdemo\u001b[0m \u001b[0;34m=\u001b[0m \u001b[0mRemoteCKAN\u001b[0m\u001b[0;34m(\u001b[0m\u001b[0;34m'http://demo.ckan.org'\u001b[0m\u001b[0;34m,\u001b[0m \u001b[0mapikey\u001b[0m\u001b[0;34m=\u001b[0m\u001b[0;34m'MY-SECRET-API-KEY'\u001b[0m\u001b[0;34m)\u001b[0m\u001b[0;34m\u001b[0m\u001b[0m\n\u001b[0;32m----> 7\u001b[0;31m \u001b[0mgroups\u001b[0m \u001b[0;34m=\u001b[0m \u001b[0mdemo\u001b[0m\u001b[0;34m.\u001b[0m\u001b[0maction\u001b[0m\u001b[0;34m.\u001b[0m\u001b[0mgroup_list\u001b[0m\u001b[0;34m(\u001b[0m\u001b[0mid\u001b[0m\u001b[0;34m=\u001b[0m\u001b[0;34m'data-explorer'\u001b[0m\u001b[0;34m)\u001b[0m\u001b[0;34m\u001b[0m\u001b[0m\n\u001b[0m\u001b[1;32m      8\u001b[0m \u001b[0mprint\u001b[0m\u001b[0;34m(\u001b[0m\u001b[0mgroups\u001b[0m\u001b[0;34m)\u001b[0m\u001b[0;34m\u001b[0m\u001b[0m\n",
      "\u001b[0;32m/Users/katerinadoyle/anaconda3/lib/python3.6/site-packages/ckanapi/common.py\u001b[0m in \u001b[0;36maction\u001b[0;34m(**kwargs)\u001b[0m\n\u001b[1;32m     49\u001b[0m                     \u001b[0mdata_dict\u001b[0m\u001b[0;34m=\u001b[0m\u001b[0mnonfiles\u001b[0m\u001b[0;34m,\u001b[0m\u001b[0;34m\u001b[0m\u001b[0m\n\u001b[1;32m     50\u001b[0m                     files=files)\n\u001b[0;32m---> 51\u001b[0;31m             \u001b[0;32mreturn\u001b[0m \u001b[0mself\u001b[0m\u001b[0;34m.\u001b[0m\u001b[0m_ckan\u001b[0m\u001b[0;34m.\u001b[0m\u001b[0mcall_action\u001b[0m\u001b[0;34m(\u001b[0m\u001b[0mname\u001b[0m\u001b[0;34m,\u001b[0m \u001b[0mdata_dict\u001b[0m\u001b[0;34m=\u001b[0m\u001b[0mkwargs\u001b[0m\u001b[0;34m)\u001b[0m\u001b[0;34m\u001b[0m\u001b[0m\n\u001b[0m\u001b[1;32m     52\u001b[0m         \u001b[0;32mreturn\u001b[0m \u001b[0maction\u001b[0m\u001b[0;34m\u001b[0m\u001b[0m\n\u001b[1;32m     53\u001b[0m \u001b[0;34m\u001b[0m\u001b[0m\n",
      "\u001b[0;32m/Users/katerinadoyle/anaconda3/lib/python3.6/site-packages/ckanapi/remoteckan.py\u001b[0m in \u001b[0;36mcall_action\u001b[0;34m(self, action, data_dict, context, apikey, files, requests_kwargs)\u001b[0m\n\u001b[1;32m     85\u001b[0m         \u001b[0;32melse\u001b[0m\u001b[0;34m:\u001b[0m\u001b[0;34m\u001b[0m\u001b[0m\n\u001b[1;32m     86\u001b[0m             \u001b[0mstatus\u001b[0m\u001b[0;34m,\u001b[0m \u001b[0mresponse\u001b[0m \u001b[0;34m=\u001b[0m \u001b[0mself\u001b[0m\u001b[0;34m.\u001b[0m\u001b[0m_request_fn\u001b[0m\u001b[0;34m(\u001b[0m\u001b[0murl\u001b[0m\u001b[0;34m,\u001b[0m \u001b[0mdata\u001b[0m\u001b[0;34m,\u001b[0m \u001b[0mheaders\u001b[0m\u001b[0;34m,\u001b[0m \u001b[0mfiles\u001b[0m\u001b[0;34m,\u001b[0m \u001b[0mrequests_kwargs\u001b[0m\u001b[0;34m)\u001b[0m\u001b[0;34m\u001b[0m\u001b[0m\n\u001b[0;32m---> 87\u001b[0;31m         \u001b[0;32mreturn\u001b[0m \u001b[0mreverse_apicontroller_action\u001b[0m\u001b[0;34m(\u001b[0m\u001b[0murl\u001b[0m\u001b[0;34m,\u001b[0m \u001b[0mstatus\u001b[0m\u001b[0;34m,\u001b[0m \u001b[0mresponse\u001b[0m\u001b[0;34m)\u001b[0m\u001b[0;34m\u001b[0m\u001b[0m\n\u001b[0m\u001b[1;32m     88\u001b[0m \u001b[0;34m\u001b[0m\u001b[0m\n\u001b[1;32m     89\u001b[0m     \u001b[0;32mdef\u001b[0m \u001b[0m_request_fn\u001b[0m\u001b[0;34m(\u001b[0m\u001b[0mself\u001b[0m\u001b[0;34m,\u001b[0m \u001b[0murl\u001b[0m\u001b[0;34m,\u001b[0m \u001b[0mdata\u001b[0m\u001b[0;34m,\u001b[0m \u001b[0mheaders\u001b[0m\u001b[0;34m,\u001b[0m \u001b[0mfiles\u001b[0m\u001b[0;34m,\u001b[0m \u001b[0mrequests_kwargs\u001b[0m\u001b[0;34m)\u001b[0m\u001b[0;34m:\u001b[0m\u001b[0;34m\u001b[0m\u001b[0m\n",
      "\u001b[0;32m/Users/katerinadoyle/anaconda3/lib/python3.6/site-packages/ckanapi/common.py\u001b[0m in \u001b[0;36mreverse_apicontroller_action\u001b[0;34m(url, status, response)\u001b[0m\n\u001b[1;32m    129\u001b[0m \u001b[0;34m\u001b[0m\u001b[0m\n\u001b[1;32m    130\u001b[0m     \u001b[0;31m# don't recognize the error\u001b[0m\u001b[0;34m\u001b[0m\u001b[0;34m\u001b[0m\u001b[0m\n\u001b[0;32m--> 131\u001b[0;31m     \u001b[0;32mraise\u001b[0m \u001b[0mCKANAPIError\u001b[0m\u001b[0;34m(\u001b[0m\u001b[0mrepr\u001b[0m\u001b[0;34m(\u001b[0m\u001b[0;34m[\u001b[0m\u001b[0murl\u001b[0m\u001b[0;34m,\u001b[0m \u001b[0mstatus\u001b[0m\u001b[0;34m,\u001b[0m \u001b[0mresponse\u001b[0m\u001b[0;34m]\u001b[0m\u001b[0;34m)\u001b[0m\u001b[0;34m)\u001b[0m\u001b[0;34m\u001b[0m\u001b[0m\n\u001b[0m",
      "\u001b[0;31mCKANAPIError\u001b[0m: ['http://demo.ckan.org/api/action/group_list', 302, 'Found']"
     ]
    }
   ],
   "source": [
    "from ckanapi import RemoteCKAN\n",
    "#ua = 'ckanapiexample/1.0 (+http://example.com/my/website)'\n",
    "\n",
    "demo = RemoteCKAN('http://demo.ckan.org', apikey='MY-SECRET-API-KEY')\n",
    "groups = demo.action.group_list(id='data-explorer')\n",
    "print(groups)"
   ]
  },
  {
   "cell_type": "code",
   "execution_count": null,
   "metadata": {
    "collapsed": true
   },
   "outputs": [],
   "source": [
    "# Put the details of the dataset we're going to create into a dict.\n",
    "dataset_dict = {\n",
    "    'name': 'my_dataset_name',\n",
    "    'notes': 'A long description of my dataset',\n",
    "    'owner_org': 'org_id_or_name'\n",
    "}"
   ]
  },
  {
   "cell_type": "code",
   "execution_count": null,
   "metadata": {
    "collapsed": true
   },
   "outputs": [],
   "source": [
    "# Use the json module to dump the dictionary to a string for posting.\n",
    "data_string = urllib.quote(json.dumps(dataset_dict))\n",
    "\n",
    "# We'll use the package_create function to create a new dataset.\n",
    "request = urllib.Request(\n",
    "    'http://www.my_ckan_site.com/api/action/package_create')\n",
    "\n",
    "ckanapi -r http://demo.ckan.org action package_search fq='tags:economy'\n",
    "\n",
    "# Creating a dataset requires an authorization header.\n",
    "# Replace *** with your API key, from your user account on the CKAN site\n",
    "# that you're creating the dataset on.\n",
    "request.add_header('Authorization', '***')\n",
    "\n",
    "# Make the HTTP request.\n",
    "response = urllib2.urlopen(request, data_string)\n",
    "assert response.code == 200\n",
    "\n",
    "# Use the json module to load CKAN's response into a dictionary.\n",
    "response_dict = json.loads(response.read())\n",
    "assert response_dict['success'] is True\n",
    "\n",
    "# package_create returns the created package as its result.\n",
    "created_package = response_dict['result']\n",
    "pprint.pprint(created_package)"
   ]
  }
 ],
 "metadata": {
  "kernelspec": {
   "display_name": "Python 3",
   "language": "python",
   "name": "python3"
  },
  "language_info": {
   "codemirror_mode": {
    "name": "ipython",
    "version": 3
   },
   "file_extension": ".py",
   "mimetype": "text/x-python",
   "name": "python",
   "nbconvert_exporter": "python",
   "pygments_lexer": "ipython3",
   "version": "3.6.3"
  }
 },
 "nbformat": 4,
 "nbformat_minor": 2
}

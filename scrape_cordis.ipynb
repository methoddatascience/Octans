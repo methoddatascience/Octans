{
 "cells": [
  {
   "cell_type": "markdown",
   "metadata": {},
   "source": [
    "# Scraping the Cordis website\n",
    "\n",
    "I'm not sure yet about legality of this. The website's legal information only contains information about how th users data is used, not how the user is allowed to interact with the data from the website. The only thing it mentioned is that the content is copyright protected and needs to be cited properly.\n",
    "\n",
    "## Help Files\n",
    "- [Introduction to web scraping with selenium](https://medium.com/the-andela-way/introduction-to-web-scraping-using-selenium-7ec377a8cf72)"
   ]
  },
  {
   "cell_type": "code",
   "execution_count": 44,
   "metadata": {
    "collapsed": true
   },
   "outputs": [],
   "source": [
    "from selenium import webdriver \n",
    "from selenium.webdriver.common.by import By \n",
    "from selenium.webdriver.support.ui import WebDriverWait \n",
    "#from selenium.webdriver.support.ui import Select\n",
    "from selenium.webdriver.support import expected_conditions as EC \n",
    "from selenium.common.exceptions import TimeoutException\n",
    "from selenium.webdriver.common.keys import Keys\n",
    "import time\n",
    "import pandas as pd\n",
    "import os"
   ]
  },
  {
   "cell_type": "markdown",
   "metadata": {},
   "source": [
    "- 1st import: Allows you to launch/initialise a browser.\n",
    "- 2nd import: Allows you to search for things using specific parameters.\n",
    "- 3rd import: Allows you to wait for a page to load.\n",
    "- 4th import: Specify what you are looking for on a specific page in order to determine that the webpage has loaded.\n",
    "- 5th import: Handling a timeout situation."
   ]
  },
  {
   "cell_type": "markdown",
   "metadata": {},
   "source": [
    "## Creating helper function"
   ]
  },
  {
   "cell_type": "markdown",
   "metadata": {},
   "source": [
    "create new instance of chrome in incognito mode"
   ]
  },
  {
   "cell_type": "code",
   "execution_count": 20,
   "metadata": {
    "collapsed": false
   },
   "outputs": [],
   "source": [
    "option = webdriver.ChromeOptions()\n",
    "option.add_argument(\"— incognito\")"
   ]
  },
  {
   "cell_type": "code",
   "execution_count": 21,
   "metadata": {
    "collapsed": true
   },
   "outputs": [],
   "source": [
    "chromedriver_path = \"/Users/guysimons/Documents/BISS/FuturizingBusinessSchools/Scraping Python/Drivers/chromedriver\"\n",
    "firefoxdriver_path = '/Users/katerinadoyle/Documents/java/webscraping/drivers/geckodriver'"
   ]
  },
  {
   "cell_type": "code",
   "execution_count": 99,
   "metadata": {
    "collapsed": false
   },
   "outputs": [],
   "source": [
    "# change the xpath \n",
    "def init_driver():\n",
    "    driver = webdriver.Firefox(executable_path=firefoxdriver_path) #changed this. Chrome takes too much CPU on my mac\n",
    "    #driver.wait = WebDriverWait(driver, 5)\n",
    "    #driver.implicitly_wait(10)\n",
    "    return driver\n",
    "\n",
    "def navigate_to_page(driver, homepage):\n",
    "     driver.get(homepage)\n",
    "     time.sleep(10)\n",
    "     \n",
    "def navigate_to_keyword_page(driver, keyword, homepage):\n",
    "     driver.get(homepage)\n",
    "     time.sleep(10)\n",
    "     inputElement = driver.find_element_by_id(\"projectsResultsSearchValue\")\n",
    "     #select = Select(driver.find_element_by_xpath(\"//select[@class = 'search form-control']\"))\n",
    "     inputElement.send_keys(keyword)\n",
    "     inputElement.send_keys(Keys.ENTER) # simulate hitting enter\n",
    "\n",
    "def get_content(driver):\n",
    "     # go to report summary page\n",
    "     project_page = driver.find_element_by_xpath(\"//a[contains(@href,'result/rcn')]\").click()\n",
    "     # scrape content on result summary page\n",
    "     project_info = driver.find_element_by_xpath(\"//div[@class = 'content']\")\n",
    "     return project_info\n",
    "     \n",
    "def next_page(driver):\n",
    "     nxt_button = driver.find_element_by_xpath(\"//span[@data-tn-element='next-page']\")\n",
    "     time.sleep(2)\n",
    "     nxt_button.click()\n",
    "     time.sleep(2)"
   ]
  },
  {
   "cell_type": "markdown",
   "metadata": {},
   "source": [
    "## Accessing the webpage and getting the data"
   ]
  },
  {
   "cell_type": "code",
   "execution_count": 63,
   "metadata": {
    "collapsed": true
   },
   "outputs": [],
   "source": [
    "homepage= 'https://cordis.europa.eu/projects/home_en.html'"
   ]
  },
  {
   "cell_type": "code",
   "execution_count": 68,
   "metadata": {
    "collapsed": true
   },
   "outputs": [],
   "source": [
    "driver = init_driver()\n",
    "#time.sleep(20)"
   ]
  },
  {
   "cell_type": "code",
   "execution_count": 69,
   "metadata": {
    "collapsed": false
   },
   "outputs": [],
   "source": [
    "# go to cordis page and enter the keyword\n",
    "navigate_to_keyword_page(driver, 'neurological disorder', homepage)"
   ]
  },
  {
   "cell_type": "code",
   "execution_count": null,
   "metadata": {
    "collapsed": true
   },
   "outputs": [],
   "source": [
    "# TODO: change default setting to see 100 entries"
   ]
  },
  {
   "cell_type": "code",
   "execution_count": 100,
   "metadata": {
    "collapsed": false
   },
   "outputs": [],
   "source": [
    "# scrape the content from page 1, go to next page, and continue\n",
    "test = get_content(driver) # this works so far"
   ]
  },
  {
   "cell_type": "code",
   "execution_count": null,
   "metadata": {
    "collapsed": true
   },
   "outputs": [],
   "source": [
    "# TODO: content of report summary is scraped. now webdriver needs to go back, and go to next result. \n",
    "\n",
    "\n",
    "# method 1: change project_page into finding a list of urls. then loop over the urls and get the results. "
   ]
  },
  {
   "cell_type": "code",
   "execution_count": 103,
   "metadata": {
    "collapsed": false
   },
   "outputs": [
    {
     "data": {
      "text/plain": [
       "\"ADHD drugs re-evaluated\\nEuropean researchers investigated the effects of methylphenidate (MPH), a drug commonly prescribed for attention deficit hyperactivity disorder (ADHD). The outcomes of the project are useful to all groups dealing with the disorder and its effects.\\n© Photographee.eu, Shutterstock\\nADHD, a common childhood neurodevelopmental disorder, has high socioeconomic costs. Growing safety concerns regarding MPH led to the establishment of the EU-funded project ADDUCE (Attention deficit hyperactivity disorder drugs use chronic effects).\\n\\nThe consortium used multiple pharmaco-epidemiological research methods to determine the impact of MPH on children and adolescents. These included a series of retrospective and prospective pharmacovigilance studies. Also investigated were prevalence, clinical significance, development, and moderating and/or mediating factors of MPH for four specific classes: growth, neurological, psychiatric and cardiovascular.\\n\\nProviding a basis for subsequent clinical study, researchers produced reviews and reports from the available literature on the long-term adverse effects of MPH treatment. These are specific to growth and pubertal development, and explore the drug's neurological, psychiatric and cardiovascular effects.\\n\\nBy August 2014, ADDUCE members successfully enrolled 1 370 children into 3 cohorts for prospective observational pharmacovigilance studies over a 24-month period. A first, the use of two control groups has provided data of high clinical value as clinicians can differentiate between adverse effects resulting from ADHD and the side-effects of the treatment.\\n\\nAnother key achievement was the development and pilot testing of the Medication and Cognition Rating Scale for children and adults. In addition, ADDUCE has developed a tool to detect and utilise measures of bone maturation to identify and predict long-term growth retardation resulting from drug consumption. The beauty of these tools is that they can also be used for assessing the effects of other stimulant medications on cognition and growth.\\n\\nProject outcomes have resulted in several publications in leading international journals and other manuscripts are also in preparation. Results were disseminated widely at several international conferences and meetings as well as to key stakeholders such as the European Medicines Agency (EMA), national organisations, patients, medical professionals and the public.\\n\\nADDUCE has systematically evaluated the safety and efficacy of long-term MPH treatment for ADHD sufferers. These findings are expected to directly impact clinical guidelines and regulatory advice for ADHD management. This, in turn, should promote safe, high-quality, evidence-based effective care for ADHD patients and significantly improve their quality of life.\""
      ]
     },
     "execution_count": 103,
     "metadata": {},
     "output_type": "execute_result"
    }
   ],
   "source": [
    "test.text"
   ]
  }
 ],
 "metadata": {
  "kernelspec": {
   "display_name": "Python 3",
   "language": "python",
   "name": "python3"
  },
  "language_info": {
   "codemirror_mode": {
    "name": "ipython",
    "version": 3
   },
   "file_extension": ".py",
   "mimetype": "text/x-python",
   "name": "python",
   "nbconvert_exporter": "python",
   "pygments_lexer": "ipython3",
   "version": "3.6.0"
  }
 },
 "nbformat": 4,
 "nbformat_minor": 2
}

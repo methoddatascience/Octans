{
 "cells": [
  {
   "cell_type": "markdown",
   "metadata": {},
   "source": [
    "# Scraping the Cordis website\n",
    "\n",
    "I'm not sure yet about legality of this. The website's legal information only contains information about how th users data is used, not how the user is allowed to interact with the data from the website. The only thing it mentioned is that the content is copyright protected and needs to be cited properly.\n",
    "\n",
    "## Help Files\n",
    "- [Introduction to web scraping with selenium](https://medium.com/the-andela-way/introduction-to-web-scraping-using-selenium-7ec377a8cf72)"
   ]
  },
  {
   "cell_type": "code",
   "execution_count": 1,
   "metadata": {
    "collapsed": true
   },
   "outputs": [],
   "source": [
    "from selenium import webdriver \n",
    "from selenium.webdriver.common.by import By \n",
    "from selenium.webdriver.support.ui import WebDriverWait \n",
    "from selenium.webdriver.support.ui import Select\n",
    "from selenium.webdriver.support import expected_conditions as EC \n",
    "from selenium.common.exceptions import TimeoutException\n",
    "from selenium.webdriver.common.keys import Keys\n",
    "import time\n",
    "import pandas as pd\n",
    "import os"
   ]
  },
  {
   "cell_type": "markdown",
   "metadata": {},
   "source": [
    "- 1st import: Allows you to launch/initialise a browser.\n",
    "- 2nd import: Allows you to search for things using specific parameters.\n",
    "- 3rd import: Allows you to wait for a page to load.\n",
    "- 4th import: Specify what you are looking for on a specific page in order to determine that the webpage has loaded.\n",
    "- 5th import: Handling a timeout situation."
   ]
  },
  {
   "cell_type": "markdown",
   "metadata": {},
   "source": [
    "## Creating helper function"
   ]
  },
  {
   "cell_type": "markdown",
   "metadata": {},
   "source": [
    "create new instance of chrome in incognito mode"
   ]
  },
  {
   "cell_type": "code",
   "execution_count": 2,
   "metadata": {
    "collapsed": false
   },
   "outputs": [],
   "source": [
    "option = webdriver.ChromeOptions()\n",
    "option.add_argument(\"— incognito\")"
   ]
  },
  {
   "cell_type": "code",
   "execution_count": 3,
   "metadata": {
    "collapsed": true
   },
   "outputs": [],
   "source": [
    "#chromedriver_path = \"/Users/guysimons/Documents/BISS/FuturizingBusinessSchools/Scraping Python/Drivers/chromedriver\"\n",
    "firefoxdriver_path = '/Users/katerinadoyle/Documents/java/webscraping/drivers/geckodriver'"
   ]
  },
  {
   "cell_type": "code",
   "execution_count": 80,
   "metadata": {
    "collapsed": false
   },
   "outputs": [],
   "source": [
    "# change the xpath \n",
    "def init_driver():\n",
    "    driver = webdriver.Firefox(executable_path=firefoxdriver_path) #changed this. Chrome takes too much CPU on my mac\n",
    "    #driver.wait = WebDriverWait(driver, 5)\n",
    "    #driver.implicitly_wait(10)\n",
    "    return driver\n",
    "\n",
    "def navigate_to_page(driver, homepage):\n",
    "     driver.get(homepage)\n",
    "     time.sleep(10)\n",
    "     \n",
    "def navigate_to_keyword_page(driver, keyword, homepage):\n",
    "     driver.get(homepage)\n",
    "     time.sleep(10)\n",
    "     inputElement = driver.find_element_by_id(\"projectsResultsSearchValue\") # looks for the search field\n",
    "     inputElement.send_keys(keyword) # enters the keyword\n",
    "     inputElement.send_keys(Keys.ENTER) # simulate hitting enter\n",
    "     time.sleep(10) # wait for page to load\n",
    "     select = Select(driver.find_element_by_name(\"num\"))\n",
    "     #print ([o.text for o in select.options]) # testing purpose: what options are available\n",
    "     select.select_by_value(\"100\")\n",
    "     time.sleep(10)\n",
    "\n",
    "def get_project_url(driver):\n",
    "     # go to report summary page\n",
    "     project_page_html = driver.find_elements_by_xpath(\"//a[contains(@href,'result/rcn')]\")\n",
    "     return project_page_html\n",
    "\n",
    "def get_all_project_content(driver):\n",
    "    # two options: scrape content from site OR download pdf/xml/rtf file. XML file might be the best\n",
    "     #prj_id = driver.find_element_by_xpath(\"//a[@class]\")\n",
    "     #funded_under = driver.find_elemnt_by_xpath\n",
    "     country = driver.find_element_by_xpath(\"//div[@class = 'country']\")\n",
    "     title = driver.find_element_by_xpath(\"//div[@class = 'content']/h2\")\n",
    "     content = driver.find_element_by_xpath(\"//div[@class = 'article']\")\n",
    "     subjects = driver.find_element_by_xpath(\"//div[@class = 'subject']\")\n",
    "     return country\n",
    "     return title\n",
    "     return content\n",
    "     return subjects\n",
    "\n",
    "def get_project_content(driver):\n",
    "     content = driver.find_element_by_xpath(\"//div[@class = 'article']\")\n",
    "     return content\n",
    "    \n",
    "def next_page(driver):\n",
    "     nxt_button = driver.find_element_by_xpath(\"//span[@data-tn-element='next-page']\")\n",
    "     time.sleep(2)\n",
    "     nxt_button.click()\n",
    "     time.sleep(2)"
   ]
  },
  {
   "cell_type": "markdown",
   "metadata": {},
   "source": [
    "## Accessing the webpage and getting the data"
   ]
  },
  {
   "cell_type": "code",
   "execution_count": 65,
   "metadata": {
    "collapsed": true
   },
   "outputs": [],
   "source": [
    "homepage= 'https://cordis.europa.eu/projects/home_en.html'"
   ]
  },
  {
   "cell_type": "code",
   "execution_count": 66,
   "metadata": {
    "collapsed": true
   },
   "outputs": [],
   "source": [
    "driver = init_driver()\n",
    "#time.sleep(20)"
   ]
  },
  {
   "cell_type": "code",
   "execution_count": 67,
   "metadata": {
    "collapsed": false
   },
   "outputs": [],
   "source": [
    "# go to cordis page, enter the keyword, display results, and set search parameters to 'showing 100 results per page'\n",
    "navigate_to_keyword_page(driver, 'neurological AND disorder', homepage)"
   ]
  },
  {
   "cell_type": "code",
   "execution_count": 81,
   "metadata": {
    "collapsed": false
   },
   "outputs": [],
   "source": [
    "# collect the project urls and store them in a list\n",
    "projecturls = []\n",
    "projecturls = get_project_url(driver)\n",
    "# modify it now to loop through all search pages. "
   ]
  },
  {
   "cell_type": "code",
   "execution_count": 69,
   "metadata": {
    "collapsed": false
   },
   "outputs": [
    {
     "name": "stdout",
     "output_type": "stream",
     "text": [
      "136\n",
      "Final Report Summary - ADDUCE (Attention Deficit Hyperactivity Disorder Drugs Use Chronic Effects)\n"
     ]
    }
   ],
   "source": [
    "print(len(projecturls))\n",
    "print(projecturls[0].text)"
   ]
  },
  {
   "cell_type": "markdown",
   "metadata": {},
   "source": [
    "It got 136 entries. The text attribute returns the anchor text. To get the href attribute, type 'get_attribute(\"href\")"
   ]
  },
  {
   "cell_type": "code",
   "execution_count": 70,
   "metadata": {
    "collapsed": false
   },
   "outputs": [
    {
     "name": "stdout",
     "output_type": "stream",
     "text": [
      "https://cordis.europa.eu/result/rcn/187956_en.html\n"
     ]
    }
   ],
   "source": [
    "for link in projecturls[0:1]:\n",
    "    print(link.get_attribute(\"href\"))"
   ]
  },
  {
   "cell_type": "code",
   "execution_count": 84,
   "metadata": {
    "collapsed": false
   },
   "outputs": [],
   "source": [
    "with open('cordis_project_link.txt', 'w') as file:\n",
    "    for link in projecturls:\n",
    "        url = link.get_attribute(\"href\")\n",
    "        file.write(url+'\\n')"
   ]
  },
  {
   "cell_type": "code",
   "execution_count": 85,
   "metadata": {
    "collapsed": false
   },
   "outputs": [
    {
     "name": "stdout",
     "output_type": "stream",
     "text": [
      "['.DS_Store', '.git', '.gitignore', '.ipynb_checkpoints', 'chromedriver', 'cordis_project_link.txt', 'geckodriver', 'geckodriver.log', 'neurological_disorders.md', 'neurology.csv', 'notes.md', 'README.md', 'scrape_ckan_api.ipynb', 'scrape_cordis.ipynb', 'scraper.py', 'test.txt']\n"
     ]
    }
   ],
   "source": [
    "#import os\n",
    "#print(os.listdir())"
   ]
  },
  {
   "cell_type": "code",
   "execution_count": 97,
   "metadata": {
    "collapsed": false
   },
   "outputs": [],
   "source": [
    "content=[]\n",
    "with open('cordis_project_link.txt', 'r') as urlfile:\n",
    "    for line in urlfile:\n",
    "        #print(line)\n",
    "        navigate_to_page(driver, line)\n",
    "        text = get_project_content(driver)\n",
    "        content.append(text.text)\n",
    "        time.sleep(10)"
   ]
  },
  {
   "cell_type": "code",
   "execution_count": 99,
   "metadata": {
    "collapsed": false
   },
   "outputs": [],
   "source": [
    "with open('cordis_project_content.txt', 'w') as file:\n",
    "    for item in content:\n",
    "        file.write(item+'\\n')"
   ]
  },
  {
   "cell_type": "code",
   "execution_count": 108,
   "metadata": {
    "collapsed": false
   },
   "outputs": [],
   "source": [
    "import io\n",
    "i = 0\n",
    "for i in range(0,len(content)):\n",
    "    with io.open(\"cordis_doc/file_\" + str(i) + \".txt\", 'w', encoding='utf-8') as f:\n",
    "       f.write(content[i])\n",
    "    i=+1"
   ]
  },
  {
   "cell_type": "markdown",
   "metadata": {},
   "source": [
    "Try to see if we can get extended content and save it as one document"
   ]
  },
  {
   "cell_type": "code",
   "execution_count": 109,
   "metadata": {
    "collapsed": false
   },
   "outputs": [
    {
     "ename": "AttributeError",
     "evalue": "'dict' object has no attribute 'append'",
     "output_type": "error",
     "traceback": [
      "\u001b[0;31m---------------------------------------------------------------------------\u001b[0m",
      "\u001b[0;31mAttributeError\u001b[0m                            Traceback (most recent call last)",
      "\u001b[0;32m<ipython-input-109-7cd0e1ef8e22>\u001b[0m in \u001b[0;36m<module>\u001b[0;34m()\u001b[0m\n\u001b[1;32m      5\u001b[0m         \u001b[0mnavigate_to_page\u001b[0m\u001b[0;34m(\u001b[0m\u001b[0mdriver\u001b[0m\u001b[0;34m,\u001b[0m \u001b[0mline\u001b[0m\u001b[0;34m)\u001b[0m\u001b[0;34m\u001b[0m\u001b[0m\n\u001b[1;32m      6\u001b[0m         \u001b[0mtext\u001b[0m \u001b[0;34m=\u001b[0m \u001b[0mget_all_project_content\u001b[0m\u001b[0;34m(\u001b[0m\u001b[0mdriver\u001b[0m\u001b[0;34m)\u001b[0m\u001b[0;34m\u001b[0m\u001b[0m\n\u001b[0;32m----> 7\u001b[0;31m         \u001b[0mcontent\u001b[0m\u001b[0;34m.\u001b[0m\u001b[0mappend\u001b[0m\u001b[0;34m(\u001b[0m\u001b[0mtext\u001b[0m\u001b[0;34m.\u001b[0m\u001b[0mtext\u001b[0m\u001b[0;34m)\u001b[0m\u001b[0;34m\u001b[0m\u001b[0m\n\u001b[0m\u001b[1;32m      8\u001b[0m         \u001b[0mtime\u001b[0m\u001b[0;34m.\u001b[0m\u001b[0msleep\u001b[0m\u001b[0;34m(\u001b[0m\u001b[0;36m10\u001b[0m\u001b[0;34m)\u001b[0m\u001b[0;34m\u001b[0m\u001b[0m\n",
      "\u001b[0;31mAttributeError\u001b[0m: 'dict' object has no attribute 'append'"
     ]
    }
   ],
   "source": [
    "content={ }\n",
    "with open('cordis_project_link.txt', 'r') as urlfile:\n",
    "    for line in urlfile:\n",
    "        #print(line)\n",
    "        navigate_to_page(driver, line)\n",
    "        text = get_all_project_content(driver)\n",
    "        content.append(text.text)\n",
    "        time.sleep(10)"
   ]
  }
 ],
 "metadata": {
  "kernelspec": {
   "display_name": "Python 3",
   "language": "python",
   "name": "python3"
  },
  "language_info": {
   "codemirror_mode": {
    "name": "ipython",
    "version": 3
   },
   "file_extension": ".py",
   "mimetype": "text/x-python",
   "name": "python",
   "nbconvert_exporter": "python",
   "pygments_lexer": "ipython3",
   "version": "3.6.0"
  }
 },
 "nbformat": 4,
 "nbformat_minor": 2
}

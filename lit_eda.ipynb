{
 "cells": [
  {
   "cell_type": "markdown",
   "metadata": {},
   "source": [
    "# Data exploration of scientific literature on neurological disorders"
   ]
  },
  {
   "cell_type": "code",
   "execution_count": 1,
   "metadata": {},
   "outputs": [],
   "source": [
    "import pandas as pd\n",
    "from nltk import word_tokenize\n",
    "from nltk.stem import PorterStemmer\n",
    "from nltk.corpus import stopwords\n",
    "from sklearn.cluster import KMeans\n",
    "from sklearn.feature_extraction.text import TfidfVectorizer\n",
    "from collections import Counter, defaultdict\n",
    "import numpy as np\n",
    "import string"
   ]
  },
  {
   "cell_type": "code",
   "execution_count": 2,
   "metadata": {},
   "outputs": [],
   "source": [
    "data = pd.read_csv('migraine.csv', index_col = 'date',  parse_dates = True).drop(columns = 'id')"
   ]
  },
  {
   "cell_type": "code",
   "execution_count": 3,
   "metadata": {},
   "outputs": [],
   "source": [
    "total_time = (data.sort_values('date').index[0]-data.sort_values('date').index[-1])"
   ]
  },
  {
   "cell_type": "code",
   "execution_count": 4,
   "metadata": {},
   "outputs": [
    {
     "data": {
      "text/plain": [
       "Timedelta('-2722 days +00:00:00')"
      ]
     },
     "execution_count": 4,
     "metadata": {},
     "output_type": "execute_result"
    }
   ],
   "source": [
    "total_time"
   ]
  },
  {
   "cell_type": "code",
   "execution_count": 5,
   "metadata": {},
   "outputs": [
    {
     "data": {
      "text/html": [
       "<div>\n",
       "<style scoped>\n",
       "    .dataframe tbody tr th:only-of-type {\n",
       "        vertical-align: middle;\n",
       "    }\n",
       "\n",
       "    .dataframe tbody tr th {\n",
       "        vertical-align: top;\n",
       "    }\n",
       "\n",
       "    .dataframe thead th {\n",
       "        text-align: right;\n",
       "    }\n",
       "</style>\n",
       "<table border=\"1\" class=\"dataframe\">\n",
       "  <thead>\n",
       "    <tr style=\"text-align: right;\">\n",
       "      <th></th>\n",
       "      <th>citations</th>\n",
       "      <th>authors</th>\n",
       "      <th>published in</th>\n",
       "      <th>title</th>\n",
       "      <th>abstract</th>\n",
       "    </tr>\n",
       "    <tr>\n",
       "      <th>date</th>\n",
       "      <th></th>\n",
       "      <th></th>\n",
       "      <th></th>\n",
       "      <th></th>\n",
       "      <th></th>\n",
       "    </tr>\n",
       "  </thead>\n",
       "  <tbody>\n",
       "    <tr>\n",
       "      <th>2018-06-28</th>\n",
       "      <td>NaN</td>\n",
       "      <td>Hsiangkuo Yuan, Clinton G Lauritsen, Eric A Ka...</td>\n",
       "      <td>BioDrugs : clinical immunotherapeutics, biopha...</td>\n",
       "      <td>CGRP Monoclonal Antibodies for Migraine: Ratio...</td>\n",
       "      <td>Calcitonin gene-related peptide (CGRP), a neur...</td>\n",
       "    </tr>\n",
       "    <tr>\n",
       "      <th>2018-06-22</th>\n",
       "      <td>NaN</td>\n",
       "      <td>Mariagrazia D'Ippolito, Marco Tramontano, Mari...</td>\n",
       "      <td>The Journal of the American Osteopathic Associ...</td>\n",
       "      <td>Effects of Osteopathic Manipulative Therapy on...</td>\n",
       "      <td>The substantial functional impairment associat...</td>\n",
       "    </tr>\n",
       "    <tr>\n",
       "      <th>2018-06-22</th>\n",
       "      <td>NaN</td>\n",
       "      <td>F Qiu, D D Song, Q F Guo, Q Q Wang, Z W Wang, ...</td>\n",
       "      <td>Zhonghua yi xue za zhi</td>\n",
       "      <td>[Analysis of the clinical features of vestibul...</td>\n",
       "      <td>Conclusions: The vestibular migraine patients ...</td>\n",
       "    </tr>\n",
       "    <tr>\n",
       "      <th>2018-06-19</th>\n",
       "      <td>Cephalalgia. 2000 Jun;20(5):486-508, Neurology...</td>\n",
       "      <td>M de Tommaso, M Delussi</td>\n",
       "      <td>Functional neurology</td>\n",
       "      <td>Nociceptive blink reflex habituation biofeedba...</td>\n",
       "      <td>Reduced habituation of the nociceptive blink r...</td>\n",
       "    </tr>\n",
       "    <tr>\n",
       "      <th>2018-06-18</th>\n",
       "      <td>NaN</td>\n",
       "      <td>Machaon Bonafede, Qian Cai, Katherine Cappell,...</td>\n",
       "      <td>Journal of managed care &amp; specialty pharmacy</td>\n",
       "      <td>Factors Associated with Direct Health Care Cos...</td>\n",
       "      <td>Migraine imposes substantial economic burden o...</td>\n",
       "    </tr>\n",
       "  </tbody>\n",
       "</table>\n",
       "</div>"
      ],
      "text/plain": [
       "                                                    citations  \\\n",
       "date                                                            \n",
       "2018-06-28                                                NaN   \n",
       "2018-06-22                                                NaN   \n",
       "2018-06-22                                                NaN   \n",
       "2018-06-19  Cephalalgia. 2000 Jun;20(5):486-508, Neurology...   \n",
       "2018-06-18                                                NaN   \n",
       "\n",
       "                                                      authors  \\\n",
       "date                                                            \n",
       "2018-06-28  Hsiangkuo Yuan, Clinton G Lauritsen, Eric A Ka...   \n",
       "2018-06-22  Mariagrazia D'Ippolito, Marco Tramontano, Mari...   \n",
       "2018-06-22  F Qiu, D D Song, Q F Guo, Q Q Wang, Z W Wang, ...   \n",
       "2018-06-19                            M de Tommaso, M Delussi   \n",
       "2018-06-18  Machaon Bonafede, Qian Cai, Katherine Cappell,...   \n",
       "\n",
       "                                                 published in  \\\n",
       "date                                                            \n",
       "2018-06-28  BioDrugs : clinical immunotherapeutics, biopha...   \n",
       "2018-06-22  The Journal of the American Osteopathic Associ...   \n",
       "2018-06-22                             Zhonghua yi xue za zhi   \n",
       "2018-06-19                               Functional neurology   \n",
       "2018-06-18       Journal of managed care & specialty pharmacy   \n",
       "\n",
       "                                                        title  \\\n",
       "date                                                            \n",
       "2018-06-28  CGRP Monoclonal Antibodies for Migraine: Ratio...   \n",
       "2018-06-22  Effects of Osteopathic Manipulative Therapy on...   \n",
       "2018-06-22  [Analysis of the clinical features of vestibul...   \n",
       "2018-06-19  Nociceptive blink reflex habituation biofeedba...   \n",
       "2018-06-18  Factors Associated with Direct Health Care Cos...   \n",
       "\n",
       "                                                     abstract  \n",
       "date                                                           \n",
       "2018-06-28  Calcitonin gene-related peptide (CGRP), a neur...  \n",
       "2018-06-22  The substantial functional impairment associat...  \n",
       "2018-06-22  Conclusions: The vestibular migraine patients ...  \n",
       "2018-06-19  Reduced habituation of the nociceptive blink r...  \n",
       "2018-06-18  Migraine imposes substantial economic burden o...  "
      ]
     },
     "execution_count": 5,
     "metadata": {},
     "output_type": "execute_result"
    }
   ],
   "source": [
    "data.head()"
   ]
  },
  {
   "cell_type": "markdown",
   "metadata": {},
   "source": [
    "### We need network/graph analysis on the authors and the citations"
   ]
  },
  {
   "cell_type": "code",
   "execution_count": 6,
   "metadata": {},
   "outputs": [],
   "source": [
    "data.authors = data.authors.str.split(', ')"
   ]
  },
  {
   "cell_type": "code",
   "execution_count": 7,
   "metadata": {},
   "outputs": [],
   "source": [
    "authors = [l for n in data.authors.tolist() for l in n]"
   ]
  },
  {
   "cell_type": "code",
   "execution_count": 8,
   "metadata": {},
   "outputs": [
    {
     "data": {
      "text/plain": [
       "['Hsiangkuo Yuan',\n",
       " 'Clinton G Lauritsen',\n",
       " 'Eric A Kaiser',\n",
       " 'Stephen D Silberstein',\n",
       " \"Mariagrazia D'Ippolito\",\n",
       " 'Marco Tramontano',\n",
       " 'Maria Gabriella Buzzi',\n",
       " 'F Qiu',\n",
       " 'D D Song',\n",
       " 'Q F Guo']"
      ]
     },
     "execution_count": 8,
     "metadata": {},
     "output_type": "execute_result"
    }
   ],
   "source": [
    "authors[:10]"
   ]
  },
  {
   "cell_type": "code",
   "execution_count": 9,
   "metadata": {},
   "outputs": [],
   "source": [
    "author_count = Counter(authors)"
   ]
  },
  {
   "cell_type": "code",
   "execution_count": 10,
   "metadata": {},
   "outputs": [
    {
     "data": {
      "text/plain": [
       "[('Richard B Lipton', 38),\n",
       " ('Dawn C Buse', 26),\n",
       " ('Peter J Goadsby', 23),\n",
       " ('Messoud Ashina', 17),\n",
       " ('Michael L Reed', 15),\n",
       " ('Tobias Kurth', 15),\n",
       " ('Gisela M Terwindt', 15),\n",
       " ('Todd J Schwedt', 14),\n",
       " ('Michel D Ferrari', 14),\n",
       " ('David W Dodick', 13)]"
      ]
     },
     "execution_count": 10,
     "metadata": {},
     "output_type": "execute_result"
    }
   ],
   "source": [
    "author_count.most_common(10)"
   ]
  },
  {
   "cell_type": "markdown",
   "metadata": {},
   "source": [
    "### Thoughts about what kind of info we need from the abstracts \n",
    "* Visualize how word choice changes over time?\n",
    "* identify key words that are used when a breakthrough is happening or not?\n",
    "  * This seems too complex\n",
    "* look for words like 'treatment' and 'cure'\n",
    "  * changes in these words over time?  \n",
    "  \n",
    "__Authors are never going to publish that they still haven't found a cure. So how do we identify actual progress?__\n"
   ]
  },
  {
   "cell_type": "markdown",
   "metadata": {},
   "source": [
    "These are copied functions to cluster on documents. "
   ]
  },
  {
   "cell_type": "code",
   "execution_count": 11,
   "metadata": {},
   "outputs": [],
   "source": [
    "def process_text(text, stem=True):\n",
    "    \"\"\" Tokenize text and stem words removing punctuation \"\"\"\n",
    "    # text = text.lower()\n",
    "    tokens = word_tokenize(text)\n",
    " \n",
    "    if stem:\n",
    "        stemmer = PorterStemmer()\n",
    "        tokens = [stemmer.stem(t) for t in tokens]\n",
    " \n",
    "    return tokens"
   ]
  },
  {
   "cell_type": "code",
   "execution_count": 12,
   "metadata": {},
   "outputs": [],
   "source": [
    "def cluster_texts(texts, clusters=3):\n",
    "    \"\"\" Transform texts to Tf-Idf coordinates and cluster texts using K-Means \"\"\"\n",
    "    vectorizer = TfidfVectorizer(tokenizer=process_text,\n",
    "                                 stop_words=stopwords.words('english'),\n",
    "                                 max_df=0.6,\n",
    "                                 min_df=0.1,\n",
    "                                 lowercase=True)\n",
    " \n",
    "    tfidf_model = vectorizer.fit_transform(texts)\n",
    "    km_model = KMeans(n_clusters=clusters)\n",
    "    km_model.fit(tfidf_model)\n",
    " \n",
    "    clustering = defaultdict(list)\n",
    " \n",
    "    for idx, label in enumerate(km_model.labels_):\n",
    "        clustering[label].append(idx)\n",
    " \n",
    "    return km_model, tfidf_model, vectorizer.get_feature_names()\n",
    " "
   ]
  },
  {
   "cell_type": "code",
   "execution_count": 13,
   "metadata": {},
   "outputs": [],
   "source": [
    "km_model, tfidf_model, terms = cluster_texts(data.abstract.tolist(), 5)"
   ]
  },
  {
   "cell_type": "code",
   "execution_count": 14,
   "metadata": {},
   "outputs": [
    {
     "data": {
      "text/plain": [
       "'intens'"
      ]
     },
     "execution_count": 14,
     "metadata": {},
     "output_type": "execute_result"
    }
   ],
   "source": [
    "terms[100]"
   ]
  },
  {
   "cell_type": "code",
   "execution_count": 15,
   "metadata": {},
   "outputs": [],
   "source": [
    "from sklearn.decomposition import PCA\n",
    "from sklearn.manifold import TSNE\n",
    "import matplotlib.pyplot as plt"
   ]
  },
  {
   "cell_type": "code",
   "execution_count": 16,
   "metadata": {},
   "outputs": [],
   "source": [
    "# num_seeds = 10\n",
    "max_iterations = 300\n",
    "labels_color_map = {\n",
    "    0: '#20b2aa', 1: '#ff7373', 2: '#ffe4e1', 3: '#005073', 4: '#4d0404',\n",
    "    5: '#ccc0ba', 6: '#4700f9', 7: '#f6f900', 8: '#00f91d', 9: '#da8c49'\n",
    "}\n",
    "pca_num_components = 2\n",
    "tsne_num_components = 2\n"
   ]
  },
  {
   "cell_type": "code",
   "execution_count": 17,
   "metadata": {},
   "outputs": [],
   "source": [
    "labels = km_model.fit_predict(tfidf_model)"
   ]
  },
  {
   "cell_type": "code",
   "execution_count": 18,
   "metadata": {},
   "outputs": [],
   "source": [
    "X = tfidf_model.todense()"
   ]
  },
  {
   "cell_type": "code",
   "execution_count": 19,
   "metadata": {},
   "outputs": [
    {
     "data": {
      "image/png": "[encoded data removed]",
      "text/plain": [
       "<Figure size 432x288 with 1 Axes>"
      ]
     },
     "metadata": {},
     "output_type": "display_data"
    }
   ],
   "source": [
    "reduced_data = PCA(n_components=pca_num_components).fit_transform(X)\n",
    "# print(reduced_data)\n",
    "\n",
    "fig, ax = plt.subplots()\n",
    "for index, instance in enumerate(reduced_data):\n",
    "    # print(instance, index, labels[index])\n",
    "    pca_comp_1, pca_comp_2 = reduced_data[index]\n",
    "    color = labels_color_map[labels[index]]\n",
    "    ax.scatter(pca_comp_1, pca_comp_2, c=color)\n",
    "plt.show()"
   ]
  },
  {
   "cell_type": "code",
   "execution_count": 20,
   "metadata": {},
   "outputs": [],
   "source": [
    "# t-SNE plot\n",
    "embeddings = TSNE(learning_rate = 10)\n",
    "Y = embeddings.fit_transform(X)\n"
   ]
  },
  {
   "cell_type": "code",
   "execution_count": 21,
   "metadata": {},
   "outputs": [
    {
     "data": {
      "image/png": "[encoded data removed]",
      "text/plain": [
       "<Figure size 432x288 with 1 Axes>"
      ]
     },
     "metadata": {},
     "output_type": "display_data"
    }
   ],
   "source": [
    "plt.scatter(Y[:, 0], Y[:, 1], c = labels)\n",
    "plt.show()"
   ]
  },
  {
   "cell_type": "code",
   "execution_count": 22,
   "metadata": {},
   "outputs": [],
   "source": [
    "data['labels'] = labels"
   ]
  },
  {
   "cell_type": "code",
   "execution_count": 34,
   "metadata": {},
   "outputs": [
    {
     "data": {
      "text/html": [
       "<div>\n",
       "<style scoped>\n",
       "    .dataframe tbody tr th:only-of-type {\n",
       "        vertical-align: middle;\n",
       "    }\n",
       "\n",
       "    .dataframe tbody tr th {\n",
       "        vertical-align: top;\n",
       "    }\n",
       "\n",
       "    .dataframe thead th {\n",
       "        text-align: right;\n",
       "    }\n",
       "</style>\n",
       "<table border=\"1\" class=\"dataframe\">\n",
       "  <thead>\n",
       "    <tr style=\"text-align: right;\">\n",
       "      <th></th>\n",
       "      <th>citations</th>\n",
       "      <th>authors</th>\n",
       "      <th>published in</th>\n",
       "      <th>title</th>\n",
       "      <th>abstract</th>\n",
       "      <th>labels</th>\n",
       "    </tr>\n",
       "    <tr>\n",
       "      <th>date</th>\n",
       "      <th></th>\n",
       "      <th></th>\n",
       "      <th></th>\n",
       "      <th></th>\n",
       "      <th></th>\n",
       "      <th></th>\n",
       "    </tr>\n",
       "  </thead>\n",
       "  <tbody>\n",
       "    <tr>\n",
       "      <th>2018-06-28</th>\n",
       "      <td>NaN</td>\n",
       "      <td>[Hsiangkuo Yuan, Clinton G Lauritsen, Eric A K...</td>\n",
       "      <td>BioDrugs : clinical immunotherapeutics, biopha...</td>\n",
       "      <td>CGRP Monoclonal Antibodies for Migraine: Ratio...</td>\n",
       "      <td>Calcitonin gene-related peptide (CGRP), a neur...</td>\n",
       "      <td>2</td>\n",
       "    </tr>\n",
       "    <tr>\n",
       "      <th>2018-06-22</th>\n",
       "      <td>NaN</td>\n",
       "      <td>[Mariagrazia D'Ippolito, Marco Tramontano, Mar...</td>\n",
       "      <td>The Journal of the American Osteopathic Associ...</td>\n",
       "      <td>Effects of Osteopathic Manipulative Therapy on...</td>\n",
       "      <td>The substantial functional impairment associat...</td>\n",
       "      <td>4</td>\n",
       "    </tr>\n",
       "    <tr>\n",
       "      <th>2018-06-22</th>\n",
       "      <td>NaN</td>\n",
       "      <td>[F Qiu, D D Song, Q F Guo, Q Q Wang, Z W Wang,...</td>\n",
       "      <td>Zhonghua yi xue za zhi</td>\n",
       "      <td>[Analysis of the clinical features of vestibul...</td>\n",
       "      <td>Conclusions: The vestibular migraine patients ...</td>\n",
       "      <td>2</td>\n",
       "    </tr>\n",
       "    <tr>\n",
       "      <th>2018-06-19</th>\n",
       "      <td>Cephalalgia. 2000 Jun;20(5):486-508, Neurology...</td>\n",
       "      <td>[M de Tommaso, M Delussi]</td>\n",
       "      <td>Functional neurology</td>\n",
       "      <td>Nociceptive blink reflex habituation biofeedba...</td>\n",
       "      <td>Reduced habituation of the nociceptive blink r...</td>\n",
       "      <td>0</td>\n",
       "    </tr>\n",
       "    <tr>\n",
       "      <th>2018-06-18</th>\n",
       "      <td>NaN</td>\n",
       "      <td>[Machaon Bonafede, Qian Cai, Katherine Cappell...</td>\n",
       "      <td>Journal of managed care &amp; specialty pharmacy</td>\n",
       "      <td>Factors Associated with Direct Health Care Cos...</td>\n",
       "      <td>Migraine imposes substantial economic burden o...</td>\n",
       "      <td>4</td>\n",
       "    </tr>\n",
       "  </tbody>\n",
       "</table>\n",
       "</div>"
      ],
      "text/plain": [
       "                                                    citations  \\\n",
       "date                                                            \n",
       "2018-06-28                                                NaN   \n",
       "2018-06-22                                                NaN   \n",
       "2018-06-22                                                NaN   \n",
       "2018-06-19  Cephalalgia. 2000 Jun;20(5):486-508, Neurology...   \n",
       "2018-06-18                                                NaN   \n",
       "\n",
       "                                                      authors  \\\n",
       "date                                                            \n",
       "2018-06-28  [Hsiangkuo Yuan, Clinton G Lauritsen, Eric A K...   \n",
       "2018-06-22  [Mariagrazia D'Ippolito, Marco Tramontano, Mar...   \n",
       "2018-06-22  [F Qiu, D D Song, Q F Guo, Q Q Wang, Z W Wang,...   \n",
       "2018-06-19                          [M de Tommaso, M Delussi]   \n",
       "2018-06-18  [Machaon Bonafede, Qian Cai, Katherine Cappell...   \n",
       "\n",
       "                                                 published in  \\\n",
       "date                                                            \n",
       "2018-06-28  BioDrugs : clinical immunotherapeutics, biopha...   \n",
       "2018-06-22  The Journal of the American Osteopathic Associ...   \n",
       "2018-06-22                             Zhonghua yi xue za zhi   \n",
       "2018-06-19                               Functional neurology   \n",
       "2018-06-18       Journal of managed care & specialty pharmacy   \n",
       "\n",
       "                                                        title  \\\n",
       "date                                                            \n",
       "2018-06-28  CGRP Monoclonal Antibodies for Migraine: Ratio...   \n",
       "2018-06-22  Effects of Osteopathic Manipulative Therapy on...   \n",
       "2018-06-22  [Analysis of the clinical features of vestibul...   \n",
       "2018-06-19  Nociceptive blink reflex habituation biofeedba...   \n",
       "2018-06-18  Factors Associated with Direct Health Care Cos...   \n",
       "\n",
       "                                                     abstract  labels  \n",
       "date                                                                   \n",
       "2018-06-28  Calcitonin gene-related peptide (CGRP), a neur...       2  \n",
       "2018-06-22  The substantial functional impairment associat...       4  \n",
       "2018-06-22  Conclusions: The vestibular migraine patients ...       2  \n",
       "2018-06-19  Reduced habituation of the nociceptive blink r...       0  \n",
       "2018-06-18  Migraine imposes substantial economic burden o...       4  "
      ]
     },
     "execution_count": 34,
     "metadata": {},
     "output_type": "execute_result"
    }
   ],
   "source": [
    "data.head(5)"
   ]
  },
  {
   "cell_type": "code",
   "execution_count": 24,
   "metadata": {},
   "outputs": [],
   "source": [
    "data_s = data.sort_values(by = 'labels', axis = 0)"
   ]
  },
  {
   "cell_type": "code",
   "execution_count": 25,
   "metadata": {},
   "outputs": [],
   "source": [
    "def mode(row):\n",
    "    names = [l for n in row.authors.tolist() for l in n]\n",
    "    mc = Counter(names).most_common(2)\n",
    "    return list([mc])"
   ]
  },
  {
   "cell_type": "code",
   "execution_count": 26,
   "metadata": {},
   "outputs": [
    {
     "data": {
      "text/plain": [
       "labels\n",
       "0    [(Richard B Lipton, 12), (Stephen D Silberstei...\n",
       "1             [(Dawn C Buse, 5), (Sepideh F Varon, 5)]\n",
       "2          [(Peter J Goadsby, 9), (Messoud Ashina, 8)]\n",
       "3     [(Richard B Lipton, 11), (Catherine D Chong, 7)]\n",
       "4      [(Michelle A Williams, 7), (B Lee Peterlin, 6)]\n",
       "Name: authors, dtype: object"
      ]
     },
     "execution_count": 26,
     "metadata": {},
     "output_type": "execute_result"
    }
   ],
   "source": [
    "data_s.groupby(by = 'labels').agg(mode)['authors']"
   ]
  },
  {
   "cell_type": "markdown",
   "metadata": {},
   "source": [
    "## Use a journal ranking metric for finding fraction of papers in top journals"
   ]
  },
  {
   "cell_type": "code",
   "execution_count": 27,
   "metadata": {},
   "outputs": [],
   "source": [
    "journals = data_s['published in'].tolist()"
   ]
  },
  {
   "cell_type": "code",
   "execution_count": 28,
   "metadata": {},
   "outputs": [],
   "source": [
    "scimago = pd.read_excel('scimagojr 2017  Subject Category - Neurology (clinical).xlsx')"
   ]
  },
  {
   "cell_type": "markdown",
   "metadata": {},
   "source": [
    "SJR is 'scimago journal rankings'\n",
    "let's say a publication in a top-ranking journal is more likely to be a breakthrough.\n",
    "take the top, say, 15 journals from the 'neurology' SJR and add 'Science', 'Nature', 'New England Journal of Medicine', 'Cell', 'Nature Medicine' (more?)"
   ]
  },
  {
   "cell_type": "code",
   "execution_count": 29,
   "metadata": {},
   "outputs": [],
   "source": [
    "top_neur_jr = scimago.Title[scimago.SJR > 3].tolist()"
   ]
  },
  {
   "cell_type": "code",
   "execution_count": 30,
   "metadata": {},
   "outputs": [],
   "source": [
    "top_neur_jr.extend(['Science', 'Nature', 'Cell', 'Nature Medicine', 'New England Journal of Medicine'])"
   ]
  },
  {
   "cell_type": "code",
   "execution_count": 31,
   "metadata": {},
   "outputs": [
    {
     "data": {
      "text/plain": [
       "['The Lancet Neurology',\n",
       " 'Acta Neuropathologica',\n",
       " 'Brain',\n",
       " 'Annals of Neurology',\n",
       " 'Nature Reviews Neurology',\n",
       " 'JAMA Neurology',\n",
       " \"Alzheimer's and Dementia\",\n",
       " 'Neuro-Oncology',\n",
       " 'Stroke',\n",
       " 'Molecular Neurodegeneration',\n",
       " 'Neurology',\n",
       " 'Sleep Medicine Reviews',\n",
       " 'Journal of Neurology, Neurosurgery and Psychiatry',\n",
       " 'Movement Disorders',\n",
       " 'Neuroscientist',\n",
       " 'Science',\n",
       " 'Nature',\n",
       " 'Cell',\n",
       " 'Nature Medicine',\n",
       " 'New England Journal of Medicine']"
      ]
     },
     "execution_count": 31,
     "metadata": {},
     "output_type": "execute_result"
    }
   ],
   "source": [
    "top_neur_jr"
   ]
  },
  {
   "cell_type": "code",
   "execution_count": 32,
   "metadata": {},
   "outputs": [],
   "source": [
    "def in_top_jr(row):\n",
    "    return row in top_neur_jr"
   ]
  },
  {
   "cell_type": "code",
   "execution_count": 33,
   "metadata": {},
   "outputs": [
    {
     "data": {
      "text/plain": [
       "15"
      ]
     },
     "execution_count": 33,
     "metadata": {},
     "output_type": "execute_result"
    }
   ],
   "source": [
    "data_s['published in'].apply(in_top_jr).sum()"
   ]
  }
 ],
 "metadata": {
  "kernelspec": {
   "display_name": "Python 3",
   "language": "python",
   "name": "python3"
  },
  "language_info": {
   "codemirror_mode": {
    "name": "ipython",
    "version": 3
   },
   "file_extension": ".py",
   "mimetype": "text/x-python",
   "name": "python",
   "nbconvert_exporter": "python",
   "pygments_lexer": "ipython3",
   "version": "3.5.5"
  }
 },
 "nbformat": 4,
 "nbformat_minor": 2
}

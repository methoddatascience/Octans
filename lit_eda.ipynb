{
 "cells": [
  {
   "cell_type": "markdown",
   "metadata": {},
   "source": [
    "# Data exploration of scientific literature on neurological disorders"
   ]
  },
  {
   "cell_type": "code",
   "execution_count": 1,
   "metadata": {},
   "outputs": [],
   "source": [
    "import pandas as pd\n",
    "from nltk import word_tokenize\n",
    "from nltk.stem import PorterStemmer\n",
    "from nltk.corpus import stopwords\n",
    "from sklearn.cluster import KMeans\n",
    "from sklearn.feature_extraction.text import TfidfVectorizer\n",
    "from collections import Counter, defaultdict\n",
    "import numpy as np\n",
    "import string"
   ]
  },
  {
   "cell_type": "code",
   "execution_count": 2,
   "metadata": {},
   "outputs": [],
   "source": [
    "data = pd.read_csv('alzheimer.csv', index_col = 'date',  parse_dates = True).drop(columns = 'id')"
   ]
  },
  {
   "cell_type": "code",
   "execution_count": 3,
   "metadata": {},
   "outputs": [
    {
     "data": {
      "text/html": [
       "<div>\n",
       "<style scoped>\n",
       "    .dataframe tbody tr th:only-of-type {\n",
       "        vertical-align: middle;\n",
       "    }\n",
       "\n",
       "    .dataframe tbody tr th {\n",
       "        vertical-align: top;\n",
       "    }\n",
       "\n",
       "    .dataframe thead th {\n",
       "        text-align: right;\n",
       "    }\n",
       "</style>\n",
       "<table border=\"1\" class=\"dataframe\">\n",
       "  <thead>\n",
       "    <tr style=\"text-align: right;\">\n",
       "      <th></th>\n",
       "      <th>title</th>\n",
       "      <th>published in</th>\n",
       "      <th>citations</th>\n",
       "      <th>authors</th>\n",
       "      <th>abstract</th>\n",
       "    </tr>\n",
       "    <tr>\n",
       "      <th>date</th>\n",
       "      <th></th>\n",
       "      <th></th>\n",
       "      <th></th>\n",
       "      <th></th>\n",
       "      <th></th>\n",
       "    </tr>\n",
       "  </thead>\n",
       "  <tbody>\n",
       "    <tr>\n",
       "      <th>2018-06-11</th>\n",
       "      <td>Intranetwork and internetwork connectivity in ...</td>\n",
       "      <td>Journal of psychiatry &amp; neuroscience : JPN</td>\n",
       "      <td>Neurology. 2007 Mar 13;68(11):828-36, Brain. 2...</td>\n",
       "      <td>Marina Weiler, Brunno Machado de Campos, Camil...</td>\n",
       "      <td>In the last decade, many studies have reported...</td>\n",
       "    </tr>\n",
       "    <tr>\n",
       "      <th>2018-06-08</th>\n",
       "      <td>Identifying key genes, pathways and screening ...</td>\n",
       "      <td>Medicine</td>\n",
       "      <td>NaN</td>\n",
       "      <td>JunJun Ling, Shengyou Yang, Yi Huang, Dongfeng...</td>\n",
       "      <td>Alzheimer disease (AD) is a progressive neurod...</td>\n",
       "    </tr>\n",
       "    <tr>\n",
       "      <th>2018-06-05</th>\n",
       "      <td>Education-Adjusted Normality Thresholds for FD...</td>\n",
       "      <td>Neuro-degenerative diseases</td>\n",
       "      <td>NaN</td>\n",
       "      <td>Ismini C Mainta, Sara Trombella, Silvia Morbel...</td>\n",
       "      <td>A corollary of the reserve hypothesis is that ...</td>\n",
       "    </tr>\n",
       "    <tr>\n",
       "      <th>2018-06-04</th>\n",
       "      <td>Nanotechnology for Alzheimer Disease.</td>\n",
       "      <td>Current Alzheimer research</td>\n",
       "      <td>NaN</td>\n",
       "      <td>Jerzy Leszek, Ghulam Md Ashraf, Wai Hei Tse, J...</td>\n",
       "      <td>Alzheimer disease (AD) typically affects behav...</td>\n",
       "    </tr>\n",
       "    <tr>\n",
       "      <th>2018-06-04</th>\n",
       "      <td>Is VEGF a Key Target of Cotinine and Other Pot...</td>\n",
       "      <td>Current Alzheimer research</td>\n",
       "      <td>NaN</td>\n",
       "      <td>Valentina Echeverria, George E Barreto, Marco ...</td>\n",
       "      <td>The vascular endothelial growth factor (VEGF) ...</td>\n",
       "    </tr>\n",
       "  </tbody>\n",
       "</table>\n",
       "</div>"
      ],
      "text/plain": [
       "                                                        title  \\\n",
       "date                                                            \n",
       "2018-06-11  Intranetwork and internetwork connectivity in ...   \n",
       "2018-06-08  Identifying key genes, pathways and screening ...   \n",
       "2018-06-05  Education-Adjusted Normality Thresholds for FD...   \n",
       "2018-06-04              Nanotechnology for Alzheimer Disease.   \n",
       "2018-06-04  Is VEGF a Key Target of Cotinine and Other Pot...   \n",
       "\n",
       "                                          published in  \\\n",
       "date                                                     \n",
       "2018-06-11  Journal of psychiatry & neuroscience : JPN   \n",
       "2018-06-08                                    Medicine   \n",
       "2018-06-05                 Neuro-degenerative diseases   \n",
       "2018-06-04                  Current Alzheimer research   \n",
       "2018-06-04                  Current Alzheimer research   \n",
       "\n",
       "                                                    citations  \\\n",
       "date                                                            \n",
       "2018-06-11  Neurology. 2007 Mar 13;68(11):828-36, Brain. 2...   \n",
       "2018-06-08                                                NaN   \n",
       "2018-06-05                                                NaN   \n",
       "2018-06-04                                                NaN   \n",
       "2018-06-04                                                NaN   \n",
       "\n",
       "                                                      authors  \\\n",
       "date                                                            \n",
       "2018-06-11  Marina Weiler, Brunno Machado de Campos, Camil...   \n",
       "2018-06-08  JunJun Ling, Shengyou Yang, Yi Huang, Dongfeng...   \n",
       "2018-06-05  Ismini C Mainta, Sara Trombella, Silvia Morbel...   \n",
       "2018-06-04  Jerzy Leszek, Ghulam Md Ashraf, Wai Hei Tse, J...   \n",
       "2018-06-04  Valentina Echeverria, George E Barreto, Marco ...   \n",
       "\n",
       "                                                     abstract  \n",
       "date                                                           \n",
       "2018-06-11  In the last decade, many studies have reported...  \n",
       "2018-06-08  Alzheimer disease (AD) is a progressive neurod...  \n",
       "2018-06-05  A corollary of the reserve hypothesis is that ...  \n",
       "2018-06-04  Alzheimer disease (AD) typically affects behav...  \n",
       "2018-06-04  The vascular endothelial growth factor (VEGF) ...  "
      ]
     },
     "execution_count": 3,
     "metadata": {},
     "output_type": "execute_result"
    }
   ],
   "source": [
    "data.head()"
   ]
  },
  {
   "cell_type": "code",
   "execution_count": 4,
   "metadata": {},
   "outputs": [],
   "source": [
    "total_time = (data.index[0]-data.index[-1])"
   ]
  },
  {
   "cell_type": "code",
   "execution_count": 5,
   "metadata": {},
   "outputs": [
    {
     "data": {
      "text/plain": [
       "Timedelta('2448 days 00:00:00')"
      ]
     },
     "execution_count": 5,
     "metadata": {},
     "output_type": "execute_result"
    }
   ],
   "source": [
    "total_time"
   ]
  },
  {
   "cell_type": "markdown",
   "metadata": {},
   "source": [
    "### We need network/graph analysis on the authors and the citations"
   ]
  },
  {
   "cell_type": "code",
   "execution_count": 6,
   "metadata": {},
   "outputs": [],
   "source": [
    "data.authors = data.authors.fillna('')"
   ]
  },
  {
   "cell_type": "code",
   "execution_count": 7,
   "metadata": {},
   "outputs": [],
   "source": [
    "data.authors = data.authors.str.split(', ')"
   ]
  },
  {
   "cell_type": "code",
   "execution_count": 8,
   "metadata": {},
   "outputs": [],
   "source": [
    "authors = [l for n in data.authors.tolist() for l in n]"
   ]
  },
  {
   "cell_type": "code",
   "execution_count": 9,
   "metadata": {},
   "outputs": [
    {
     "data": {
      "text/plain": [
       "['Marina Weiler',\n",
       " 'Brunno Machado de Campos',\n",
       " 'Camila Vieira de Ligo Teixeira',\n",
       " 'Raphael Fernandes Casseb',\n",
       " 'Ana Flávia Mac Knight Carletti-Cassani',\n",
       " 'Jéssica Elias Vicentini',\n",
       " 'Thamires Naela Cardoso Magalhães',\n",
       " 'Leda Leme Talib',\n",
       " 'Orestes Vicente Forlenza',\n",
       " 'Marcio Luiz Figueredo Balthazar']"
      ]
     },
     "execution_count": 9,
     "metadata": {},
     "output_type": "execute_result"
    }
   ],
   "source": [
    "authors[:10]"
   ]
  },
  {
   "cell_type": "code",
   "execution_count": 10,
   "metadata": {},
   "outputs": [],
   "source": [
    "author_count = Counter(authors)"
   ]
  },
  {
   "cell_type": "code",
   "execution_count": 11,
   "metadata": {},
   "outputs": [
    {
     "data": {
      "text/plain": [
       "[('John C Morris', 25),\n",
       " ('Anne M Fagan', 19),\n",
       " ('Reisa A Sperling', 16),\n",
       " ('Richard Mayeux', 11),\n",
       " ('Kaj Blennow', 11),\n",
       " ('Nigel J Cairns', 11),\n",
       " ('Bradley T Hyman', 10),\n",
       " ('Alison M Goate', 10),\n",
       " ('Keith A Johnson', 10),\n",
       " ('Tammie L S Benzinger', 10)]"
      ]
     },
     "execution_count": 11,
     "metadata": {},
     "output_type": "execute_result"
    }
   ],
   "source": [
    "author_count.most_common(10)"
   ]
  },
  {
   "cell_type": "markdown",
   "metadata": {},
   "source": [
    "### Thoughts about what kind of info we need from the abstracts \n",
    "* Visualize how word choice changes over time?\n",
    "* identify key words that are used when a breakthrough is happening or not?\n",
    "  * This seems too complex\n",
    "* look for words like 'treatment' and 'cure'\n",
    "  * changes in these words over time?  \n",
    "  \n",
    "__Authors are never going to publish that they still haven't found a cure. So how do we identify actual progress?__\n"
   ]
  },
  {
   "cell_type": "markdown",
   "metadata": {},
   "source": [
    "These are copied functions to cluster on documents. "
   ]
  },
  {
   "cell_type": "code",
   "execution_count": 12,
   "metadata": {},
   "outputs": [],
   "source": [
    "def process_text(text, stem=True):\n",
    "    \"\"\" Tokenize text and stem words removing punctuation \"\"\"\n",
    "    # text = text.lower()\n",
    "    tokens = word_tokenize(text)\n",
    " \n",
    "    if stem:\n",
    "        stemmer = PorterStemmer()\n",
    "        tokens = [stemmer.stem(t) for t in tokens]\n",
    " \n",
    "    return tokens"
   ]
  },
  {
   "cell_type": "code",
   "execution_count": 13,
   "metadata": {},
   "outputs": [],
   "source": [
    "def cluster_texts(texts, clusters=3):\n",
    "    \"\"\" Transform texts to Tf-Idf coordinates and cluster texts using K-Means \"\"\"\n",
    "    vectorizer = TfidfVectorizer(tokenizer=process_text,\n",
    "                                 stop_words=stopwords.words('english'),\n",
    "                                 max_df=0.6,\n",
    "                                 min_df=0.1,\n",
    "                                 lowercase=True)\n",
    " \n",
    "    tfidf_model = vectorizer.fit_transform(texts)\n",
    "    km_model = KMeans(n_clusters=clusters)\n",
    "    km_model.fit(tfidf_model)\n",
    " \n",
    "    clustering = defaultdict(list)\n",
    " \n",
    "    for idx, label in enumerate(km_model.labels_):\n",
    "        clustering[label].append(idx)\n",
    " \n",
    "    return km_model, tfidf_model, vectorizer.get_feature_names()\n",
    " "
   ]
  },
  {
   "cell_type": "code",
   "execution_count": 14,
   "metadata": {},
   "outputs": [],
   "source": [
    "# import nltk\n",
    "# nltk.download('punkt')"
   ]
  },
  {
   "cell_type": "code",
   "execution_count": 15,
   "metadata": {},
   "outputs": [],
   "source": [
    "km_model, tfidf_model, terms = cluster_texts(data.abstract.tolist(), 5)"
   ]
  },
  {
   "cell_type": "code",
   "execution_count": 16,
   "metadata": {},
   "outputs": [
    {
     "data": {
      "text/plain": [
       "'mechan'"
      ]
     },
     "execution_count": 16,
     "metadata": {},
     "output_type": "execute_result"
    }
   ],
   "source": [
    "terms[100]"
   ]
  },
  {
   "cell_type": "code",
   "execution_count": 17,
   "metadata": {},
   "outputs": [],
   "source": [
    "from sklearn.decomposition import PCA\n",
    "from sklearn.manifold import TSNE\n",
    "import matplotlib.pyplot as plt"
   ]
  },
  {
   "cell_type": "code",
   "execution_count": 18,
   "metadata": {},
   "outputs": [],
   "source": [
    "# num_seeds = 10\n",
    "max_iterations = 300\n",
    "labels_color_map = {\n",
    "    0: '#20b2aa', 1: '#ff7373', 2: '#ffe4e1', 3: '#005073', 4: '#4d0404',\n",
    "    5: '#ccc0ba', 6: '#4700f9', 7: '#f6f900', 8: '#00f91d', 9: '#da8c49'\n",
    "}\n",
    "pca_num_components = 2\n",
    "tsne_num_components = 2\n"
   ]
  },
  {
   "cell_type": "code",
   "execution_count": 19,
   "metadata": {},
   "outputs": [],
   "source": [
    "labels = km_model.fit_predict(tfidf_model)"
   ]
  },
  {
   "cell_type": "code",
   "execution_count": 20,
   "metadata": {},
   "outputs": [],
   "source": [
    "X = tfidf_model.todense()"
   ]
  },
  {
   "cell_type": "code",
   "execution_count": 21,
   "metadata": {},
   "outputs": [
    {
     "data": {
      "image/png": "[encoded data removed]",
      "text/plain": [
       "<matplotlib.figure.Figure at 0x7f0a4a505dd8>"
      ]
     },
     "metadata": {},
     "output_type": "display_data"
    }
   ],
   "source": [
    "reduced_data = PCA(n_components=pca_num_components).fit_transform(X)\n",
    "# print(reduced_data)\n",
    "\n",
    "fig, ax = plt.subplots()\n",
    "for index, instance in enumerate(reduced_data):\n",
    "    # print(instance, index, labels[index])\n",
    "    pca_comp_1, pca_comp_2 = reduced_data[index]\n",
    "    color = labels_color_map[labels[index]]\n",
    "    ax.scatter(pca_comp_1, pca_comp_2, c=color)\n",
    "plt.show()"
   ]
  },
  {
   "cell_type": "code",
   "execution_count": 22,
   "metadata": {},
   "outputs": [],
   "source": [
    "# t-SNE plot\n",
    "embeddings = TSNE(learning_rate = 10)\n",
    "Y = embeddings.fit_transform(X)\n"
   ]
  },
  {
   "cell_type": "code",
   "execution_count": 23,
   "metadata": {},
   "outputs": [
    {
     "data": {
      "image/png": "[encoded data removed]",
      "text/plain": [
       "<matplotlib.figure.Figure at 0x7f0a4a505978>"
      ]
     },
     "metadata": {},
     "output_type": "display_data"
    }
   ],
   "source": [
    "plt.scatter(Y[:, 0], Y[:, 1], c = labels)\n",
    "plt.show()"
   ]
  },
  {
   "cell_type": "code",
   "execution_count": 24,
   "metadata": {},
   "outputs": [],
   "source": [
    "data['labels'] = labels"
   ]
  },
  {
   "cell_type": "code",
   "execution_count": 25,
   "metadata": {},
   "outputs": [],
   "source": [
    "data_s = data.sort_values(by = 'labels', axis = 0)"
   ]
  },
  {
   "cell_type": "code",
   "execution_count": 26,
   "metadata": {},
   "outputs": [],
   "source": [
    "def mode(row):\n",
    "    names = [l for n in row.authors.tolist() for l in n]\n",
    "    mc = Counter(names).most_common(2)\n",
    "    return list([mc])"
   ]
  },
  {
   "cell_type": "code",
   "execution_count": 27,
   "metadata": {},
   "outputs": [
    {
     "data": {
      "text/plain": [
       "labels\n",
       "0          [(Richard Mayeux, 4), (Gjumrakch Aliev, 3)]\n",
       "1            [(Anne M Fagan, 13), (John C Morris, 12)]\n",
       "2            [(John C Morris, 9), (Alison M Goate, 6)]\n",
       "3    [(Michelangelo Bartolo, 2), (Giovanni B Frison...\n",
       "4     [(D Allan Butterfield, 7), (Marzia Perluigi, 4)]\n",
       "Name: authors, dtype: object"
      ]
     },
     "execution_count": 27,
     "metadata": {},
     "output_type": "execute_result"
    }
   ],
   "source": [
    "data_s.groupby(by = 'labels').agg(mode)['authors']"
   ]
  },
  {
   "cell_type": "markdown",
   "metadata": {},
   "source": [
    "## Use a journal ranking metric for finding fraction of papers in top journals"
   ]
  },
  {
   "cell_type": "code",
   "execution_count": 28,
   "metadata": {},
   "outputs": [],
   "source": [
    "journals = data_s['published in'].tolist()"
   ]
  },
  {
   "cell_type": "code",
   "execution_count": 30,
   "metadata": {},
   "outputs": [],
   "source": [
    "scimago = pd.read_excel('scimago/scimagojr 2017  Subject Category - Neurology (clinical).xlsx')"
   ]
  },
  {
   "cell_type": "markdown",
   "metadata": {},
   "source": [
    "SJR is 'scimago journal rankings'\n",
    "let's say a publication in a top-ranking journal is more likely to be a breakthrough.\n",
    "take the top, say, 15 journals from the 'neurology' SJR and add 'Science', 'Nature', 'New England Journal of Medicine', 'Cell', 'Nature Medicine' (more?)"
   ]
  },
  {
   "cell_type": "code",
   "execution_count": 31,
   "metadata": {},
   "outputs": [],
   "source": [
    "top_neur_jr = scimago.Title[scimago.SJR > 3].tolist()"
   ]
  },
  {
   "cell_type": "code",
   "execution_count": 32,
   "metadata": {},
   "outputs": [],
   "source": [
    "top_neur_jr.extend(['Science', 'Nature', 'Cell', 'Nature Medicine', 'New England Journal of Medicine'])"
   ]
  },
  {
   "cell_type": "code",
   "execution_count": 33,
   "metadata": {},
   "outputs": [
    {
     "data": {
      "text/plain": [
       "['The Lancet Neurology',\n",
       " 'Acta Neuropathologica',\n",
       " 'Brain',\n",
       " 'Annals of Neurology',\n",
       " 'Nature Reviews Neurology',\n",
       " 'JAMA Neurology',\n",
       " \"Alzheimer's and Dementia\",\n",
       " 'Neuro-Oncology',\n",
       " 'Stroke',\n",
       " 'Molecular Neurodegeneration',\n",
       " 'Neurology',\n",
       " 'Sleep Medicine Reviews',\n",
       " 'Journal of Neurology, Neurosurgery and Psychiatry',\n",
       " 'Movement Disorders',\n",
       " 'Neuroscientist',\n",
       " 'Science',\n",
       " 'Nature',\n",
       " 'Cell',\n",
       " 'Nature Medicine',\n",
       " 'New England Journal of Medicine']"
      ]
     },
     "execution_count": 33,
     "metadata": {},
     "output_type": "execute_result"
    }
   ],
   "source": [
    "top_neur_jr"
   ]
  },
  {
   "cell_type": "code",
   "execution_count": 34,
   "metadata": {},
   "outputs": [],
   "source": [
    "def in_top_jr(row):\n",
    "    return row in top_neur_jr"
   ]
  },
  {
   "cell_type": "code",
   "execution_count": 35,
   "metadata": {},
   "outputs": [
    {
     "data": {
      "text/plain": [
       "40"
      ]
     },
     "execution_count": 35,
     "metadata": {},
     "output_type": "execute_result"
    }
   ],
   "source": [
    "data_s['published in'].apply(in_top_jr).sum()"
   ]
  },
  {
   "cell_type": "code",
   "execution_count": null,
   "metadata": {},
   "outputs": [],
   "source": []
  }
 ],
 "metadata": {
  "kernelspec": {
   "display_name": "Python 3",
   "language": "python",
   "name": "python3"
  },
  "language_info": {
   "codemirror_mode": {
    "name": "ipython",
    "version": 3
   },
   "file_extension": ".py",
   "mimetype": "text/x-python",
   "name": "python",
   "nbconvert_exporter": "python",
   "pygments_lexer": "ipython3",
   "version": "3.5.5"
  }
 },
 "nbformat": 4,
 "nbformat_minor": 2
}

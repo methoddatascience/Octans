{
 "cells": [
  {
   "cell_type": "markdown",
   "metadata": {},
   "source": [
    "# Build a co-authorship Network\n",
    "\n",
    "The nodes are authors and the edges are co-authorship (undirected). The width of the edge is the frequency of co-authoring. Other modification could be: \n",
    "* color of edge is the year of publication\n",
    "* nodes are colored by publication\n",
    "* nodes are sized by centrality, tenure of authors (if we would have that)"
   ]
  },
  {
   "cell_type": "code",
   "execution_count": 36,
   "metadata": {
    "collapsed": false
   },
   "outputs": [],
   "source": [
    "import scraper as sc\n",
    "import pandas as pd\n",
    "from collections import defaultdict\n",
    "\n",
    "import networkx as nx\n",
    "\n",
    "import pickle as pk\n",
    "import numpy as np\n",
    "from scipy import sparse as sp\n",
    "\n",
    "%matplotlib inline\n",
    "import matplotlib as mpl\n",
    "import matplotlib.pyplot as plt\n",
    "import seaborn as sns"
   ]
  },
  {
   "cell_type": "code",
   "execution_count": 37,
   "metadata": {
    "collapsed": true
   },
   "outputs": [],
   "source": [
    "retmax = 10 \n",
    "email = 'kbohlec@gmail.com'"
   ]
  },
  {
   "cell_type": "code",
   "execution_count": 38,
   "metadata": {
    "collapsed": true
   },
   "outputs": [],
   "source": [
    "def make_query(term, year):\n",
    "    return '({}[Title/Abstract]) AND \\\n",
    "({}[Date - Publication])'\\\n",
    ".format(term, year)"
   ]
  },
  {
   "cell_type": "code",
   "execution_count": 39,
   "metadata": {
    "collapsed": false
   },
   "outputs": [
    {
     "data": {
      "text/plain": [
       "\"(parkinson's[Title/Abstract]) AND (2016[Date - Publication])\""
      ]
     },
     "execution_count": 39,
     "metadata": {},
     "output_type": "execute_result"
    }
   ],
   "source": [
    "make_query('parkinson\\'s', 2016)"
   ]
  },
  {
   "cell_type": "code",
   "execution_count": 40,
   "metadata": {
    "collapsed": false
   },
   "outputs": [
    {
     "name": "stdout",
     "output_type": "stream",
     "text": [
      "There are no citations for article 0\n",
      "\n",
      "There are no citations for article 1\n",
      "\n",
      "There are no citations for article 2\n",
      "\n",
      "There are no citations for article 3\n",
      "\n",
      "There's no abstract for article 3\n",
      "\n",
      "There's no abstract for article 4\n",
      "\n",
      "There's no author info for article 5\n",
      "\n",
      "There are no citations for article 5\n",
      "\n",
      "There are no citations for article 6\n",
      "\n",
      "There are no citations for article 7\n",
      "\n",
      "There are no citations for article 9\n",
      "\n",
      "There are no citations for article 0\n",
      "\n",
      "There are no citations for article 1\n",
      "\n",
      "There are no citations for article 2\n",
      "\n",
      "There are no citations for article 4\n",
      "\n",
      "There are no citations for article 6\n",
      "\n",
      "There are no citations for article 7\n",
      "\n",
      "There are no citations for article 8\n",
      "\n",
      "There are no citations for article 9\n",
      "\n",
      "There are no citations for article 0\n",
      "\n",
      "There are no citations for article 2\n",
      "\n",
      "There are no citations for article 3\n",
      "\n",
      "There are no citations for article 4\n",
      "\n",
      "There are no citations for article 5\n",
      "\n",
      "There are no citations for article 6\n",
      "\n",
      "There are no citations for article 7\n",
      "\n",
      "There are no citations for article 8\n",
      "\n",
      "There are no citations for article 9\n",
      "\n",
      "There are no citations for article 0\n",
      "\n",
      "There are no citations for article 2\n",
      "\n",
      "There are no citations for article 3\n",
      "\n",
      "There are no citations for article 4\n",
      "\n",
      "There are no citations for article 5\n",
      "\n",
      "There are no citations for article 6\n",
      "\n",
      "There are no citations for article 7\n",
      "\n",
      "There are no citations for article 8\n",
      "\n",
      "There are no citations for article 9\n",
      "\n",
      "There are no citations for article 0\n",
      "\n",
      "There are no citations for article 1\n",
      "\n",
      "There are no citations for article 2\n",
      "\n",
      "There are no citations for article 6\n",
      "\n",
      "There are no citations for article 7\n",
      "\n",
      "There are no citations for article 8\n",
      "\n",
      "There are no citations for article 9\n",
      "\n",
      "There are no citations for article 0\n",
      "\n",
      "There are no citations for article 1\n",
      "\n",
      "There are no citations for article 2\n",
      "\n",
      "There's no abstract for article 2\n",
      "\n",
      "There are no citations for article 3\n",
      "\n",
      "There are no citations for article 4\n",
      "\n",
      "There are no citations for article 5\n",
      "\n",
      "There are no citations for article 8\n",
      "\n",
      "There are no citations for article 9\n",
      "\n",
      "There are no citations for article 0\n",
      "\n",
      "There are no citations for article 1\n",
      "\n",
      "There are no citations for article 3\n",
      "\n",
      "There are no citations for article 5\n",
      "\n",
      "There's no abstract for article 6\n",
      "\n",
      "There are no citations for article 7\n",
      "\n",
      "There are no citations for article 8\n",
      "\n",
      "There are no citations for article 9\n",
      "\n",
      "There are no citations for article 1\n",
      "\n",
      "There are no citations for article 2\n",
      "\n",
      "There are no citations for article 3\n",
      "\n",
      "There are no citations for article 4\n",
      "\n",
      "There are no citations for article 6\n",
      "\n",
      "There are no citations for article 9\n",
      "\n",
      "There's no abstract for article 0\n",
      "\n",
      "There are no citations for article 1\n",
      "\n",
      "There are no citations for article 4\n",
      "\n",
      "There are no citations for article 5\n",
      "\n",
      "There are no citations for article 6\n",
      "\n",
      "There are no citations for article 7\n",
      "\n",
      "There are no citations for article 9\n",
      "\n",
      "There are no citations for article 1\n",
      "\n",
      "There are no citations for article 2\n",
      "\n",
      "There are no citations for article 3\n",
      "\n",
      "There are no citations for article 5\n",
      "\n",
      "There are no citations for article 6\n",
      "\n",
      "There are no citations for article 7\n",
      "\n",
      "There are no citations for article 9\n",
      "\n",
      "There are no citations for article 0\n",
      "\n",
      "There are no citations for article 1\n",
      "\n",
      "There are no citations for article 2\n",
      "\n",
      "There are no citations for article 4\n",
      "\n",
      "There are no citations for article 5\n",
      "\n",
      "There are no citations for article 6\n",
      "\n",
      "There are no citations for article 7\n",
      "\n",
      "There are no citations for article 8\n",
      "\n",
      "There are no citations for article 9\n",
      "\n",
      "There are no citations for article 0\n",
      "\n",
      "There are no citations for article 1\n",
      "\n",
      "There are no citations for article 3\n",
      "\n",
      "There are no citations for article 4\n",
      "\n",
      "There are no citations for article 5\n",
      "\n",
      "There are no citations for article 6\n",
      "\n",
      "There are no citations for article 7\n",
      "\n",
      "There are no citations for article 1\n",
      "\n",
      "There are no citations for article 2\n",
      "\n",
      "There's no abstract for article 2\n",
      "\n",
      "There are no citations for article 4\n",
      "\n",
      "There are no citations for article 6\n",
      "\n",
      "There are no citations for article 7\n",
      "\n",
      "There are no citations for article 9\n",
      "\n",
      "There are no citations for article 0\n",
      "\n",
      "There are no citations for article 2\n",
      "\n",
      "There are no citations for article 3\n",
      "\n",
      "There are no citations for article 4\n",
      "\n",
      "There are no citations for article 5\n",
      "\n",
      "There are no citations for article 6\n",
      "\n",
      "There are no citations for article 7\n",
      "\n",
      "There's no abstract for article 7\n",
      "\n",
      "There are no citations for article 8\n",
      "\n",
      "There are no citations for article 9\n",
      "\n",
      "There are no citations for article 0\n",
      "\n",
      "There are no citations for article 2\n",
      "\n",
      "There are no citations for article 3\n",
      "\n",
      "There are no citations for article 5\n",
      "\n",
      "There are no citations for article 6\n",
      "\n",
      "There are no citations for article 7\n",
      "\n",
      "There are no citations for article 9\n",
      "\n",
      "There are no citations for article 1\n",
      "\n",
      "There are no citations for article 2\n",
      "\n",
      "There are no citations for article 3\n",
      "\n",
      "There are no citations for article 6\n",
      "\n",
      "There are no citations for article 7\n",
      "\n",
      "There are no citations for article 8\n",
      "\n",
      "There are no citations for article 9\n",
      "\n",
      "There are no citations for article 1\n",
      "\n",
      "There are no citations for article 4\n",
      "\n",
      "There are no citations for article 6\n",
      "\n",
      "There are no citations for article 7\n",
      "\n",
      "There are no citations for article 8\n",
      "\n",
      "There are no citations for article 9\n",
      "\n",
      "There are no citations for article 0\n",
      "\n",
      "There are no citations for article 3\n",
      "\n",
      "There are no citations for article 4\n",
      "\n",
      "There are no citations for article 6\n",
      "\n",
      "There are no citations for article 9\n",
      "\n",
      "There are no citations for article 0\n",
      "\n",
      "There are no citations for article 1\n",
      "\n",
      "There are no citations for article 2\n",
      "\n",
      "There are no citations for article 3\n",
      "\n",
      "There are no citations for article 4\n",
      "\n",
      "There are no citations for article 5\n",
      "\n",
      "There are no citations for article 6\n",
      "\n",
      "There are no citations for article 7\n",
      "\n",
      "There are no citations for article 8\n",
      "\n",
      "There are no citations for article 9\n",
      "\n"
     ]
    }
   ],
   "source": [
    "# rough, should probably be using a defaultdict here\n",
    "for i, n in enumerate(range(2000,2019,1)):\n",
    "    new_keys = range(i*retmax, (i+1)*retmax)\n",
    "    query = make_query('parkinson\\'s', n)\n",
    "    ap = sc.ArticleParser(retmax, email)\n",
    "    raw_dict = ap.find_term(query)\n",
    "    articles = ap.fetch_info(raw_dict['IdList'])\n",
    "    if i == 0:\n",
    "        parsed_dict = ap.parse_info(articles)\n",
    "    else:\n",
    "        n_parsed_dict = ap.parse_info(articles)\n",
    "        for k in n_parsed_dict.keys():\n",
    "            parsed_dict[new_keys[k]] = n_parsed_dict[k] # add articles from the next year behind the current  "
   ]
  },
  {
   "cell_type": "code",
   "execution_count": 41,
   "metadata": {
    "collapsed": false
   },
   "outputs": [
    {
     "data": {
      "text/html": [
       "<div>\n",
       "<table border=\"1\" class=\"dataframe\">\n",
       "  <thead>\n",
       "    <tr style=\"text-align: right;\">\n",
       "      <th></th>\n",
       "      <th>title</th>\n",
       "      <th>date</th>\n",
       "      <th>authors</th>\n",
       "      <th>published in</th>\n",
       "      <th>citations</th>\n",
       "      <th>abstract</th>\n",
       "    </tr>\n",
       "  </thead>\n",
       "  <tbody>\n",
       "    <tr>\n",
       "      <th>0</th>\n",
       "      <td>Parkinson disease, temporomandibular disorders...</td>\n",
       "      <td>2018-07-19</td>\n",
       "      <td>Merel Verhoeff, Frank Lobbezoo, Peter Wetselaa...</td>\n",
       "      <td>Journal of oral rehabilitation</td>\n",
       "      <td></td>\n",
       "      <td>Even though bruxism and Parkinson's disease (P...</td>\n",
       "    </tr>\n",
       "    <tr>\n",
       "      <th>1</th>\n",
       "      <td>Mode-Selective Raman Imaging of Dopamine-Human...</td>\n",
       "      <td>2018-07-19</td>\n",
       "      <td>Achut Prasad Silwal, H Peter Lu</td>\n",
       "      <td>ACS chemical neuroscience</td>\n",
       "      <td></td>\n",
       "      <td>Dopamine (DA) is the catecholamine neurotransm...</td>\n",
       "    </tr>\n",
       "    <tr>\n",
       "      <th>2</th>\n",
       "      <td>A minimally invasive neurostimulation method f...</td>\n",
       "      <td>2018-07-19</td>\n",
       "      <td>Malbor Asllani, Paul Expert, Timoteo Carletti</td>\n",
       "      <td>PLoS computational biology</td>\n",
       "      <td></td>\n",
       "      <td>Many collective phenomena in Nature emerge fro...</td>\n",
       "    </tr>\n",
       "    <tr>\n",
       "      <th>3</th>\n",
       "      <td>Ubiquitination of alpha-synuclein filaments by...</td>\n",
       "      <td>2018-07-18</td>\n",
       "      <td>Thomas Mund, Masami Masuda-Suzukake, Michel Go...</td>\n",
       "      <td>PloS one</td>\n",
       "      <td></td>\n",
       "      <td>Alpha-synuclein can form beta-sheet filaments,...</td>\n",
       "    </tr>\n",
       "    <tr>\n",
       "      <th>4</th>\n",
       "      <td>Fibroblast Growth Factor 9 Suppresses Striatal...</td>\n",
       "      <td>2018-07-18</td>\n",
       "      <td>Issa Olakunle Yusuf, Pei-Hsun Cheng, Hsiu-Mei ...</td>\n",
       "      <td>Cellular physiology and biochemistry : interna...</td>\n",
       "      <td></td>\n",
       "      <td>Huntington's disease (HD) is a heritable neuro...</td>\n",
       "    </tr>\n",
       "  </tbody>\n",
       "</table>\n",
       "</div>"
      ],
      "text/plain": [
       "                                               title       date  \\\n",
       "0  Parkinson disease, temporomandibular disorders... 2018-07-19   \n",
       "1  Mode-Selective Raman Imaging of Dopamine-Human... 2018-07-19   \n",
       "2  A minimally invasive neurostimulation method f... 2018-07-19   \n",
       "3  Ubiquitination of alpha-synuclein filaments by... 2018-07-18   \n",
       "4  Fibroblast Growth Factor 9 Suppresses Striatal... 2018-07-18   \n",
       "\n",
       "                                             authors  \\\n",
       "0  Merel Verhoeff, Frank Lobbezoo, Peter Wetselaa...   \n",
       "1                    Achut Prasad Silwal, H Peter Lu   \n",
       "2      Malbor Asllani, Paul Expert, Timoteo Carletti   \n",
       "3  Thomas Mund, Masami Masuda-Suzukake, Michel Go...   \n",
       "4  Issa Olakunle Yusuf, Pei-Hsun Cheng, Hsiu-Mei ...   \n",
       "\n",
       "                                        published in citations  \\\n",
       "0                     Journal of oral rehabilitation             \n",
       "1                          ACS chemical neuroscience             \n",
       "2                         PLoS computational biology             \n",
       "3                                           PloS one             \n",
       "4  Cellular physiology and biochemistry : interna...             \n",
       "\n",
       "                                            abstract  \n",
       "0  Even though bruxism and Parkinson's disease (P...  \n",
       "1  Dopamine (DA) is the catecholamine neurotransm...  \n",
       "2  Many collective phenomena in Nature emerge fro...  \n",
       "3  Alpha-synuclein can form beta-sheet filaments,...  \n",
       "4  Huntington's disease (HD) is a heritable neuro...  "
      ]
     },
     "execution_count": 41,
     "metadata": {},
     "output_type": "execute_result"
    }
   ],
   "source": [
    "df = pd.DataFrame.from_dict(parsed_dict, orient = 'index')\n",
    "df.date = pd.to_datetime(df.date)\n",
    "df = df[df.abstract != ''].sort_values(by='date', \n",
    "                                       ascending=0)\\\n",
    "                          .reset_index(drop=True)\n",
    "df.head()"
   ]
  },
  {
   "cell_type": "markdown",
   "metadata": {},
   "source": [
    "## Create network\n",
    "\n",
    "The authors are listed in one cell separated by coma. *Assumption: Author names are correct. Each spelling of a name is a unique author. This is often the wrong assumption to have*.\n",
    "Check about [*Author Name Disambiguation (AND)*](https://www.ncbi.nlm.nih.gov/pmc/articles/PMC5887226/).\n",
    "This [Kaggle Notebook by Yasmin](https://www.kaggle.com/ykhorramz/network-viz-nips-15-co-authorship-network/notebook) is pretty useful. "
   ]
  },
  {
   "cell_type": "code",
   "execution_count": 42,
   "metadata": {
    "collapsed": true
   },
   "outputs": [],
   "source": [
    "plt.style.use('seaborn-whitegrid')\n",
    "\n",
    "title_font = {'size':'18', 'color':'black', 'verticalalignment':'bottom',  'fontstyle':'bold'} \n",
    "axis_font = { 'size':'14'}"
   ]
  },
  {
   "cell_type": "markdown",
   "metadata": {},
   "source": [
    "## Create a data frame with title - authors.\n",
    "\n",
    "Author need to be split at comma"
   ]
  },
  {
   "cell_type": "code",
   "execution_count": 43,
   "metadata": {
    "collapsed": false
   },
   "outputs": [
    {
     "data": {
      "text/html": [
       "<div>\n",
       "<table border=\"1\" class=\"dataframe\">\n",
       "  <thead>\n",
       "    <tr style=\"text-align: right;\">\n",
       "      <th></th>\n",
       "      <th>title</th>\n",
       "      <th>date</th>\n",
       "      <th>authors</th>\n",
       "      <th>published in</th>\n",
       "      <th>citations</th>\n",
       "      <th>abstract</th>\n",
       "    </tr>\n",
       "  </thead>\n",
       "  <tbody>\n",
       "    <tr>\n",
       "      <th>0</th>\n",
       "      <td>Parkinson disease, temporomandibular disorders...</td>\n",
       "      <td>2018-07-19</td>\n",
       "      <td>Merel Verhoeff, Frank Lobbezoo, Peter Wetselaa...</td>\n",
       "      <td>Journal of oral rehabilitation</td>\n",
       "      <td></td>\n",
       "      <td>Even though bruxism and Parkinson's disease (P...</td>\n",
       "    </tr>\n",
       "    <tr>\n",
       "      <th>1</th>\n",
       "      <td>Mode-Selective Raman Imaging of Dopamine-Human...</td>\n",
       "      <td>2018-07-19</td>\n",
       "      <td>Achut Prasad Silwal, H Peter Lu</td>\n",
       "      <td>ACS chemical neuroscience</td>\n",
       "      <td></td>\n",
       "      <td>Dopamine (DA) is the catecholamine neurotransm...</td>\n",
       "    </tr>\n",
       "  </tbody>\n",
       "</table>\n",
       "</div>"
      ],
      "text/plain": [
       "                                               title       date  \\\n",
       "0  Parkinson disease, temporomandibular disorders... 2018-07-19   \n",
       "1  Mode-Selective Raman Imaging of Dopamine-Human... 2018-07-19   \n",
       "\n",
       "                                             authors  \\\n",
       "0  Merel Verhoeff, Frank Lobbezoo, Peter Wetselaa...   \n",
       "1                    Achut Prasad Silwal, H Peter Lu   \n",
       "\n",
       "                     published in citations  \\\n",
       "0  Journal of oral rehabilitation             \n",
       "1       ACS chemical neuroscience             \n",
       "\n",
       "                                            abstract  \n",
       "0  Even though bruxism and Parkinson's disease (P...  \n",
       "1  Dopamine (DA) is the catecholamine neurotransm...  "
      ]
     },
     "execution_count": 43,
     "metadata": {},
     "output_type": "execute_result"
    }
   ],
   "source": [
    "df.head(2)"
   ]
  },
  {
   "cell_type": "code",
   "execution_count": 44,
   "metadata": {
    "collapsed": false
   },
   "outputs": [],
   "source": [
    "# https://gist.github.com/jlln/338b4b0b55bd6984f883\n",
    "\n",
    "def splitDataFrameList(df,target_column,separator):\n",
    "    ''' df = dataframe to split,\n",
    "    target_column = the column containing the values to split\n",
    "    separator = the symbol used to perform the split\n",
    "    returns: a dataframe with each entry for the target column separated, with each element moved into a new row. \n",
    "    The values in the other columns are duplicated across the newly divided rows.\n",
    "    '''\n",
    "    def splitListToRows(row,row_accumulator,target_column,separator):\n",
    "        split_row = row[target_column].split(separator)\n",
    "        for s in split_row:\n",
    "            new_row = row.to_dict()\n",
    "            new_row[target_column] = s\n",
    "            row_accumulator.append(new_row)\n",
    "    new_rows = []\n",
    "    df.apply(splitListToRows,axis=1,args = (new_rows,target_column,separator))\n",
    "    new_df = pd.DataFrame(new_rows)\n",
    "    return new_df"
   ]
  },
  {
   "cell_type": "code",
   "execution_count": 45,
   "metadata": {
    "collapsed": false
   },
   "outputs": [],
   "source": [
    "#splitDataFrameList(df, df['authors'], ',') "
   ]
  },
  {
   "cell_type": "code",
   "execution_count": 46,
   "metadata": {
    "collapsed": true
   },
   "outputs": [],
   "source": [
    "df_split = splitDataFrameList(df, 'authors', ',')"
   ]
  },
  {
   "cell_type": "code",
   "execution_count": 47,
   "metadata": {
    "collapsed": false
   },
   "outputs": [
    {
     "data": {
      "text/html": [
       "<div>\n",
       "<table border=\"1\" class=\"dataframe\">\n",
       "  <thead>\n",
       "    <tr style=\"text-align: right;\">\n",
       "      <th></th>\n",
       "      <th>abstract</th>\n",
       "      <th>authors</th>\n",
       "      <th>citations</th>\n",
       "      <th>date</th>\n",
       "      <th>published in</th>\n",
       "      <th>title</th>\n",
       "    </tr>\n",
       "  </thead>\n",
       "  <tbody>\n",
       "    <tr>\n",
       "      <th>0</th>\n",
       "      <td>Even though bruxism and Parkinson's disease (P...</td>\n",
       "      <td>Merel Verhoeff</td>\n",
       "      <td></td>\n",
       "      <td>2018-07-19</td>\n",
       "      <td>Journal of oral rehabilitation</td>\n",
       "      <td>Parkinson disease, temporomandibular disorders...</td>\n",
       "    </tr>\n",
       "    <tr>\n",
       "      <th>1</th>\n",
       "      <td>Even though bruxism and Parkinson's disease (P...</td>\n",
       "      <td>Frank Lobbezoo</td>\n",
       "      <td></td>\n",
       "      <td>2018-07-19</td>\n",
       "      <td>Journal of oral rehabilitation</td>\n",
       "      <td>Parkinson disease, temporomandibular disorders...</td>\n",
       "    </tr>\n",
       "    <tr>\n",
       "      <th>2</th>\n",
       "      <td>Even though bruxism and Parkinson's disease (P...</td>\n",
       "      <td>Peter Wetselaar</td>\n",
       "      <td></td>\n",
       "      <td>2018-07-19</td>\n",
       "      <td>Journal of oral rehabilitation</td>\n",
       "      <td>Parkinson disease, temporomandibular disorders...</td>\n",
       "    </tr>\n",
       "    <tr>\n",
       "      <th>3</th>\n",
       "      <td>Even though bruxism and Parkinson's disease (P...</td>\n",
       "      <td>Ghizlane Aarab</td>\n",
       "      <td></td>\n",
       "      <td>2018-07-19</td>\n",
       "      <td>Journal of oral rehabilitation</td>\n",
       "      <td>Parkinson disease, temporomandibular disorders...</td>\n",
       "    </tr>\n",
       "    <tr>\n",
       "      <th>4</th>\n",
       "      <td>Even though bruxism and Parkinson's disease (P...</td>\n",
       "      <td>Michail Koutris</td>\n",
       "      <td></td>\n",
       "      <td>2018-07-19</td>\n",
       "      <td>Journal of oral rehabilitation</td>\n",
       "      <td>Parkinson disease, temporomandibular disorders...</td>\n",
       "    </tr>\n",
       "  </tbody>\n",
       "</table>\n",
       "</div>"
      ],
      "text/plain": [
       "                                            abstract           authors  \\\n",
       "0  Even though bruxism and Parkinson's disease (P...    Merel Verhoeff   \n",
       "1  Even though bruxism and Parkinson's disease (P...    Frank Lobbezoo   \n",
       "2  Even though bruxism and Parkinson's disease (P...   Peter Wetselaar   \n",
       "3  Even though bruxism and Parkinson's disease (P...    Ghizlane Aarab   \n",
       "4  Even though bruxism and Parkinson's disease (P...   Michail Koutris   \n",
       "\n",
       "  citations       date                    published in  \\\n",
       "0           2018-07-19  Journal of oral rehabilitation   \n",
       "1           2018-07-19  Journal of oral rehabilitation   \n",
       "2           2018-07-19  Journal of oral rehabilitation   \n",
       "3           2018-07-19  Journal of oral rehabilitation   \n",
       "4           2018-07-19  Journal of oral rehabilitation   \n",
       "\n",
       "                                               title  \n",
       "0  Parkinson disease, temporomandibular disorders...  \n",
       "1  Parkinson disease, temporomandibular disorders...  \n",
       "2  Parkinson disease, temporomandibular disorders...  \n",
       "3  Parkinson disease, temporomandibular disorders...  \n",
       "4  Parkinson disease, temporomandibular disorders...  "
      ]
     },
     "execution_count": 47,
     "metadata": {},
     "output_type": "execute_result"
    }
   ],
   "source": [
    "df_split[0:5]"
   ]
  },
  {
   "cell_type": "markdown",
   "metadata": {},
   "source": [
    "The columns authors - titles in are the basis for the bipartite graph. It's in an edgelist format. Create a bipartite matrix with authors as rows and titles as columns. Then do a 1 mode projection"
   ]
  },
  {
   "cell_type": "code",
   "execution_count": 179,
   "metadata": {
    "collapsed": false
   },
   "outputs": [],
   "source": [
    "B=nx.Graph()\n",
    "B.add_nodes_from(df_split['authors'],bipartite= 'authors')\n",
    "B.add_nodes_from(df_split['title'],bipartite='title')"
   ]
  },
  {
   "cell_type": "code",
   "execution_count": 180,
   "metadata": {
    "collapsed": true
   },
   "outputs": [],
   "source": [
    "B.add_edges_from(\n",
    "    [(row['authors'], row['title']) for idx, row in df_split.iterrows()])"
   ]
  },
  {
   "cell_type": "code",
   "execution_count": 172,
   "metadata": {
    "collapsed": false
   },
   "outputs": [],
   "source": [
    "#print(B.edges(data=True))"
   ]
  },
  {
   "cell_type": "markdown",
   "metadata": {},
   "source": [
    "stupid graph, but testing..."
   ]
  },
  {
   "cell_type": "code",
   "execution_count": 124,
   "metadata": {
    "collapsed": false
   },
   "outputs": [
    {
     "name": "stderr",
     "output_type": "stream",
     "text": [
      "/Users/katerinadoyle/anaconda3/lib/python3.6/site-packages/networkx/drawing/nx_pylab.py:126: MatplotlibDeprecationWarning: pyplot.hold is deprecated.\n",
      "    Future behavior will be consistent with the long-time default:\n",
      "    plot commands add elements without first clearing the\n",
      "    Axes and/or Figure.\n",
      "  b = plt.ishold()\n",
      "/Users/katerinadoyle/anaconda3/lib/python3.6/site-packages/networkx/drawing/nx_pylab.py:522: MatplotlibDeprecationWarning: The is_string_like function was deprecated in version 2.1.\n",
      "  if not cb.is_string_like(edge_color) \\\n",
      "/Users/katerinadoyle/anaconda3/lib/python3.6/site-packages/networkx/drawing/nx_pylab.py:543: MatplotlibDeprecationWarning: The is_string_like function was deprecated in version 2.1.\n",
      "  if cb.is_string_like(edge_color) or len(edge_color) == 1:\n",
      "/Users/katerinadoyle/anaconda3/lib/python3.6/site-packages/networkx/drawing/nx_pylab.py:138: MatplotlibDeprecationWarning: pyplot.hold is deprecated.\n",
      "    Future behavior will be consistent with the long-time default:\n",
      "    plot commands add elements without first clearing the\n",
      "    Axes and/or Figure.\n",
      "  plt.hold(b)\n",
      "/Users/katerinadoyle/anaconda3/lib/python3.6/site-packages/matplotlib/__init__.py:805: MatplotlibDeprecationWarning: axes.hold is deprecated. Please remove it from your matplotlibrc and/or style files.\n",
      "  mplDeprecation)\n",
      "/Users/katerinadoyle/anaconda3/lib/python3.6/site-packages/matplotlib/rcsetup.py:155: MatplotlibDeprecationWarning: axes.hold is deprecated, will be removed in 3.0\n",
      "  mplDeprecation)\n"
     ]
    },
    {
     "data": {
      "image/png": "[encoded data removed]",
      "text/plain": [
       "<matplotlib.figure.Figure at 0x11c5b7390>"
      ]
     },
     "metadata": {},
     "output_type": "display_data"
    }
   ],
   "source": [
    "pos = {node:[0, i] for i,node in enumerate(df_split['authors'])}\n",
    "pos.update({node:[1, i] for i,node in enumerate(df['title'])})\n",
    "nx.draw(B, pos, with_labels=False)\n",
    "for p in pos:  # raise text positions\n",
    "    pos[p][1] += 0.25\n",
    "\n",
    "plt.show()"
   ]
  },
  {
   "cell_type": "markdown",
   "metadata": {},
   "source": [
    "## one mode projection\n",
    "[Data camp tutorial](https://s3.amazonaws.com/assets.datacamp.com/production/course_4015/slides/ch2_slides.pdf)"
   ]
  },
  {
   "cell_type": "code",
   "execution_count": 181,
   "metadata": {
    "collapsed": true
   },
   "outputs": [],
   "source": [
    "auth_nodes = [n for n in B.nodes() if B.node[n] ['bipartite'] == 'authors'] "
   ]
  },
  {
   "cell_type": "code",
   "execution_count": 182,
   "metadata": {
    "collapsed": false
   },
   "outputs": [
    {
     "data": {
      "text/plain": [
       "'Merel Verhoeff'"
      ]
     },
     "execution_count": 182,
     "metadata": {},
     "output_type": "execute_result"
    }
   ],
   "source": [
    "auth_nodes[0]"
   ]
  },
  {
   "cell_type": "code",
   "execution_count": 183,
   "metadata": {
    "collapsed": true
   },
   "outputs": [],
   "source": [
    "G_aut = nx.bipartite.projected_graph(B, auth_nodes) "
   ]
  },
  {
   "cell_type": "markdown",
   "metadata": {},
   "source": [
    "## Create group attribute based on publication"
   ]
  },
  {
   "cell_type": "code",
   "execution_count": 256,
   "metadata": {
    "collapsed": false
   },
   "outputs": [],
   "source": [
    "authors = df_split['authors']\n",
    "pub = df_split['published in']"
   ]
  },
  {
   "cell_type": "code",
   "execution_count": 257,
   "metadata": {
    "collapsed": true
   },
   "outputs": [],
   "source": [
    "group_attr = list(zip(authors, pub))"
   ]
  },
  {
   "cell_type": "code",
   "execution_count": 258,
   "metadata": {
    "collapsed": false
   },
   "outputs": [],
   "source": [
    "group_attr_dict = dict(set(sorted(group_attr)))"
   ]
  },
  {
   "cell_type": "code",
   "execution_count": 261,
   "metadata": {
    "collapsed": false
   },
   "outputs": [],
   "source": [
    "# set nodes attributes\n",
    "nx.set_node_attributes(G_aut, \"authors\", group_attr_dict)"
   ]
  },
  {
   "cell_type": "code",
   "execution_count": 263,
   "metadata": {
    "collapsed": false
   },
   "outputs": [
    {
     "name": "stderr",
     "output_type": "stream",
     "text": [
      "/Users/katerinadoyle/anaconda3/lib/python3.6/site-packages/networkx/drawing/nx_pylab.py:522: MatplotlibDeprecationWarning: The is_string_like function was deprecated in version 2.1.\n",
      "  if not cb.is_string_like(edge_color) \\\n",
      "/Users/katerinadoyle/anaconda3/lib/python3.6/site-packages/networkx/drawing/nx_pylab.py:543: MatplotlibDeprecationWarning: The is_string_like function was deprecated in version 2.1.\n",
      "  if cb.is_string_like(edge_color) or len(edge_color) == 1:\n"
     ]
    },
    {
     "data": {
      "image/png": "[encoded data removed]",
      "text/plain": [
       "<matplotlib.figure.Figure at 0x11d387d68>"
      ]
     },
     "metadata": {},
     "output_type": "display_data"
    }
   ],
   "source": [
    "import matplotlib.pyplot as plt\n",
    "# create number for each group to allow use of colormap\n",
    "from itertools import count\n",
    "# get unique groups\n",
    "groups = set(nx.get_node_attributes(G_aut,'authors').values())\n",
    "mapping = dict(zip(sorted(groups),count()))\n",
    "nodes = G_aut.nodes()\n",
    "colors = [mapping[G_aut.node[n]['authors']] for n in nodes]\n",
    "\n",
    "# drawing nodes and edges separately so we can capture collection for colobar\n",
    "pos = nx.spring_layout(G_aut) # different layout algorithm ? \n",
    "ec = nx.draw_networkx_edges(G_aut, pos, alpha=0.2)\n",
    "nc = nx.draw_networkx_nodes(G_aut, pos, nodelist=nodes, node_color=colors, \n",
    "                            with_labels=False, node_size=100, cmap=plt.cm.jet)\n",
    "plt.colorbar(nc)\n",
    "plt.axis('off')\n",
    "plt.show()"
   ]
  },
  {
   "cell_type": "markdown",
   "metadata": {},
   "source": [
    "## Compute network centrality measures to add to authors dataframe"
   ]
  },
  {
   "cell_type": "code",
   "execution_count": 267,
   "metadata": {
    "collapsed": true
   },
   "outputs": [],
   "source": [
    "'''number of co-authors per member '''\n",
    "node_deg = nx.degree(G_aut) \n",
    "\n",
    "'''normalized number of co-authors ( with what fraction of NIPS authors he wrote a paper) '''\n",
    "deg_cent = nx.degree_centrality(G_aut) \n",
    "\n",
    "'''fraction of the number of times the author appears on the path connecting two other authors '''\n",
    "bet_cent = nx.betweenness_centrality(G_aut)"
   ]
  },
  {
   "cell_type": "code",
   "execution_count": 268,
   "metadata": {
    "collapsed": true
   },
   "outputs": [],
   "source": [
    "# set nodes attributes\n",
    "nx.set_node_attributes(G_aut, \"degree\", node_deg)\n",
    "nx.set_node_attributes(G_aut, \"degree_norm\", deg_cent)\n",
    "nx.set_node_attributes(G_aut, \"betweeness\", bet_cent)"
   ]
  },
  {
   "cell_type": "code",
   "execution_count": 276,
   "metadata": {
    "collapsed": false
   },
   "outputs": [],
   "source": [
    "# sns.countplot(node_deg) how to easily plot the values without transforming it ?"
   ]
  },
  {
   "cell_type": "markdown",
   "metadata": {},
   "source": [
    "Long tail degree distribution. Normal for social networks"
   ]
  },
  {
   "cell_type": "code",
   "execution_count": 277,
   "metadata": {
    "collapsed": false
   },
   "outputs": [
    {
     "name": "stdout",
     "output_type": "stream",
     "text": [
      "The network has 4300 edges, 1053 authors, and a density of 0.00776.\n"
     ]
    }
   ],
   "source": [
    "print(\"The network has {} edges, {} authors, and a density of {:.3}.\".format(G_aut.number_of_edges(), \n",
    "                                                                                       G_aut.number_of_nodes(), \n",
    "                                                                                       nx.density(G_aut)))"
   ]
  }
 ],
 "metadata": {
  "kernelspec": {
   "display_name": "Python 3",
   "language": "python",
   "name": "python3"
  },
  "language_info": {
   "codemirror_mode": {
    "name": "ipython",
    "version": 3
   },
   "file_extension": ".py",
   "mimetype": "text/x-python",
   "name": "python",
   "nbconvert_exporter": "python",
   "pygments_lexer": "ipython3",
   "version": "3.6.0"
  }
 },
 "nbformat": 4,
 "nbformat_minor": 2
}

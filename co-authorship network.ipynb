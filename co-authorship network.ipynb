{
 "cells": [
  {
   "cell_type": "markdown",
   "metadata": {},
   "source": [
    "# Build a co-authorship Network\n",
    "\n",
    "The nodes are authors and the edges are co-authorship (undirected). The width of the edge is the frequency of co-authoring. Other modification could be: \n",
    "* color of edge is the year of publication\n",
    "* nodes are colored by publication\n",
    "* nodes are sized by centrality, tenure of authors (if we would have that)"
   ]
  },
  {
   "cell_type": "code",
   "execution_count": 2,
   "metadata": {
    "collapsed": false
   },
   "outputs": [],
   "source": [
    "import scraper as sc\n",
    "import pandas as pd\n",
    "from collections import defaultdict\n",
    "\n",
    "import networkx as nx\n",
    "\n",
    "import pickle as pk\n",
    "import numpy as np\n",
    "from scipy import sparse as sp\n",
    "\n",
    "%matplotlib inline\n",
    "import matplotlib as mpl\n",
    "import matplotlib.pyplot as plt\n",
    "import seaborn as sns"
   ]
  },
  {
   "cell_type": "code",
   "execution_count": 37,
   "metadata": {
    "collapsed": true
   },
   "outputs": [],
   "source": [
    "retmax = 10 \n",
    "email = 'kbohlec@gmail.com'"
   ]
  },
  {
   "cell_type": "code",
   "execution_count": 38,
   "metadata": {
    "collapsed": true
   },
   "outputs": [],
   "source": [
    "def make_query(term, year):\n",
    "    return '({}[Title/Abstract]) AND \\\n",
    "({}[Date - Publication])'\\\n",
    ".format(term, year)"
   ]
  },
  {
   "cell_type": "code",
   "execution_count": 39,
   "metadata": {
    "collapsed": false
   },
   "outputs": [
    {
     "data": {
      "text/plain": [
       "\"(parkinson's[Title/Abstract]) AND (2016[Date - Publication])\""
      ]
     },
     "execution_count": 39,
     "metadata": {},
     "output_type": "execute_result"
    }
   ],
   "source": [
    "make_query('parkinson\\'s', 2016)"
   ]
  },
  {
   "cell_type": "code",
   "execution_count": 40,
   "metadata": {
    "collapsed": false
   },
   "outputs": [
    {
     "name": "stdout",
     "output_type": "stream",
     "text": [
      "There are no citations for article 0\n",
      "\n",
      "There are no citations for article 1\n",
      "\n",
      "There are no citations for article 2\n",
      "\n",
      "There are no citations for article 3\n",
      "\n",
      "There's no abstract for article 3\n",
      "\n",
      "There's no abstract for article 4\n",
      "\n",
      "There's no author info for article 5\n",
      "\n",
      "There are no citations for article 5\n",
      "\n",
      "There are no citations for article 6\n",
      "\n",
      "There are no citations for article 7\n",
      "\n",
      "There are no citations for article 9\n",
      "\n",
      "There are no citations for article 0\n",
      "\n",
      "There are no citations for article 1\n",
      "\n",
      "There are no citations for article 2\n",
      "\n",
      "There are no citations for article 4\n",
      "\n",
      "There are no citations for article 6\n",
      "\n",
      "There are no citations for article 7\n",
      "\n",
      "There are no citations for article 8\n",
      "\n",
      "There are no citations for article 9\n",
      "\n",
      "There are no citations for article 0\n",
      "\n",
      "There are no citations for article 2\n",
      "\n",
      "There are no citations for article 3\n",
      "\n",
      "There are no citations for article 4\n",
      "\n",
      "There are no citations for article 5\n",
      "\n",
      "There are no citations for article 6\n",
      "\n",
      "There are no citations for article 7\n",
      "\n",
      "There are no citations for article 8\n",
      "\n",
      "There are no citations for article 9\n",
      "\n",
      "There are no citations for article 0\n",
      "\n",
      "There are no citations for article 2\n",
      "\n",
      "There are no citations for article 3\n",
      "\n",
      "There are no citations for article 4\n",
      "\n",
      "There are no citations for article 5\n",
      "\n",
      "There are no citations for article 6\n",
      "\n",
      "There are no citations for article 7\n",
      "\n",
      "There are no citations for article 8\n",
      "\n",
      "There are no citations for article 9\n",
      "\n",
      "There are no citations for article 0\n",
      "\n",
      "There are no citations for article 1\n",
      "\n",
      "There are no citations for article 2\n",
      "\n",
      "There are no citations for article 6\n",
      "\n",
      "There are no citations for article 7\n",
      "\n",
      "There are no citations for article 8\n",
      "\n",
      "There are no citations for article 9\n",
      "\n",
      "There are no citations for article 0\n",
      "\n",
      "There are no citations for article 1\n",
      "\n",
      "There are no citations for article 2\n",
      "\n",
      "There's no abstract for article 2\n",
      "\n",
      "There are no citations for article 3\n",
      "\n",
      "There are no citations for article 4\n",
      "\n",
      "There are no citations for article 5\n",
      "\n",
      "There are no citations for article 8\n",
      "\n",
      "There are no citations for article 9\n",
      "\n",
      "There are no citations for article 0\n",
      "\n",
      "There are no citations for article 1\n",
      "\n",
      "There are no citations for article 3\n",
      "\n",
      "There are no citations for article 5\n",
      "\n",
      "There's no abstract for article 6\n",
      "\n",
      "There are no citations for article 7\n",
      "\n",
      "There are no citations for article 8\n",
      "\n",
      "There are no citations for article 9\n",
      "\n",
      "There are no citations for article 1\n",
      "\n",
      "There are no citations for article 2\n",
      "\n",
      "There are no citations for article 3\n",
      "\n",
      "There are no citations for article 4\n",
      "\n",
      "There are no citations for article 6\n",
      "\n",
      "There are no citations for article 9\n",
      "\n",
      "There's no abstract for article 0\n",
      "\n",
      "There are no citations for article 1\n",
      "\n",
      "There are no citations for article 4\n",
      "\n",
      "There are no citations for article 5\n",
      "\n",
      "There are no citations for article 6\n",
      "\n",
      "There are no citations for article 7\n",
      "\n",
      "There are no citations for article 9\n",
      "\n",
      "There are no citations for article 1\n",
      "\n",
      "There are no citations for article 2\n",
      "\n",
      "There are no citations for article 3\n",
      "\n",
      "There are no citations for article 5\n",
      "\n",
      "There are no citations for article 6\n",
      "\n",
      "There are no citations for article 7\n",
      "\n",
      "There are no citations for article 9\n",
      "\n",
      "There are no citations for article 0\n",
      "\n",
      "There are no citations for article 1\n",
      "\n",
      "There are no citations for article 2\n",
      "\n",
      "There are no citations for article 4\n",
      "\n",
      "There are no citations for article 5\n",
      "\n",
      "There are no citations for article 6\n",
      "\n",
      "There are no citations for article 7\n",
      "\n",
      "There are no citations for article 8\n",
      "\n",
      "There are no citations for article 9\n",
      "\n",
      "There are no citations for article 0\n",
      "\n",
      "There are no citations for article 1\n",
      "\n",
      "There are no citations for article 3\n",
      "\n",
      "There are no citations for article 4\n",
      "\n",
      "There are no citations for article 5\n",
      "\n",
      "There are no citations for article 6\n",
      "\n",
      "There are no citations for article 7\n",
      "\n",
      "There are no citations for article 1\n",
      "\n",
      "There are no citations for article 2\n",
      "\n",
      "There's no abstract for article 2\n",
      "\n",
      "There are no citations for article 4\n",
      "\n",
      "There are no citations for article 6\n",
      "\n",
      "There are no citations for article 7\n",
      "\n",
      "There are no citations for article 9\n",
      "\n",
      "There are no citations for article 0\n",
      "\n",
      "There are no citations for article 2\n",
      "\n",
      "There are no citations for article 3\n",
      "\n",
      "There are no citations for article 4\n",
      "\n",
      "There are no citations for article 5\n",
      "\n",
      "There are no citations for article 6\n",
      "\n",
      "There are no citations for article 7\n",
      "\n",
      "There's no abstract for article 7\n",
      "\n",
      "There are no citations for article 8\n",
      "\n",
      "There are no citations for article 9\n",
      "\n",
      "There are no citations for article 0\n",
      "\n",
      "There are no citations for article 2\n",
      "\n",
      "There are no citations for article 3\n",
      "\n",
      "There are no citations for article 5\n",
      "\n",
      "There are no citations for article 6\n",
      "\n",
      "There are no citations for article 7\n",
      "\n",
      "There are no citations for article 9\n",
      "\n",
      "There are no citations for article 1\n",
      "\n",
      "There are no citations for article 2\n",
      "\n",
      "There are no citations for article 3\n",
      "\n",
      "There are no citations for article 6\n",
      "\n",
      "There are no citations for article 7\n",
      "\n",
      "There are no citations for article 8\n",
      "\n",
      "There are no citations for article 9\n",
      "\n",
      "There are no citations for article 1\n",
      "\n",
      "There are no citations for article 4\n",
      "\n",
      "There are no citations for article 6\n",
      "\n",
      "There are no citations for article 7\n",
      "\n",
      "There are no citations for article 8\n",
      "\n",
      "There are no citations for article 9\n",
      "\n",
      "There are no citations for article 0\n",
      "\n",
      "There are no citations for article 3\n",
      "\n",
      "There are no citations for article 4\n",
      "\n",
      "There are no citations for article 6\n",
      "\n",
      "There are no citations for article 9\n",
      "\n",
      "There are no citations for article 0\n",
      "\n",
      "There are no citations for article 1\n",
      "\n",
      "There are no citations for article 2\n",
      "\n",
      "There are no citations for article 3\n",
      "\n",
      "There are no citations for article 4\n",
      "\n",
      "There are no citations for article 5\n",
      "\n",
      "There are no citations for article 6\n",
      "\n",
      "There are no citations for article 7\n",
      "\n",
      "There are no citations for article 8\n",
      "\n",
      "There are no citations for article 9\n",
      "\n"
     ]
    }
   ],
   "source": [
    "# rough, should probably be using a defaultdict here\n",
    "for i, n in enumerate(range(2000,2019,1)):\n",
    "    new_keys = range(i*retmax, (i+1)*retmax)\n",
    "    query = make_query('parkinson\\'s', n)\n",
    "    ap = sc.ArticleParser(retmax, email)\n",
    "    raw_dict = ap.find_term(query)\n",
    "    articles = ap.fetch_info(raw_dict['IdList'])\n",
    "    if i == 0:\n",
    "        parsed_dict = ap.parse_info(articles)\n",
    "    else:\n",
    "        n_parsed_dict = ap.parse_info(articles)\n",
    "        for k in n_parsed_dict.keys():\n",
    "            parsed_dict[new_keys[k]] = n_parsed_dict[k] # add articles from the next year behind the current  "
   ]
  },
  {
   "cell_type": "code",
   "execution_count": 41,
   "metadata": {
    "collapsed": false
   },
   "outputs": [
    {
     "data": {
      "text/html": [
       "<div>\n",
       "<table border=\"1\" class=\"dataframe\">\n",
       "  <thead>\n",
       "    <tr style=\"text-align: right;\">\n",
       "      <th></th>\n",
       "      <th>title</th>\n",
       "      <th>date</th>\n",
       "      <th>authors</th>\n",
       "      <th>published in</th>\n",
       "      <th>citations</th>\n",
       "      <th>abstract</th>\n",
       "    </tr>\n",
       "  </thead>\n",
       "  <tbody>\n",
       "    <tr>\n",
       "      <th>0</th>\n",
       "      <td>Parkinson disease, temporomandibular disorders...</td>\n",
       "      <td>2018-07-19</td>\n",
       "      <td>Merel Verhoeff, Frank Lobbezoo, Peter Wetselaa...</td>\n",
       "      <td>Journal of oral rehabilitation</td>\n",
       "      <td></td>\n",
       "      <td>Even though bruxism and Parkinson's disease (P...</td>\n",
       "    </tr>\n",
       "    <tr>\n",
       "      <th>1</th>\n",
       "      <td>Mode-Selective Raman Imaging of Dopamine-Human...</td>\n",
       "      <td>2018-07-19</td>\n",
       "      <td>Achut Prasad Silwal, H Peter Lu</td>\n",
       "      <td>ACS chemical neuroscience</td>\n",
       "      <td></td>\n",
       "      <td>Dopamine (DA) is the catecholamine neurotransm...</td>\n",
       "    </tr>\n",
       "    <tr>\n",
       "      <th>2</th>\n",
       "      <td>A minimally invasive neurostimulation method f...</td>\n",
       "      <td>2018-07-19</td>\n",
       "      <td>Malbor Asllani, Paul Expert, Timoteo Carletti</td>\n",
       "      <td>PLoS computational biology</td>\n",
       "      <td></td>\n",
       "      <td>Many collective phenomena in Nature emerge fro...</td>\n",
       "    </tr>\n",
       "    <tr>\n",
       "      <th>3</th>\n",
       "      <td>Ubiquitination of alpha-synuclein filaments by...</td>\n",
       "      <td>2018-07-18</td>\n",
       "      <td>Thomas Mund, Masami Masuda-Suzukake, Michel Go...</td>\n",
       "      <td>PloS one</td>\n",
       "      <td></td>\n",
       "      <td>Alpha-synuclein can form beta-sheet filaments,...</td>\n",
       "    </tr>\n",
       "    <tr>\n",
       "      <th>4</th>\n",
       "      <td>Fibroblast Growth Factor 9 Suppresses Striatal...</td>\n",
       "      <td>2018-07-18</td>\n",
       "      <td>Issa Olakunle Yusuf, Pei-Hsun Cheng, Hsiu-Mei ...</td>\n",
       "      <td>Cellular physiology and biochemistry : interna...</td>\n",
       "      <td></td>\n",
       "      <td>Huntington's disease (HD) is a heritable neuro...</td>\n",
       "    </tr>\n",
       "  </tbody>\n",
       "</table>\n",
       "</div>"
      ],
      "text/plain": [
       "                                               title       date  \\\n",
       "0  Parkinson disease, temporomandibular disorders... 2018-07-19   \n",
       "1  Mode-Selective Raman Imaging of Dopamine-Human... 2018-07-19   \n",
       "2  A minimally invasive neurostimulation method f... 2018-07-19   \n",
       "3  Ubiquitination of alpha-synuclein filaments by... 2018-07-18   \n",
       "4  Fibroblast Growth Factor 9 Suppresses Striatal... 2018-07-18   \n",
       "\n",
       "                                             authors  \\\n",
       "0  Merel Verhoeff, Frank Lobbezoo, Peter Wetselaa...   \n",
       "1                    Achut Prasad Silwal, H Peter Lu   \n",
       "2      Malbor Asllani, Paul Expert, Timoteo Carletti   \n",
       "3  Thomas Mund, Masami Masuda-Suzukake, Michel Go...   \n",
       "4  Issa Olakunle Yusuf, Pei-Hsun Cheng, Hsiu-Mei ...   \n",
       "\n",
       "                                        published in citations  \\\n",
       "0                     Journal of oral rehabilitation             \n",
       "1                          ACS chemical neuroscience             \n",
       "2                         PLoS computational biology             \n",
       "3                                           PloS one             \n",
       "4  Cellular physiology and biochemistry : interna...             \n",
       "\n",
       "                                            abstract  \n",
       "0  Even though bruxism and Parkinson's disease (P...  \n",
       "1  Dopamine (DA) is the catecholamine neurotransm...  \n",
       "2  Many collective phenomena in Nature emerge fro...  \n",
       "3  Alpha-synuclein can form beta-sheet filaments,...  \n",
       "4  Huntington's disease (HD) is a heritable neuro...  "
      ]
     },
     "execution_count": 41,
     "metadata": {},
     "output_type": "execute_result"
    }
   ],
   "source": [
    "df = pd.DataFrame.from_dict(parsed_dict, orient = 'index')\n",
    "df.date = pd.to_datetime(df.date)\n",
    "df = df[df.abstract != ''].sort_values(by='date', \n",
    "                                       ascending=0)\\\n",
    "                          .reset_index(drop=True)\n",
    "df.head()"
   ]
  },
  {
   "cell_type": "markdown",
   "metadata": {},
   "source": [
    "## Import csv file "
   ]
  },
  {
   "cell_type": "code",
   "execution_count": 3,
   "metadata": {
    "collapsed": false
   },
   "outputs": [],
   "source": [
    "df = pd.read_csv('parkinson_1960tonow.csv')"
   ]
  },
  {
   "cell_type": "code",
   "execution_count": 4,
   "metadata": {
    "collapsed": false
   },
   "outputs": [
    {
     "data": {
      "text/html": [
       "<div>\n",
       "<table border=\"1\" class=\"dataframe\">\n",
       "  <thead>\n",
       "    <tr style=\"text-align: right;\">\n",
       "      <th></th>\n",
       "      <th>Unnamed: 0</th>\n",
       "      <th>published in</th>\n",
       "      <th>title</th>\n",
       "      <th>citations</th>\n",
       "      <th>date</th>\n",
       "      <th>authors</th>\n",
       "      <th>abstract</th>\n",
       "    </tr>\n",
       "  </thead>\n",
       "  <tbody>\n",
       "    <tr>\n",
       "      <th>0</th>\n",
       "      <td>0</td>\n",
       "      <td>ACS chemical neuroscience</td>\n",
       "      <td>Mode-Selective Raman Imaging of Dopamine-Human...</td>\n",
       "      <td>NaN</td>\n",
       "      <td>2018-07-19</td>\n",
       "      <td>Achut Prasad Silwal, H Peter Lu</td>\n",
       "      <td>Dopamine (DA) is the catecholamine neurotransm...</td>\n",
       "    </tr>\n",
       "    <tr>\n",
       "      <th>1</th>\n",
       "      <td>1</td>\n",
       "      <td>PLoS computational biology</td>\n",
       "      <td>A minimally invasive neurostimulation method f...</td>\n",
       "      <td>NaN</td>\n",
       "      <td>2018-07-19</td>\n",
       "      <td>Malbor Asllani, Paul Expert, Timoteo Carletti</td>\n",
       "      <td>Many collective phenomena in Nature emerge fro...</td>\n",
       "    </tr>\n",
       "    <tr>\n",
       "      <th>2</th>\n",
       "      <td>2</td>\n",
       "      <td>ACS chemical biology</td>\n",
       "      <td>Chemical Probe To Monitor the Parkinsonism-Ass...</td>\n",
       "      <td>NaN</td>\n",
       "      <td>2018-07-19</td>\n",
       "      <td>Jonas Drechsel, Franziska A Mandl, Stephan A S...</td>\n",
       "      <td>Reactive oxygen species (ROS) play an importan...</td>\n",
       "    </tr>\n",
       "    <tr>\n",
       "      <th>3</th>\n",
       "      <td>3</td>\n",
       "      <td>Journal of oral rehabilitation</td>\n",
       "      <td>Parkinson disease, temporomandibular disorders...</td>\n",
       "      <td>NaN</td>\n",
       "      <td>2018-07-19</td>\n",
       "      <td>Merel Verhoeff, Frank Lobbezoo, Peter Wetselaa...</td>\n",
       "      <td>Even though bruxism and Parkinson's disease (P...</td>\n",
       "    </tr>\n",
       "    <tr>\n",
       "      <th>4</th>\n",
       "      <td>4</td>\n",
       "      <td>Journal of neurophysiology</td>\n",
       "      <td>Biophysical Basis of Subthalamic Local Field P...</td>\n",
       "      <td>NaN</td>\n",
       "      <td>2018-07-18</td>\n",
       "      <td>Nicholas Maling, Scott F Lempka, Zack Blumenfe...</td>\n",
       "      <td>Clinical deep brain stimulation (DBS) technolo...</td>\n",
       "    </tr>\n",
       "  </tbody>\n",
       "</table>\n",
       "</div>"
      ],
      "text/plain": [
       "   Unnamed: 0                    published in  \\\n",
       "0           0       ACS chemical neuroscience   \n",
       "1           1      PLoS computational biology   \n",
       "2           2            ACS chemical biology   \n",
       "3           3  Journal of oral rehabilitation   \n",
       "4           4      Journal of neurophysiology   \n",
       "\n",
       "                                               title citations        date  \\\n",
       "0  Mode-Selective Raman Imaging of Dopamine-Human...       NaN  2018-07-19   \n",
       "1  A minimally invasive neurostimulation method f...       NaN  2018-07-19   \n",
       "2  Chemical Probe To Monitor the Parkinsonism-Ass...       NaN  2018-07-19   \n",
       "3  Parkinson disease, temporomandibular disorders...       NaN  2018-07-19   \n",
       "4  Biophysical Basis of Subthalamic Local Field P...       NaN  2018-07-18   \n",
       "\n",
       "                                             authors  \\\n",
       "0                    Achut Prasad Silwal, H Peter Lu   \n",
       "1      Malbor Asllani, Paul Expert, Timoteo Carletti   \n",
       "2  Jonas Drechsel, Franziska A Mandl, Stephan A S...   \n",
       "3  Merel Verhoeff, Frank Lobbezoo, Peter Wetselaa...   \n",
       "4  Nicholas Maling, Scott F Lempka, Zack Blumenfe...   \n",
       "\n",
       "                                            abstract  \n",
       "0  Dopamine (DA) is the catecholamine neurotransm...  \n",
       "1  Many collective phenomena in Nature emerge fro...  \n",
       "2  Reactive oxygen species (ROS) play an importan...  \n",
       "3  Even though bruxism and Parkinson's disease (P...  \n",
       "4  Clinical deep brain stimulation (DBS) technolo...  "
      ]
     },
     "execution_count": 4,
     "metadata": {},
     "output_type": "execute_result"
    }
   ],
   "source": [
    "df.head()"
   ]
  },
  {
   "cell_type": "code",
   "execution_count": 14,
   "metadata": {
    "collapsed": false
   },
   "outputs": [
    {
     "data": {
      "text/html": [
       "<div>\n",
       "<table border=\"1\" class=\"dataframe\">\n",
       "  <thead>\n",
       "    <tr style=\"text-align: right;\">\n",
       "      <th></th>\n",
       "      <th>Unnamed: 0</th>\n",
       "    </tr>\n",
       "  </thead>\n",
       "  <tbody>\n",
       "    <tr>\n",
       "      <th>count</th>\n",
       "      <td>7096.000000</td>\n",
       "    </tr>\n",
       "    <tr>\n",
       "      <th>mean</th>\n",
       "      <td>3547.500000</td>\n",
       "    </tr>\n",
       "    <tr>\n",
       "      <th>std</th>\n",
       "      <td>2048.583088</td>\n",
       "    </tr>\n",
       "    <tr>\n",
       "      <th>min</th>\n",
       "      <td>0.000000</td>\n",
       "    </tr>\n",
       "    <tr>\n",
       "      <th>25%</th>\n",
       "      <td>1773.750000</td>\n",
       "    </tr>\n",
       "    <tr>\n",
       "      <th>50%</th>\n",
       "      <td>3547.500000</td>\n",
       "    </tr>\n",
       "    <tr>\n",
       "      <th>75%</th>\n",
       "      <td>5321.250000</td>\n",
       "    </tr>\n",
       "    <tr>\n",
       "      <th>max</th>\n",
       "      <td>7095.000000</td>\n",
       "    </tr>\n",
       "  </tbody>\n",
       "</table>\n",
       "</div>"
      ],
      "text/plain": [
       "        Unnamed: 0\n",
       "count  7096.000000\n",
       "mean   3547.500000\n",
       "std    2048.583088\n",
       "min       0.000000\n",
       "25%    1773.750000\n",
       "50%    3547.500000\n",
       "75%    5321.250000\n",
       "max    7095.000000"
      ]
     },
     "execution_count": 14,
     "metadata": {},
     "output_type": "execute_result"
    }
   ],
   "source": [
    "df.describe()"
   ]
  },
  {
   "cell_type": "code",
   "execution_count": 16,
   "metadata": {
    "collapsed": false
   },
   "outputs": [
    {
     "data": {
      "text/plain": [
       "7096"
      ]
     },
     "execution_count": 16,
     "metadata": {},
     "output_type": "execute_result"
    }
   ],
   "source": [
    "len(df)"
   ]
  },
  {
   "cell_type": "code",
   "execution_count": 17,
   "metadata": {
    "collapsed": true
   },
   "outputs": [],
   "source": [
    "df_new = df[df['authors'].notnull()]"
   ]
  },
  {
   "cell_type": "code",
   "execution_count": 18,
   "metadata": {
    "collapsed": false
   },
   "outputs": [
    {
     "data": {
      "text/plain": [
       "7075"
      ]
     },
     "execution_count": 18,
     "metadata": {},
     "output_type": "execute_result"
    }
   ],
   "source": [
    "len(df_new)"
   ]
  },
  {
   "cell_type": "markdown",
   "metadata": {},
   "source": [
    "## Create network\n",
    "\n",
    "The authors are listed in one cell separated by coma. *Assumption: Author names are correct. Each spelling of a name is a unique author. This is often the wrong assumption to have*.\n",
    "Check about [*Author Name Disambiguation (AND)*](https://www.ncbi.nlm.nih.gov/pmc/articles/PMC5887226/).\n",
    "This [Kaggle Notebook by Yasmin](https://www.kaggle.com/ykhorramz/network-viz-nips-15-co-authorship-network/notebook) is pretty useful. "
   ]
  },
  {
   "cell_type": "code",
   "execution_count": 5,
   "metadata": {
    "collapsed": true
   },
   "outputs": [],
   "source": [
    "plt.style.use('seaborn-whitegrid')\n",
    "\n",
    "title_font = {'size':'18', 'color':'black', 'verticalalignment':'bottom',  'fontstyle':'bold'} \n",
    "axis_font = { 'size':'14'}"
   ]
  },
  {
   "cell_type": "markdown",
   "metadata": {},
   "source": [
    "## Create a data frame with title - authors.\n",
    "\n",
    "Author need to be split at comma"
   ]
  },
  {
   "cell_type": "code",
   "execution_count": 19,
   "metadata": {
    "collapsed": false
   },
   "outputs": [
    {
     "data": {
      "text/html": [
       "<div>\n",
       "<table border=\"1\" class=\"dataframe\">\n",
       "  <thead>\n",
       "    <tr style=\"text-align: right;\">\n",
       "      <th></th>\n",
       "      <th>Unnamed: 0</th>\n",
       "      <th>published in</th>\n",
       "      <th>title</th>\n",
       "      <th>citations</th>\n",
       "      <th>date</th>\n",
       "      <th>authors</th>\n",
       "      <th>abstract</th>\n",
       "    </tr>\n",
       "  </thead>\n",
       "  <tbody>\n",
       "    <tr>\n",
       "      <th>0</th>\n",
       "      <td>0</td>\n",
       "      <td>ACS chemical neuroscience</td>\n",
       "      <td>Mode-Selective Raman Imaging of Dopamine-Human...</td>\n",
       "      <td>NaN</td>\n",
       "      <td>2018-07-19</td>\n",
       "      <td>Achut Prasad Silwal, H Peter Lu</td>\n",
       "      <td>Dopamine (DA) is the catecholamine neurotransm...</td>\n",
       "    </tr>\n",
       "    <tr>\n",
       "      <th>1</th>\n",
       "      <td>1</td>\n",
       "      <td>PLoS computational biology</td>\n",
       "      <td>A minimally invasive neurostimulation method f...</td>\n",
       "      <td>NaN</td>\n",
       "      <td>2018-07-19</td>\n",
       "      <td>Malbor Asllani, Paul Expert, Timoteo Carletti</td>\n",
       "      <td>Many collective phenomena in Nature emerge fro...</td>\n",
       "    </tr>\n",
       "  </tbody>\n",
       "</table>\n",
       "</div>"
      ],
      "text/plain": [
       "   Unnamed: 0                published in  \\\n",
       "0           0   ACS chemical neuroscience   \n",
       "1           1  PLoS computational biology   \n",
       "\n",
       "                                               title citations        date  \\\n",
       "0  Mode-Selective Raman Imaging of Dopamine-Human...       NaN  2018-07-19   \n",
       "1  A minimally invasive neurostimulation method f...       NaN  2018-07-19   \n",
       "\n",
       "                                         authors  \\\n",
       "0                Achut Prasad Silwal, H Peter Lu   \n",
       "1  Malbor Asllani, Paul Expert, Timoteo Carletti   \n",
       "\n",
       "                                            abstract  \n",
       "0  Dopamine (DA) is the catecholamine neurotransm...  \n",
       "1  Many collective phenomena in Nature emerge fro...  "
      ]
     },
     "execution_count": 19,
     "metadata": {},
     "output_type": "execute_result"
    }
   ],
   "source": [
    "df_new.head(2)"
   ]
  },
  {
   "cell_type": "code",
   "execution_count": 7,
   "metadata": {
    "collapsed": false
   },
   "outputs": [],
   "source": [
    "# https://gist.github.com/jlln/338b4b0b55bd6984f883\n",
    "\n",
    "def splitDataFrameList(df,target_column,separator):\n",
    "    ''' df = dataframe to split,\n",
    "    target_column = the column containing the values to split\n",
    "    separator = the symbol used to perform the split\n",
    "    returns: a dataframe with each entry for the target column separated, with each element moved into a new row. \n",
    "    The values in the other columns are duplicated across the newly divided rows.\n",
    "    '''\n",
    "    def splitListToRows(row,row_accumulator,target_column,separator):\n",
    "        split_row = row[target_column].split(separator)\n",
    "        for s in split_row:\n",
    "            new_row = row.to_dict()\n",
    "            new_row[target_column] = s\n",
    "            row_accumulator.append(new_row)\n",
    "    new_rows = []\n",
    "    df.apply(splitListToRows,axis=1,args = (new_rows,target_column,separator))\n",
    "    new_df = pd.DataFrame(new_rows)\n",
    "    return new_df"
   ]
  },
  {
   "cell_type": "code",
   "execution_count": 20,
   "metadata": {
    "collapsed": false
   },
   "outputs": [],
   "source": [
    "df_split = splitDataFrameList(df_new, 'authors', ',')"
   ]
  },
  {
   "cell_type": "code",
   "execution_count": 21,
   "metadata": {
    "collapsed": false
   },
   "outputs": [
    {
     "data": {
      "text/html": [
       "<div>\n",
       "<table border=\"1\" class=\"dataframe\">\n",
       "  <thead>\n",
       "    <tr style=\"text-align: right;\">\n",
       "      <th></th>\n",
       "      <th>Unnamed: 0</th>\n",
       "      <th>abstract</th>\n",
       "      <th>authors</th>\n",
       "      <th>citations</th>\n",
       "      <th>date</th>\n",
       "      <th>published in</th>\n",
       "      <th>title</th>\n",
       "    </tr>\n",
       "  </thead>\n",
       "  <tbody>\n",
       "    <tr>\n",
       "      <th>0</th>\n",
       "      <td>0</td>\n",
       "      <td>Dopamine (DA) is the catecholamine neurotransm...</td>\n",
       "      <td>Achut Prasad Silwal</td>\n",
       "      <td>NaN</td>\n",
       "      <td>2018-07-19</td>\n",
       "      <td>ACS chemical neuroscience</td>\n",
       "      <td>Mode-Selective Raman Imaging of Dopamine-Human...</td>\n",
       "    </tr>\n",
       "    <tr>\n",
       "      <th>1</th>\n",
       "      <td>0</td>\n",
       "      <td>Dopamine (DA) is the catecholamine neurotransm...</td>\n",
       "      <td>H Peter Lu</td>\n",
       "      <td>NaN</td>\n",
       "      <td>2018-07-19</td>\n",
       "      <td>ACS chemical neuroscience</td>\n",
       "      <td>Mode-Selective Raman Imaging of Dopamine-Human...</td>\n",
       "    </tr>\n",
       "    <tr>\n",
       "      <th>2</th>\n",
       "      <td>1</td>\n",
       "      <td>Many collective phenomena in Nature emerge fro...</td>\n",
       "      <td>Malbor Asllani</td>\n",
       "      <td>NaN</td>\n",
       "      <td>2018-07-19</td>\n",
       "      <td>PLoS computational biology</td>\n",
       "      <td>A minimally invasive neurostimulation method f...</td>\n",
       "    </tr>\n",
       "    <tr>\n",
       "      <th>3</th>\n",
       "      <td>1</td>\n",
       "      <td>Many collective phenomena in Nature emerge fro...</td>\n",
       "      <td>Paul Expert</td>\n",
       "      <td>NaN</td>\n",
       "      <td>2018-07-19</td>\n",
       "      <td>PLoS computational biology</td>\n",
       "      <td>A minimally invasive neurostimulation method f...</td>\n",
       "    </tr>\n",
       "    <tr>\n",
       "      <th>4</th>\n",
       "      <td>1</td>\n",
       "      <td>Many collective phenomena in Nature emerge fro...</td>\n",
       "      <td>Timoteo Carletti</td>\n",
       "      <td>NaN</td>\n",
       "      <td>2018-07-19</td>\n",
       "      <td>PLoS computational biology</td>\n",
       "      <td>A minimally invasive neurostimulation method f...</td>\n",
       "    </tr>\n",
       "  </tbody>\n",
       "</table>\n",
       "</div>"
      ],
      "text/plain": [
       "   Unnamed: 0                                           abstract  \\\n",
       "0           0  Dopamine (DA) is the catecholamine neurotransm...   \n",
       "1           0  Dopamine (DA) is the catecholamine neurotransm...   \n",
       "2           1  Many collective phenomena in Nature emerge fro...   \n",
       "3           1  Many collective phenomena in Nature emerge fro...   \n",
       "4           1  Many collective phenomena in Nature emerge fro...   \n",
       "\n",
       "               authors citations        date                published in  \\\n",
       "0  Achut Prasad Silwal       NaN  2018-07-19   ACS chemical neuroscience   \n",
       "1           H Peter Lu       NaN  2018-07-19   ACS chemical neuroscience   \n",
       "2       Malbor Asllani       NaN  2018-07-19  PLoS computational biology   \n",
       "3          Paul Expert       NaN  2018-07-19  PLoS computational biology   \n",
       "4     Timoteo Carletti       NaN  2018-07-19  PLoS computational biology   \n",
       "\n",
       "                                               title  \n",
       "0  Mode-Selective Raman Imaging of Dopamine-Human...  \n",
       "1  Mode-Selective Raman Imaging of Dopamine-Human...  \n",
       "2  A minimally invasive neurostimulation method f...  \n",
       "3  A minimally invasive neurostimulation method f...  \n",
       "4  A minimally invasive neurostimulation method f...  "
      ]
     },
     "execution_count": 21,
     "metadata": {},
     "output_type": "execute_result"
    }
   ],
   "source": [
    "df_split[0:5]"
   ]
  },
  {
   "cell_type": "markdown",
   "metadata": {},
   "source": [
    "The columns authors - titles in are the basis for the bipartite graph. It's in an edgelist format. Create a bipartite matrix with authors as rows and titles as columns. Then do a 1 mode projection"
   ]
  },
  {
   "cell_type": "code",
   "execution_count": 22,
   "metadata": {
    "collapsed": false
   },
   "outputs": [],
   "source": [
    "B=nx.Graph()\n",
    "B.add_nodes_from(df_split['authors'],bipartite= 'authors')\n",
    "B.add_nodes_from(df_split['title'],bipartite='title')"
   ]
  },
  {
   "cell_type": "code",
   "execution_count": 23,
   "metadata": {
    "collapsed": true
   },
   "outputs": [],
   "source": [
    "B.add_edges_from(\n",
    "    [(row['authors'], row['title']) for idx, row in df_split.iterrows()])"
   ]
  },
  {
   "cell_type": "code",
   "execution_count": 24,
   "metadata": {
    "collapsed": false
   },
   "outputs": [],
   "source": [
    "# this will return a useless graph. Authors are on one side, papers on the other. \n",
    "#pos = {node:[0, i] for i,node in enumerate(df_split['authors'])}\n",
    "#pos.update({node:[1, i] for i,node in enumerate(df['title'])})\n",
    "#nx.draw(B, pos, with_labels=False)\n",
    "#for p in pos:  # raise text positions\n",
    "#    pos[p][1] += 0.25\n",
    "\n",
    "#plt.show()"
   ]
  },
  {
   "cell_type": "markdown",
   "metadata": {},
   "source": [
    "## one mode projection\n",
    "[Data camp tutorial](https://s3.amazonaws.com/assets.datacamp.com/production/course_4015/slides/ch2_slides.pdf)"
   ]
  },
  {
   "cell_type": "code",
   "execution_count": 25,
   "metadata": {
    "collapsed": true
   },
   "outputs": [],
   "source": [
    "auth_nodes = [n for n in B.nodes() if B.node[n] ['bipartite'] == 'authors'] "
   ]
  },
  {
   "cell_type": "code",
   "execution_count": 26,
   "metadata": {
    "collapsed": false
   },
   "outputs": [
    {
     "data": {
      "text/plain": [
       "'Achut Prasad Silwal'"
      ]
     },
     "execution_count": 26,
     "metadata": {},
     "output_type": "execute_result"
    }
   ],
   "source": [
    "auth_nodes[0]"
   ]
  },
  {
   "cell_type": "code",
   "execution_count": 27,
   "metadata": {
    "collapsed": true
   },
   "outputs": [],
   "source": [
    "G_aut = nx.bipartite.projected_graph(B, auth_nodes) "
   ]
  },
  {
   "cell_type": "markdown",
   "metadata": {},
   "source": [
    "## Create group attribute based on publication"
   ]
  },
  {
   "cell_type": "code",
   "execution_count": 28,
   "metadata": {
    "collapsed": false
   },
   "outputs": [],
   "source": [
    "authors = df_split['authors']\n",
    "pub = df_split['published in']"
   ]
  },
  {
   "cell_type": "code",
   "execution_count": 29,
   "metadata": {
    "collapsed": true
   },
   "outputs": [],
   "source": [
    "group_attr = list(zip(authors, pub))"
   ]
  },
  {
   "cell_type": "code",
   "execution_count": 30,
   "metadata": {
    "collapsed": false
   },
   "outputs": [],
   "source": [
    "group_attr_dict = dict(set(sorted(group_attr)))"
   ]
  },
  {
   "cell_type": "code",
   "execution_count": 31,
   "metadata": {
    "collapsed": false
   },
   "outputs": [],
   "source": [
    "# set nodes attributes\n",
    "nx.set_node_attributes(G_aut, \"authors\", group_attr_dict)"
   ]
  },
  {
   "cell_type": "markdown",
   "metadata": {},
   "source": [
    "[Migration tutorial](https://networkx.github.io/documentation/stable/release/migration_guide_from_1.x_to_2.0.html)"
   ]
  },
  {
   "cell_type": "code",
   "execution_count": null,
   "metadata": {
    "collapsed": true
   },
   "outputs": [],
   "source": [
    "# code for version 2.1 should be\n",
    "nx.set_node_attributes(G_aut, \"authors\", values = group_attr_dict)"
   ]
  },
  {
   "cell_type": "code",
   "execution_count": 32,
   "metadata": {
    "collapsed": false
   },
   "outputs": [
    {
     "ename": "KeyboardInterrupt",
     "evalue": "",
     "output_type": "error",
     "traceback": [
      "\u001b[0;31m---------------------------------------------------------------------------\u001b[0m",
      "\u001b[0;31mKeyboardInterrupt\u001b[0m                         Traceback (most recent call last)",
      "\u001b[0;32m/Users/katerinadoyle/anaconda3/lib/python3.6/site-packages/networkx/drawing/layout.py\u001b[0m in \u001b[0;36mfruchterman_reingold_layout\u001b[0;34m(G, dim, k, pos, fixed, iterations, weight, scale, center)\u001b[0m\n\u001b[1;32m    284\u001b[0m         \u001b[0mA\u001b[0m \u001b[0;34m=\u001b[0m \u001b[0mnx\u001b[0m\u001b[0;34m.\u001b[0m\u001b[0mto_scipy_sparse_matrix\u001b[0m\u001b[0;34m(\u001b[0m\u001b[0mG\u001b[0m\u001b[0;34m,\u001b[0m \u001b[0mweight\u001b[0m\u001b[0;34m=\u001b[0m\u001b[0mweight\u001b[0m\u001b[0;34m,\u001b[0m \u001b[0mdtype\u001b[0m\u001b[0;34m=\u001b[0m\u001b[0;34m'f'\u001b[0m\u001b[0;34m)\u001b[0m\u001b[0;34m\u001b[0m\u001b[0m\n\u001b[0;32m--> 285\u001b[0;31m         \u001b[0mpos\u001b[0m \u001b[0;34m=\u001b[0m \u001b[0m_sparse_fruchterman_reingold\u001b[0m\u001b[0;34m(\u001b[0m\u001b[0mA\u001b[0m\u001b[0;34m,\u001b[0m\u001b[0mdim\u001b[0m\u001b[0;34m,\u001b[0m\u001b[0mk\u001b[0m\u001b[0;34m,\u001b[0m\u001b[0mpos_arr\u001b[0m\u001b[0;34m,\u001b[0m\u001b[0mfixed\u001b[0m\u001b[0;34m,\u001b[0m\u001b[0miterations\u001b[0m\u001b[0;34m)\u001b[0m\u001b[0;34m\u001b[0m\u001b[0m\n\u001b[0m\u001b[1;32m    286\u001b[0m     \u001b[0;32mexcept\u001b[0m\u001b[0;34m:\u001b[0m\u001b[0;34m\u001b[0m\u001b[0m\n",
      "\u001b[0;32m/Users/katerinadoyle/anaconda3/lib/python3.6/site-packages/networkx/drawing/layout.py\u001b[0m in \u001b[0;36m_sparse_fruchterman_reingold\u001b[0;34m(A, dim, k, pos, fixed, iterations)\u001b[0m\n\u001b[1;32m    411\u001b[0m             \u001b[0;31m# distance between points\u001b[0m\u001b[0;34m\u001b[0m\u001b[0;34m\u001b[0m\u001b[0m\n\u001b[0;32m--> 412\u001b[0;31m             \u001b[0mdistance\u001b[0m\u001b[0;34m=\u001b[0m\u001b[0mnp\u001b[0m\u001b[0;34m.\u001b[0m\u001b[0msqrt\u001b[0m\u001b[0;34m(\u001b[0m\u001b[0;34m(\u001b[0m\u001b[0mdelta\u001b[0m\u001b[0;34m**\u001b[0m\u001b[0;36m2\u001b[0m\u001b[0;34m)\u001b[0m\u001b[0;34m.\u001b[0m\u001b[0msum\u001b[0m\u001b[0;34m(\u001b[0m\u001b[0maxis\u001b[0m\u001b[0;34m=\u001b[0m\u001b[0;36m0\u001b[0m\u001b[0;34m)\u001b[0m\u001b[0;34m)\u001b[0m\u001b[0;34m\u001b[0m\u001b[0m\n\u001b[0m\u001b[1;32m    413\u001b[0m             \u001b[0;31m# enforce minimum distance of 0.01\u001b[0m\u001b[0;34m\u001b[0m\u001b[0;34m\u001b[0m\u001b[0m\n",
      "\u001b[0;32m/Users/katerinadoyle/anaconda3/lib/python3.6/site-packages/numpy/core/_methods.py\u001b[0m in \u001b[0;36m_sum\u001b[0;34m(a, axis, dtype, out, keepdims)\u001b[0m\n\u001b[1;32m     31\u001b[0m \u001b[0;32mdef\u001b[0m \u001b[0m_sum\u001b[0m\u001b[0;34m(\u001b[0m\u001b[0ma\u001b[0m\u001b[0;34m,\u001b[0m \u001b[0maxis\u001b[0m\u001b[0;34m=\u001b[0m\u001b[0;32mNone\u001b[0m\u001b[0;34m,\u001b[0m \u001b[0mdtype\u001b[0m\u001b[0;34m=\u001b[0m\u001b[0;32mNone\u001b[0m\u001b[0;34m,\u001b[0m \u001b[0mout\u001b[0m\u001b[0;34m=\u001b[0m\u001b[0;32mNone\u001b[0m\u001b[0;34m,\u001b[0m \u001b[0mkeepdims\u001b[0m\u001b[0;34m=\u001b[0m\u001b[0;32mFalse\u001b[0m\u001b[0;34m)\u001b[0m\u001b[0;34m:\u001b[0m\u001b[0;34m\u001b[0m\u001b[0m\n\u001b[0;32m---> 32\u001b[0;31m     \u001b[0;32mreturn\u001b[0m \u001b[0mumr_sum\u001b[0m\u001b[0;34m(\u001b[0m\u001b[0ma\u001b[0m\u001b[0;34m,\u001b[0m \u001b[0maxis\u001b[0m\u001b[0;34m,\u001b[0m \u001b[0mdtype\u001b[0m\u001b[0;34m,\u001b[0m \u001b[0mout\u001b[0m\u001b[0;34m,\u001b[0m \u001b[0mkeepdims\u001b[0m\u001b[0;34m)\u001b[0m\u001b[0;34m\u001b[0m\u001b[0m\n\u001b[0m\u001b[1;32m     33\u001b[0m \u001b[0;34m\u001b[0m\u001b[0m\n",
      "\u001b[0;31mKeyboardInterrupt\u001b[0m: ",
      "\nDuring handling of the above exception, another exception occurred:\n",
      "\u001b[0;31mKeyboardInterrupt\u001b[0m                         Traceback (most recent call last)",
      "\u001b[0;32m<ipython-input-32-aa8f35efc5c2>\u001b[0m in \u001b[0;36m<module>\u001b[0;34m()\u001b[0m\n\u001b[1;32m      9\u001b[0m \u001b[0;34m\u001b[0m\u001b[0m\n\u001b[1;32m     10\u001b[0m \u001b[0;31m# drawing nodes and edges separately so we can capture collection for colobar\u001b[0m\u001b[0;34m\u001b[0m\u001b[0;34m\u001b[0m\u001b[0m\n\u001b[0;32m---> 11\u001b[0;31m \u001b[0mpos\u001b[0m \u001b[0;34m=\u001b[0m \u001b[0mnx\u001b[0m\u001b[0;34m.\u001b[0m\u001b[0mspring_layout\u001b[0m\u001b[0;34m(\u001b[0m\u001b[0mG_aut\u001b[0m\u001b[0;34m)\u001b[0m \u001b[0;31m# different layout algorithm ?\u001b[0m\u001b[0;34m\u001b[0m\u001b[0m\n\u001b[0m\u001b[1;32m     12\u001b[0m \u001b[0mec\u001b[0m \u001b[0;34m=\u001b[0m \u001b[0mnx\u001b[0m\u001b[0;34m.\u001b[0m\u001b[0mdraw_networkx_edges\u001b[0m\u001b[0;34m(\u001b[0m\u001b[0mG_aut\u001b[0m\u001b[0;34m,\u001b[0m \u001b[0mpos\u001b[0m\u001b[0;34m,\u001b[0m \u001b[0malpha\u001b[0m\u001b[0;34m=\u001b[0m\u001b[0;36m0.2\u001b[0m\u001b[0;34m)\u001b[0m\u001b[0;34m\u001b[0m\u001b[0m\n\u001b[1;32m     13\u001b[0m nc = nx.draw_networkx_nodes(G_aut, pos, nodelist=nodes, node_color=colors, \n",
      "\u001b[0;32m/Users/katerinadoyle/anaconda3/lib/python3.6/site-packages/networkx/drawing/layout.py\u001b[0m in \u001b[0;36mfruchterman_reingold_layout\u001b[0;34m(G, dim, k, pos, fixed, iterations, weight, scale, center)\u001b[0m\n\u001b[1;32m    285\u001b[0m         \u001b[0mpos\u001b[0m \u001b[0;34m=\u001b[0m \u001b[0m_sparse_fruchterman_reingold\u001b[0m\u001b[0;34m(\u001b[0m\u001b[0mA\u001b[0m\u001b[0;34m,\u001b[0m\u001b[0mdim\u001b[0m\u001b[0;34m,\u001b[0m\u001b[0mk\u001b[0m\u001b[0;34m,\u001b[0m\u001b[0mpos_arr\u001b[0m\u001b[0;34m,\u001b[0m\u001b[0mfixed\u001b[0m\u001b[0;34m,\u001b[0m\u001b[0miterations\u001b[0m\u001b[0;34m)\u001b[0m\u001b[0;34m\u001b[0m\u001b[0m\n\u001b[1;32m    286\u001b[0m     \u001b[0;32mexcept\u001b[0m\u001b[0;34m:\u001b[0m\u001b[0;34m\u001b[0m\u001b[0m\n\u001b[0;32m--> 287\u001b[0;31m         \u001b[0mA\u001b[0m \u001b[0;34m=\u001b[0m \u001b[0mnx\u001b[0m\u001b[0;34m.\u001b[0m\u001b[0mto_numpy_matrix\u001b[0m\u001b[0;34m(\u001b[0m\u001b[0mG\u001b[0m\u001b[0;34m,\u001b[0m \u001b[0mweight\u001b[0m\u001b[0;34m=\u001b[0m\u001b[0mweight\u001b[0m\u001b[0;34m)\u001b[0m\u001b[0;34m\u001b[0m\u001b[0m\n\u001b[0m\u001b[1;32m    288\u001b[0m         \u001b[0mpos\u001b[0m \u001b[0;34m=\u001b[0m \u001b[0m_fruchterman_reingold\u001b[0m\u001b[0;34m(\u001b[0m\u001b[0mA\u001b[0m\u001b[0;34m,\u001b[0m \u001b[0mdim\u001b[0m\u001b[0;34m,\u001b[0m \u001b[0mk\u001b[0m\u001b[0;34m,\u001b[0m \u001b[0mpos_arr\u001b[0m\u001b[0;34m,\u001b[0m \u001b[0mfixed\u001b[0m\u001b[0;34m,\u001b[0m \u001b[0miterations\u001b[0m\u001b[0;34m)\u001b[0m\u001b[0;34m\u001b[0m\u001b[0m\n\u001b[1;32m    289\u001b[0m \u001b[0;34m\u001b[0m\u001b[0m\n",
      "\u001b[0;32m/Users/katerinadoyle/anaconda3/lib/python3.6/site-packages/networkx/convert_matrix.py\u001b[0m in \u001b[0;36mto_numpy_matrix\u001b[0;34m(G, nodelist, dtype, order, multigraph_weight, weight, nonedge)\u001b[0m\n\u001b[1;32m    377\u001b[0m                     \u001b[0;32mpass\u001b[0m\u001b[0;34m\u001b[0m\u001b[0m\n\u001b[1;32m    378\u001b[0m \u001b[0;34m\u001b[0m\u001b[0m\n\u001b[0;32m--> 379\u001b[0;31m     \u001b[0mM\u001b[0m\u001b[0;34m[\u001b[0m\u001b[0mnp\u001b[0m\u001b[0;34m.\u001b[0m\u001b[0misnan\u001b[0m\u001b[0;34m(\u001b[0m\u001b[0mM\u001b[0m\u001b[0;34m)\u001b[0m\u001b[0;34m]\u001b[0m \u001b[0;34m=\u001b[0m \u001b[0mnonedge\u001b[0m\u001b[0;34m\u001b[0m\u001b[0m\n\u001b[0m\u001b[1;32m    380\u001b[0m     \u001b[0mM\u001b[0m \u001b[0;34m=\u001b[0m \u001b[0mnp\u001b[0m\u001b[0;34m.\u001b[0m\u001b[0masmatrix\u001b[0m\u001b[0;34m(\u001b[0m\u001b[0mM\u001b[0m\u001b[0;34m)\u001b[0m\u001b[0;34m\u001b[0m\u001b[0m\n\u001b[1;32m    381\u001b[0m     \u001b[0;32mreturn\u001b[0m \u001b[0mM\u001b[0m\u001b[0;34m\u001b[0m\u001b[0m\n",
      "\u001b[0;31mKeyboardInterrupt\u001b[0m: "
     ]
    }
   ],
   "source": [
    "import matplotlib.pyplot as plt\n",
    "# create number for each group to allow use of colormap\n",
    "from itertools import count\n",
    "# get unique groups\n",
    "groups = set(nx.get_node_attributes(G_aut,'authors').values())\n",
    "mapping = dict(zip(sorted(groups),count()))\n",
    "nodes = G_aut.nodes()\n",
    "colors = [mapping[G_aut.node[n]['authors']] for n in nodes]\n",
    "\n",
    "# drawing nodes and edges separately so we can capture collection for colobar\n",
    "pos = nx.spring_layout(G_aut) # different layout algorithm ? \n",
    "ec = nx.draw_networkx_edges(G_aut, pos, alpha=0.2)\n",
    "nc = nx.draw_networkx_nodes(G_aut, pos, nodelist=nodes, node_color=colors, \n",
    "                            with_labels=False, node_size=100, cmap=plt.cm.jet)\n",
    "plt.colorbar(nc)\n",
    "plt.axis('off')\n",
    "plt.show()"
   ]
  },
  {
   "cell_type": "markdown",
   "metadata": {},
   "source": [
    "## Compute network centrality measures to add to authors dataframe"
   ]
  },
  {
   "cell_type": "code",
   "execution_count": 34,
   "metadata": {
    "collapsed": true
   },
   "outputs": [],
   "source": [
    "'''number of co-authors per member '''\n",
    "node_deg = nx.degree(G_aut) "
   ]
  },
  {
   "cell_type": "code",
   "execution_count": 35,
   "metadata": {
    "collapsed": true
   },
   "outputs": [],
   "source": [
    "'''normalized number of co-authors ( with what fraction of NIPS authors he wrote a paper) '''\n",
    "deg_cent = nx.degree_centrality(G_aut) "
   ]
  },
  {
   "cell_type": "code",
   "execution_count": 33,
   "metadata": {
    "collapsed": true
   },
   "outputs": [],
   "source": [
    "'''fraction of the number of times the author appears on the path connecting two other authors '''\n",
    "bet_cent = nx.betweenness_centrality(G_aut)"
   ]
  },
  {
   "cell_type": "code",
   "execution_count": 36,
   "metadata": {
    "collapsed": false
   },
   "outputs": [
    {
     "name": "stdout",
     "output_type": "stream",
     "text": [
      "The network has 101378 edges, 26585 authors, and a density of 0.000287.\n"
     ]
    }
   ],
   "source": [
    "print(\"The network has {} edges, {} authors, and a density of {:.3}.\".format(G_aut.number_of_edges(), \n",
    "                                                                                       G_aut.number_of_nodes(), \n",
    "                                                                                       nx.density(G_aut)))"
   ]
  },
  {
   "cell_type": "code",
   "execution_count": 37,
   "metadata": {
    "collapsed": true
   },
   "outputs": [],
   "source": [
    "# set nodes attributes\n",
    "nx.set_node_attributes(G_aut, \"degree\", node_deg)\n",
    "nx.set_node_attributes(G_aut, \"degree_norm\", deg_cent)\n",
    "nx.set_node_attributes(G_aut, \"betweeness\", bet_cent)"
   ]
  },
  {
   "cell_type": "markdown",
   "metadata": {},
   "source": [
    "Add node information to df_new, and then export"
   ]
  },
  {
   "cell_type": "code",
   "execution_count": 62,
   "metadata": {
    "collapsed": false
   },
   "outputs": [],
   "source": [
    "df_split['degree'] = df_split['authors'].apply(lambda l: node_deg[l])\n",
    "df_split['Deg_Cent'] = df_split['authors'].apply(lambda l: deg_cent[l])\n",
    "df_split['Betweenness'] = df_split['authors'].apply(lambda l: bet_cent[l])"
   ]
  },
  {
   "cell_type": "code",
   "execution_count": 63,
   "metadata": {
    "collapsed": true
   },
   "outputs": [],
   "source": [
    "df_split.to_csv(\"parkinson_1960tonow_w_metrics.csv\")"
   ]
  }
 ],
 "metadata": {
  "kernelspec": {
   "display_name": "Python 3",
   "language": "python",
   "name": "python3"
  },
  "language_info": {
   "codemirror_mode": {
    "name": "ipython",
    "version": 3
   },
   "file_extension": ".py",
   "mimetype": "text/x-python",
   "name": "python",
   "nbconvert_exporter": "python",
   "pygments_lexer": "ipython3",
   "version": "3.6.0"
  }
 },
 "nbformat": 4,
 "nbformat_minor": 2
}

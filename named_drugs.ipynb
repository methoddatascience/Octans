{
 "cells": [
  {
   "cell_type": "code",
   "execution_count": 1,
   "metadata": {},
   "outputs": [],
   "source": [
    "import pandas as pd\n",
    "import matplotlib.pyplot as plt\n",
    "from collections import defaultdict\n",
    "import re"
   ]
  },
  {
   "cell_type": "markdown",
   "metadata": {},
   "source": [
    "The first part of this notebook (until the FDA section) is not used for the 'named_drugs.csv' output file, but the drug names in the list below might be useful later on, so I have left the section in."
   ]
  },
  {
   "cell_type": "code",
   "execution_count": 2,
   "metadata": {},
   "outputs": [],
   "source": [
    "drugs = ['Amantadine', 'Apomorphine', \n",
    "         'APO-go', 'Co-beneldopa', \n",
    "         'Madopar', 'Co-careldopa', \n",
    "         'Sinemet', 'Entacapone', \n",
    "         'Comtess', 'Pergolide', \n",
    "         'Rasagiline', 'Azilect', \n",
    "         'Selegiline', 'Zelapar', \n",
    "         'Tolcapone', 'Tasmar',\n",
    "         'Levodopa', 'L-DOPA']"
   ]
  },
  {
   "cell_type": "code",
   "execution_count": 3,
   "metadata": {},
   "outputs": [],
   "source": [
    "def load_data(filename):\n",
    "    return pd.read_csv(filename,  \n",
    "                       parse_dates = True)"
   ]
  },
  {
   "cell_type": "code",
   "execution_count": 4,
   "metadata": {},
   "outputs": [],
   "source": [
    "# this dataframe was created with the 'queries.ipynb' script\n",
    "park = load_data('parkinson_1960tonow.csv')"
   ]
  },
  {
   "cell_type": "code",
   "execution_count": 5,
   "metadata": {},
   "outputs": [],
   "source": [
    "park.date = pd.to_datetime(park.date)"
   ]
  },
  {
   "cell_type": "code",
   "execution_count": 6,
   "metadata": {},
   "outputs": [
    {
     "data": {
      "text/plain": [
       "7096"
      ]
     },
     "execution_count": 6,
     "metadata": {},
     "output_type": "execute_result"
    }
   ],
   "source": [
    "len(park)"
   ]
  },
  {
   "cell_type": "code",
   "execution_count": 7,
   "metadata": {},
   "outputs": [],
   "source": [
    "def named_drug(row):\n",
    "    for d in drugs:\n",
    "        if d.lower() in row.lower():\n",
    "            return(d)        "
   ]
  },
  {
   "cell_type": "code",
   "execution_count": 8,
   "metadata": {},
   "outputs": [],
   "source": [
    "park['named_drug'] = park.abstract.apply(named_drug)"
   ]
  },
  {
   "cell_type": "code",
   "execution_count": 9,
   "metadata": {},
   "outputs": [
    {
     "data": {
      "text/plain": [
       "1551"
      ]
     },
     "execution_count": 9,
     "metadata": {},
     "output_type": "execute_result"
    }
   ],
   "source": [
    "park.named_drug.notnull().sum()"
   ]
  },
  {
   "cell_type": "code",
   "execution_count": 10,
   "metadata": {},
   "outputs": [
    {
     "data": {
      "text/html": [
       "<div>\n",
       "<style scoped>\n",
       "    .dataframe tbody tr th:only-of-type {\n",
       "        vertical-align: middle;\n",
       "    }\n",
       "\n",
       "    .dataframe tbody tr th {\n",
       "        vertical-align: top;\n",
       "    }\n",
       "\n",
       "    .dataframe thead th {\n",
       "        text-align: right;\n",
       "    }\n",
       "</style>\n",
       "<table border=\"1\" class=\"dataframe\">\n",
       "  <thead>\n",
       "    <tr style=\"text-align: right;\">\n",
       "      <th></th>\n",
       "      <th>Unnamed: 0</th>\n",
       "      <th>published in</th>\n",
       "      <th>title</th>\n",
       "      <th>citations</th>\n",
       "      <th>date</th>\n",
       "      <th>authors</th>\n",
       "      <th>abstract</th>\n",
       "      <th>named_drug</th>\n",
       "    </tr>\n",
       "  </thead>\n",
       "  <tbody>\n",
       "    <tr>\n",
       "      <th>6</th>\n",
       "      <td>6</td>\n",
       "      <td>The European journal of neuroscience</td>\n",
       "      <td>Repurposing an established drug: an emerging r...</td>\n",
       "      <td>NaN</td>\n",
       "      <td>2018-07-18</td>\n",
       "      <td>Keila Bariotto-Dos-Santos, Fernando Eduardo Pa...</td>\n",
       "      <td>The nitric oxide (NO) system has been proven t...</td>\n",
       "      <td>L-DOPA</td>\n",
       "    </tr>\n",
       "    <tr>\n",
       "      <th>18</th>\n",
       "      <td>18</td>\n",
       "      <td>Current medical research and opinion</td>\n",
       "      <td>Developing consensus among movement disorder s...</td>\n",
       "      <td>NaN</td>\n",
       "      <td>2018-07-17</td>\n",
       "      <td>Angelo Antonini, A Jon Stoessl, Leah S Kleinma...</td>\n",
       "      <td>Lack of a global consensus on definition of ad...</td>\n",
       "      <td>Levodopa</td>\n",
       "    </tr>\n",
       "    <tr>\n",
       "      <th>41</th>\n",
       "      <td>41</td>\n",
       "      <td>Journal of the neurological sciences</td>\n",
       "      <td>Toe dystonia in Parkinson's disease: Impact of...</td>\n",
       "      <td>NaN</td>\n",
       "      <td>2018-07-12</td>\n",
       "      <td>Chloe Laurencin, Solveig Montaut, Christophe V...</td>\n",
       "      <td>Off state toe dystonia (TD) is a symptom frequ...</td>\n",
       "      <td>Levodopa</td>\n",
       "    </tr>\n",
       "    <tr>\n",
       "      <th>45</th>\n",
       "      <td>45</td>\n",
       "      <td>Clinical neuropharmacology</td>\n",
       "      <td>Postural Disorders and Antiparkinsonian Treatm...</td>\n",
       "      <td>NaN</td>\n",
       "      <td>2018-07-12</td>\n",
       "      <td>Lucía Ameghino, Verónica Bruno, Marcelo Merello</td>\n",
       "      <td>The aim of this study was to evaluate the rela...</td>\n",
       "      <td>Amantadine</td>\n",
       "    </tr>\n",
       "    <tr>\n",
       "      <th>54</th>\n",
       "      <td>54</td>\n",
       "      <td>Journal of neural transmission (Vienna, Austri...</td>\n",
       "      <td>Effects of histone acetyltransferase inhibitor...</td>\n",
       "      <td>NaN</td>\n",
       "      <td>2018-07-11</td>\n",
       "      <td>Young-Kyoung Ryu, Hye-Yeon Park, Jun Go, Yong-...</td>\n",
       "      <td>Histone acetylation is a key regulatory factor...</td>\n",
       "      <td>L-DOPA</td>\n",
       "    </tr>\n",
       "  </tbody>\n",
       "</table>\n",
       "</div>"
      ],
      "text/plain": [
       "    Unnamed: 0                                       published in  \\\n",
       "6            6               The European journal of neuroscience   \n",
       "18          18               Current medical research and opinion   \n",
       "41          41               Journal of the neurological sciences   \n",
       "45          45                         Clinical neuropharmacology   \n",
       "54          54  Journal of neural transmission (Vienna, Austri...   \n",
       "\n",
       "                                                title citations       date  \\\n",
       "6   Repurposing an established drug: an emerging r...       NaN 2018-07-18   \n",
       "18  Developing consensus among movement disorder s...       NaN 2018-07-17   \n",
       "41  Toe dystonia in Parkinson's disease: Impact of...       NaN 2018-07-12   \n",
       "45  Postural Disorders and Antiparkinsonian Treatm...       NaN 2018-07-12   \n",
       "54  Effects of histone acetyltransferase inhibitor...       NaN 2018-07-11   \n",
       "\n",
       "                                              authors  \\\n",
       "6   Keila Bariotto-Dos-Santos, Fernando Eduardo Pa...   \n",
       "18  Angelo Antonini, A Jon Stoessl, Leah S Kleinma...   \n",
       "41  Chloe Laurencin, Solveig Montaut, Christophe V...   \n",
       "45    Lucía Ameghino, Verónica Bruno, Marcelo Merello   \n",
       "54  Young-Kyoung Ryu, Hye-Yeon Park, Jun Go, Yong-...   \n",
       "\n",
       "                                             abstract  named_drug  \n",
       "6   The nitric oxide (NO) system has been proven t...      L-DOPA  \n",
       "18  Lack of a global consensus on definition of ad...    Levodopa  \n",
       "41  Off state toe dystonia (TD) is a symptom frequ...    Levodopa  \n",
       "45  The aim of this study was to evaluate the rela...  Amantadine  \n",
       "54  Histone acetylation is a key regulatory factor...      L-DOPA  "
      ]
     },
     "execution_count": 10,
     "metadata": {},
     "output_type": "execute_result"
    }
   ],
   "source": [
    "park[park.named_drug.notnull()][:5]"
   ]
  },
  {
   "cell_type": "code",
   "execution_count": 11,
   "metadata": {},
   "outputs": [
    {
     "data": {
      "text/plain": [
       "named_drug\n",
       "Amantadine       84\n",
       "Apomorphine     168\n",
       "Co-beneldopa      1\n",
       "Entacapone       17\n",
       "L-DOPA          442\n",
       "Levodopa        651\n",
       "Madopar          27\n",
       "Pergolide        48\n",
       "Rasagiline       10\n",
       "Selegiline       48\n",
       "Sinemet          50\n",
       "Tolcapone         5\n",
       "Name: abstract, dtype: int64"
      ]
     },
     "execution_count": 11,
     "metadata": {},
     "output_type": "execute_result"
    }
   ],
   "source": [
    "park.groupby(by = 'named_drug').count().abstract"
   ]
  },
  {
   "cell_type": "markdown",
   "metadata": {},
   "source": [
    "### FDA has a list of all approved drugs"
   ]
  },
  {
   "cell_type": "code",
   "execution_count": 12,
   "metadata": {},
   "outputs": [],
   "source": [
    "fda_drugs = pd.read_table('Products.txt', usecols = ['Form', 'Strength','DrugName', 'ActiveIngredient'])"
   ]
  },
  {
   "cell_type": "code",
   "execution_count": 13,
   "metadata": {},
   "outputs": [
    {
     "data": {
      "text/plain": [
       "2709"
      ]
     },
     "execution_count": 13,
     "metadata": {},
     "output_type": "execute_result"
    }
   ],
   "source": [
    "len(fda_drugs.ActiveIngredient.unique())"
   ]
  },
  {
   "cell_type": "code",
   "execution_count": 14,
   "metadata": {},
   "outputs": [
    {
     "data": {
      "text/html": [
       "<div>\n",
       "<style scoped>\n",
       "    .dataframe tbody tr th:only-of-type {\n",
       "        vertical-align: middle;\n",
       "    }\n",
       "\n",
       "    .dataframe tbody tr th {\n",
       "        vertical-align: top;\n",
       "    }\n",
       "\n",
       "    .dataframe thead th {\n",
       "        text-align: right;\n",
       "    }\n",
       "</style>\n",
       "<table border=\"1\" class=\"dataframe\">\n",
       "  <thead>\n",
       "    <tr style=\"text-align: right;\">\n",
       "      <th></th>\n",
       "      <th>Form</th>\n",
       "      <th>Strength</th>\n",
       "      <th>DrugName</th>\n",
       "      <th>ActiveIngredient</th>\n",
       "    </tr>\n",
       "  </thead>\n",
       "  <tbody>\n",
       "    <tr>\n",
       "      <th>0</th>\n",
       "      <td>SOLUTION/DROPS;OPHTHALMIC</td>\n",
       "      <td>1%</td>\n",
       "      <td>PAREDRINE</td>\n",
       "      <td>HYDROXYAMPHETAMINE HYDROBROMIDE</td>\n",
       "    </tr>\n",
       "    <tr>\n",
       "      <th>1</th>\n",
       "      <td>TABLET;ORAL</td>\n",
       "      <td>500MG</td>\n",
       "      <td>SULFAPYRIDINE</td>\n",
       "      <td>SULFAPYRIDINE</td>\n",
       "    </tr>\n",
       "    <tr>\n",
       "      <th>2</th>\n",
       "      <td>INJECTABLE;INJECTION</td>\n",
       "      <td>20,000 UNITS/ML</td>\n",
       "      <td>LIQUAEMIN SODIUM</td>\n",
       "      <td>HEPARIN SODIUM</td>\n",
       "    </tr>\n",
       "    <tr>\n",
       "      <th>3</th>\n",
       "      <td>INJECTABLE;INJECTION</td>\n",
       "      <td>40,000 UNITS/ML</td>\n",
       "      <td>LIQUAEMIN SODIUM</td>\n",
       "      <td>HEPARIN SODIUM</td>\n",
       "    </tr>\n",
       "    <tr>\n",
       "      <th>4</th>\n",
       "      <td>INJECTABLE;INJECTION</td>\n",
       "      <td>5,000 UNITS/ML</td>\n",
       "      <td>LIQUAEMIN SODIUM</td>\n",
       "      <td>HEPARIN SODIUM</td>\n",
       "    </tr>\n",
       "  </tbody>\n",
       "</table>\n",
       "</div>"
      ],
      "text/plain": [
       "                        Form         Strength          DrugName  \\\n",
       "0  SOLUTION/DROPS;OPHTHALMIC               1%         PAREDRINE   \n",
       "1                TABLET;ORAL            500MG     SULFAPYRIDINE   \n",
       "2       INJECTABLE;INJECTION  20,000 UNITS/ML  LIQUAEMIN SODIUM   \n",
       "3       INJECTABLE;INJECTION  40,000 UNITS/ML  LIQUAEMIN SODIUM   \n",
       "4       INJECTABLE;INJECTION   5,000 UNITS/ML  LIQUAEMIN SODIUM   \n",
       "\n",
       "                  ActiveIngredient  \n",
       "0  HYDROXYAMPHETAMINE HYDROBROMIDE  \n",
       "1                    SULFAPYRIDINE  \n",
       "2                   HEPARIN SODIUM  \n",
       "3                   HEPARIN SODIUM  \n",
       "4                   HEPARIN SODIUM  "
      ]
     },
     "execution_count": 14,
     "metadata": {},
     "output_type": "execute_result"
    }
   ],
   "source": [
    "fda_drugs.head()"
   ]
  },
  {
   "cell_type": "code",
   "execution_count": 15,
   "metadata": {},
   "outputs": [
    {
     "data": {
      "text/plain": [
       "True"
      ]
     },
     "execution_count": 15,
     "metadata": {},
     "output_type": "execute_result"
    }
   ],
   "source": [
    "'NORDITROPIN' in fda_drugs.DrugName.values"
   ]
  },
  {
   "cell_type": "code",
   "execution_count": 16,
   "metadata": {},
   "outputs": [
    {
     "data": {
      "text/html": [
       "<div>\n",
       "<style scoped>\n",
       "    .dataframe tbody tr th:only-of-type {\n",
       "        vertical-align: middle;\n",
       "    }\n",
       "\n",
       "    .dataframe tbody tr th {\n",
       "        vertical-align: top;\n",
       "    }\n",
       "\n",
       "    .dataframe thead th {\n",
       "        text-align: right;\n",
       "    }\n",
       "</style>\n",
       "<table border=\"1\" class=\"dataframe\">\n",
       "  <thead>\n",
       "    <tr style=\"text-align: right;\">\n",
       "      <th></th>\n",
       "      <th>Form</th>\n",
       "      <th>Strength</th>\n",
       "      <th>DrugName</th>\n",
       "      <th>ActiveIngredient</th>\n",
       "    </tr>\n",
       "  </thead>\n",
       "  <tbody>\n",
       "    <tr>\n",
       "      <th>12550</th>\n",
       "      <td>CAPSULE;ORAL</td>\n",
       "      <td>100MG</td>\n",
       "      <td>AMANTADINE HYDROCHLORIDE</td>\n",
       "      <td>AMANTADINE HYDROCHLORIDE</td>\n",
       "    </tr>\n",
       "    <tr>\n",
       "      <th>13109</th>\n",
       "      <td>CAPSULE;ORAL</td>\n",
       "      <td>100MG</td>\n",
       "      <td>AMANTADINE HYDROCHLORIDE</td>\n",
       "      <td>AMANTADINE HYDROCHLORIDE</td>\n",
       "    </tr>\n",
       "    <tr>\n",
       "      <th>13165</th>\n",
       "      <td>CAPSULE;ORAL</td>\n",
       "      <td>100MG</td>\n",
       "      <td>AMANTADINE HYDROCHLORIDE</td>\n",
       "      <td>AMANTADINE HYDROCHLORIDE</td>\n",
       "    </tr>\n",
       "    <tr>\n",
       "      <th>13890</th>\n",
       "      <td>SYRUP;ORAL</td>\n",
       "      <td>50MG/5ML</td>\n",
       "      <td>AMANTADINE HYDROCHLORIDE</td>\n",
       "      <td>AMANTADINE HYDROCHLORIDE</td>\n",
       "    </tr>\n",
       "    <tr>\n",
       "      <th>14048</th>\n",
       "      <td>SYRUP;ORAL</td>\n",
       "      <td>50MG/5ML</td>\n",
       "      <td>AMANTADINE HYDROCHLORIDE</td>\n",
       "      <td>AMANTADINE HYDROCHLORIDE</td>\n",
       "    </tr>\n",
       "    <tr>\n",
       "      <th>14277</th>\n",
       "      <td>SYRUP;ORAL</td>\n",
       "      <td>50MG/5ML</td>\n",
       "      <td>AMANTADINE HYDROCHLORIDE</td>\n",
       "      <td>AMANTADINE HYDROCHLORIDE</td>\n",
       "    </tr>\n",
       "    <tr>\n",
       "      <th>14440</th>\n",
       "      <td>SYRUP;ORAL</td>\n",
       "      <td>50MG/5ML</td>\n",
       "      <td>AMANTADINE HYDROCHLORIDE</td>\n",
       "      <td>AMANTADINE HYDROCHLORIDE</td>\n",
       "    </tr>\n",
       "    <tr>\n",
       "      <th>14890</th>\n",
       "      <td>SYRUP;ORAL</td>\n",
       "      <td>50MG/5ML</td>\n",
       "      <td>AMANTADINE HYDROCHLORIDE</td>\n",
       "      <td>AMANTADINE HYDROCHLORIDE</td>\n",
       "    </tr>\n",
       "    <tr>\n",
       "      <th>15557</th>\n",
       "      <td>SYRUP;ORAL</td>\n",
       "      <td>50MG/5ML</td>\n",
       "      <td>AMANTADINE HYDROCHLORIDE</td>\n",
       "      <td>AMANTADINE HYDROCHLORIDE</td>\n",
       "    </tr>\n",
       "    <tr>\n",
       "      <th>16614</th>\n",
       "      <td>SYRUP;ORAL</td>\n",
       "      <td>50MG/5ML</td>\n",
       "      <td>AMANTADINE HYDROCHLORIDE</td>\n",
       "      <td>AMANTADINE HYDROCHLORIDE</td>\n",
       "    </tr>\n",
       "    <tr>\n",
       "      <th>17234</th>\n",
       "      <td>TABLET;ORAL</td>\n",
       "      <td>100MG</td>\n",
       "      <td>AMANTADINE HYDROCHLORIDE</td>\n",
       "      <td>AMANTADINE HYDROCHLORIDE</td>\n",
       "    </tr>\n",
       "    <tr>\n",
       "      <th>17555</th>\n",
       "      <td>SYRUP;ORAL</td>\n",
       "      <td>50MG/5ML</td>\n",
       "      <td>AMANTADINE HYDROCHLORIDE</td>\n",
       "      <td>AMANTADINE HYDROCHLORIDE</td>\n",
       "    </tr>\n",
       "    <tr>\n",
       "      <th>19837</th>\n",
       "      <td>CAPSULE;ORAL</td>\n",
       "      <td>100MG</td>\n",
       "      <td>AMANTADINE HYDROCHLORIDE</td>\n",
       "      <td>AMANTADINE HYDROCHLORIDE</td>\n",
       "    </tr>\n",
       "    <tr>\n",
       "      <th>20436</th>\n",
       "      <td>SYRUP;ORAL</td>\n",
       "      <td>50MG/5ML</td>\n",
       "      <td>AMANTADINE HYDROCHLORIDE</td>\n",
       "      <td>AMANTADINE HYDROCHLORIDE</td>\n",
       "    </tr>\n",
       "    <tr>\n",
       "      <th>21659</th>\n",
       "      <td>CAPSULE;ORAL</td>\n",
       "      <td>100MG</td>\n",
       "      <td>AMANTADINE HYDROCHLORIDE</td>\n",
       "      <td>AMANTADINE HYDROCHLORIDE</td>\n",
       "    </tr>\n",
       "    <tr>\n",
       "      <th>35866</th>\n",
       "      <td>CAPSULE;ORAL</td>\n",
       "      <td>100MG</td>\n",
       "      <td>AMANTADINE HYDROCHLORIDE</td>\n",
       "      <td>AMANTADINE HYDROCHLORIDE</td>\n",
       "    </tr>\n",
       "    <tr>\n",
       "      <th>35867</th>\n",
       "      <td>TABLET;ORAL</td>\n",
       "      <td>100MG</td>\n",
       "      <td>AMANTADINE HYDROCHLORIDE</td>\n",
       "      <td>AMANTADINE HYDROCHLORIDE</td>\n",
       "    </tr>\n",
       "    <tr>\n",
       "      <th>36281</th>\n",
       "      <td>TABLET;ORAL</td>\n",
       "      <td>100MG</td>\n",
       "      <td>AMANTADINE HYDROCHLORIDE</td>\n",
       "      <td>AMANTADINE HYDROCHLORIDE</td>\n",
       "    </tr>\n",
       "    <tr>\n",
       "      <th>36293</th>\n",
       "      <td>CAPSULE;ORAL</td>\n",
       "      <td>100MG</td>\n",
       "      <td>AMANTADINE HYDROCHLORIDE</td>\n",
       "      <td>AMANTADINE HYDROCHLORIDE</td>\n",
       "    </tr>\n",
       "    <tr>\n",
       "      <th>36390</th>\n",
       "      <td>CAPSULE;ORAL</td>\n",
       "      <td>100MG</td>\n",
       "      <td>AMANTADINE HYDROCHLORIDE</td>\n",
       "      <td>AMANTADINE HYDROCHLORIDE</td>\n",
       "    </tr>\n",
       "    <tr>\n",
       "      <th>36763</th>\n",
       "      <td>CAPSULE;ORAL</td>\n",
       "      <td>100MG</td>\n",
       "      <td>AMANTADINE HYDROCHLORIDE</td>\n",
       "      <td>AMANTADINE HYDROCHLORIDE</td>\n",
       "    </tr>\n",
       "    <tr>\n",
       "      <th>36802</th>\n",
       "      <td>TABLET;ORAL</td>\n",
       "      <td>100MG</td>\n",
       "      <td>AMANTADINE HYDROCHLORIDE</td>\n",
       "      <td>AMANTADINE HYDROCHLORIDE</td>\n",
       "    </tr>\n",
       "    <tr>\n",
       "      <th>36815</th>\n",
       "      <td>CAPSULE;ORAL</td>\n",
       "      <td>100MG</td>\n",
       "      <td>AMANTADINE HYDROCHLORIDE</td>\n",
       "      <td>AMANTADINE HYDROCHLORIDE</td>\n",
       "    </tr>\n",
       "    <tr>\n",
       "      <th>36869</th>\n",
       "      <td>CAPSULE;ORAL</td>\n",
       "      <td>100MG</td>\n",
       "      <td>AMANTADINE HYDROCHLORIDE</td>\n",
       "      <td>AMANTADINE HYDROCHLORIDE</td>\n",
       "    </tr>\n",
       "    <tr>\n",
       "      <th>36894</th>\n",
       "      <td>CAPSULE;ORAL</td>\n",
       "      <td>100MG</td>\n",
       "      <td>AMANTADINE HYDROCHLORIDE</td>\n",
       "      <td>AMANTADINE HYDROCHLORIDE</td>\n",
       "    </tr>\n",
       "    <tr>\n",
       "      <th>37310</th>\n",
       "      <td>TABLET;ORAL</td>\n",
       "      <td>100MG</td>\n",
       "      <td>AMANTADINE HYDROCHLORIDE</td>\n",
       "      <td>AMANTADINE HYDROCHLORIDE</td>\n",
       "    </tr>\n",
       "  </tbody>\n",
       "</table>\n",
       "</div>"
      ],
      "text/plain": [
       "               Form  Strength                  DrugName  \\\n",
       "12550  CAPSULE;ORAL     100MG  AMANTADINE HYDROCHLORIDE   \n",
       "13109  CAPSULE;ORAL     100MG  AMANTADINE HYDROCHLORIDE   \n",
       "13165  CAPSULE;ORAL     100MG  AMANTADINE HYDROCHLORIDE   \n",
       "13890    SYRUP;ORAL  50MG/5ML  AMANTADINE HYDROCHLORIDE   \n",
       "14048    SYRUP;ORAL  50MG/5ML  AMANTADINE HYDROCHLORIDE   \n",
       "14277    SYRUP;ORAL  50MG/5ML  AMANTADINE HYDROCHLORIDE   \n",
       "14440    SYRUP;ORAL  50MG/5ML  AMANTADINE HYDROCHLORIDE   \n",
       "14890    SYRUP;ORAL  50MG/5ML  AMANTADINE HYDROCHLORIDE   \n",
       "15557    SYRUP;ORAL  50MG/5ML  AMANTADINE HYDROCHLORIDE   \n",
       "16614    SYRUP;ORAL  50MG/5ML  AMANTADINE HYDROCHLORIDE   \n",
       "17234   TABLET;ORAL     100MG  AMANTADINE HYDROCHLORIDE   \n",
       "17555    SYRUP;ORAL  50MG/5ML  AMANTADINE HYDROCHLORIDE   \n",
       "19837  CAPSULE;ORAL     100MG  AMANTADINE HYDROCHLORIDE   \n",
       "20436    SYRUP;ORAL  50MG/5ML  AMANTADINE HYDROCHLORIDE   \n",
       "21659  CAPSULE;ORAL     100MG  AMANTADINE HYDROCHLORIDE   \n",
       "35866  CAPSULE;ORAL     100MG  AMANTADINE HYDROCHLORIDE   \n",
       "35867   TABLET;ORAL     100MG  AMANTADINE HYDROCHLORIDE   \n",
       "36281   TABLET;ORAL     100MG  AMANTADINE HYDROCHLORIDE   \n",
       "36293  CAPSULE;ORAL     100MG  AMANTADINE HYDROCHLORIDE   \n",
       "36390  CAPSULE;ORAL     100MG  AMANTADINE HYDROCHLORIDE   \n",
       "36763  CAPSULE;ORAL     100MG  AMANTADINE HYDROCHLORIDE   \n",
       "36802   TABLET;ORAL     100MG  AMANTADINE HYDROCHLORIDE   \n",
       "36815  CAPSULE;ORAL     100MG  AMANTADINE HYDROCHLORIDE   \n",
       "36869  CAPSULE;ORAL     100MG  AMANTADINE HYDROCHLORIDE   \n",
       "36894  CAPSULE;ORAL     100MG  AMANTADINE HYDROCHLORIDE   \n",
       "37310   TABLET;ORAL     100MG  AMANTADINE HYDROCHLORIDE   \n",
       "\n",
       "               ActiveIngredient  \n",
       "12550  AMANTADINE HYDROCHLORIDE  \n",
       "13109  AMANTADINE HYDROCHLORIDE  \n",
       "13165  AMANTADINE HYDROCHLORIDE  \n",
       "13890  AMANTADINE HYDROCHLORIDE  \n",
       "14048  AMANTADINE HYDROCHLORIDE  \n",
       "14277  AMANTADINE HYDROCHLORIDE  \n",
       "14440  AMANTADINE HYDROCHLORIDE  \n",
       "14890  AMANTADINE HYDROCHLORIDE  \n",
       "15557  AMANTADINE HYDROCHLORIDE  \n",
       "16614  AMANTADINE HYDROCHLORIDE  \n",
       "17234  AMANTADINE HYDROCHLORIDE  \n",
       "17555  AMANTADINE HYDROCHLORIDE  \n",
       "19837  AMANTADINE HYDROCHLORIDE  \n",
       "20436  AMANTADINE HYDROCHLORIDE  \n",
       "21659  AMANTADINE HYDROCHLORIDE  \n",
       "35866  AMANTADINE HYDROCHLORIDE  \n",
       "35867  AMANTADINE HYDROCHLORIDE  \n",
       "36281  AMANTADINE HYDROCHLORIDE  \n",
       "36293  AMANTADINE HYDROCHLORIDE  \n",
       "36390  AMANTADINE HYDROCHLORIDE  \n",
       "36763  AMANTADINE HYDROCHLORIDE  \n",
       "36802  AMANTADINE HYDROCHLORIDE  \n",
       "36815  AMANTADINE HYDROCHLORIDE  \n",
       "36869  AMANTADINE HYDROCHLORIDE  \n",
       "36894  AMANTADINE HYDROCHLORIDE  \n",
       "37310  AMANTADINE HYDROCHLORIDE  "
      ]
     },
     "execution_count": 16,
     "metadata": {},
     "output_type": "execute_result"
    }
   ],
   "source": [
    "fda_drugs.loc[fda_drugs.DrugName.str.contains('AMANTADINE')]"
   ]
  },
  {
   "cell_type": "markdown",
   "metadata": {},
   "source": [
    "The problem with this list is that many drugs and many active ingredients are multiple words. The whole string might not match in abstracts, but single words might match too often, if they are too common.  \n",
    "Solution? \n",
    "* Remove common chemicals (hydrochloride, sodium etc), which ones?"
   ]
  },
  {
   "cell_type": "code",
   "execution_count": 17,
   "metadata": {},
   "outputs": [],
   "source": [
    "fda_drug_names = set(fda_drugs.DrugName.values)"
   ]
  },
  {
   "cell_type": "code",
   "execution_count": 18,
   "metadata": {},
   "outputs": [
    {
     "data": {
      "text/plain": [
       "7102"
      ]
     },
     "execution_count": 18,
     "metadata": {},
     "output_type": "execute_result"
    }
   ],
   "source": [
    "len(fda_drug_names)"
   ]
  },
  {
   "cell_type": "code",
   "execution_count": 19,
   "metadata": {},
   "outputs": [],
   "source": [
    "fda_act_ingr = set(fda_drugs.ActiveIngredient.values)"
   ]
  },
  {
   "cell_type": "code",
   "execution_count": 21,
   "metadata": {},
   "outputs": [],
   "source": [
    "# this list contains words that should be ignored. More words can be added if necessary.\n",
    "non_ingr = ['SODIUM', 'HYDROCHLORIDE',\n",
    "           'ACETATE', 'POTASSIUM',\n",
    "           'CALCIUM', 'AMINO', 'ACIDS',\n",
    "           'ALCOHOL', 'GLYCINE',\n",
    "           'CHLORIDE', 'SULFATE',\n",
    "           'RECOMBINANT', 'PHOSPHATE',\n",
    "           'DIHYDROCHLORIDE', 'DIPHOSPHATE',\n",
    "           'DEXTROSE', 'MAGNESIUM',\n",
    "           'OXYGEN']\n",
    "fai = []\n",
    "# use regex to split strings into single words\n",
    "for item in list(fda_act_ingr):\n",
    "    fai.append(' '.join([n for n in re.split('[\\W]+', item) if n not in non_ingr]))"
   ]
  },
  {
   "cell_type": "code",
   "execution_count": 22,
   "metadata": {},
   "outputs": [],
   "source": [
    "fai = set(fai) - {''}"
   ]
  },
  {
   "cell_type": "code",
   "execution_count": 23,
   "metadata": {},
   "outputs": [],
   "source": [
    "def named_fda_drug(row):\n",
    "    drugs = []\n",
    "    for d in fai:\n",
    "        if d in row.upper():\n",
    "            drugs.append(d)\n",
    "    if len(drugs) != 0: # don't return empty lists\n",
    "        return drugs"
   ]
  },
  {
   "cell_type": "code",
   "execution_count": 24,
   "metadata": {},
   "outputs": [],
   "source": [
    "park['named_fda_drug'] = park.abstract.apply(named_fda_drug)"
   ]
  },
  {
   "cell_type": "code",
   "execution_count": 25,
   "metadata": {},
   "outputs": [
    {
     "data": {
      "text/plain": [
       "3458"
      ]
     },
     "execution_count": 25,
     "metadata": {},
     "output_type": "execute_result"
    }
   ],
   "source": [
    "park.named_fda_drug.notnull().sum()"
   ]
  },
  {
   "cell_type": "code",
   "execution_count": 26,
   "metadata": {},
   "outputs": [
    {
     "data": {
      "text/html": [
       "<div>\n",
       "<style scoped>\n",
       "    .dataframe tbody tr th:only-of-type {\n",
       "        vertical-align: middle;\n",
       "    }\n",
       "\n",
       "    .dataframe tbody tr th {\n",
       "        vertical-align: top;\n",
       "    }\n",
       "\n",
       "    .dataframe thead th {\n",
       "        text-align: right;\n",
       "    }\n",
       "</style>\n",
       "<table border=\"1\" class=\"dataframe\">\n",
       "  <thead>\n",
       "    <tr style=\"text-align: right;\">\n",
       "      <th></th>\n",
       "      <th>Unnamed: 0</th>\n",
       "      <th>published in</th>\n",
       "      <th>title</th>\n",
       "      <th>citations</th>\n",
       "      <th>date</th>\n",
       "      <th>authors</th>\n",
       "      <th>abstract</th>\n",
       "      <th>named_drug</th>\n",
       "      <th>named_fda_drug</th>\n",
       "    </tr>\n",
       "  </thead>\n",
       "  <tbody>\n",
       "    <tr>\n",
       "      <th>0</th>\n",
       "      <td>0</td>\n",
       "      <td>ACS chemical neuroscience</td>\n",
       "      <td>Mode-Selective Raman Imaging of Dopamine-Human...</td>\n",
       "      <td>NaN</td>\n",
       "      <td>2018-07-19</td>\n",
       "      <td>Achut Prasad Silwal, H Peter Lu</td>\n",
       "      <td>Dopamine (DA) is the catecholamine neurotransm...</td>\n",
       "      <td>None</td>\n",
       "      <td>[DOPAMINE]</td>\n",
       "    </tr>\n",
       "    <tr>\n",
       "      <th>2</th>\n",
       "      <td>2</td>\n",
       "      <td>ACS chemical biology</td>\n",
       "      <td>Chemical Probe To Monitor the Parkinsonism-Ass...</td>\n",
       "      <td>NaN</td>\n",
       "      <td>2018-07-19</td>\n",
       "      <td>Jonas Drechsel, Franziska A Mandl, Stephan A S...</td>\n",
       "      <td>Reactive oxygen species (ROS) play an importan...</td>\n",
       "      <td>None</td>\n",
       "      <td>[CYSTEINE]</td>\n",
       "    </tr>\n",
       "    <tr>\n",
       "      <th>6</th>\n",
       "      <td>6</td>\n",
       "      <td>The European journal of neuroscience</td>\n",
       "      <td>Repurposing an established drug: an emerging r...</td>\n",
       "      <td>NaN</td>\n",
       "      <td>2018-07-18</td>\n",
       "      <td>Keila Bariotto-Dos-Santos, Fernando Eduardo Pa...</td>\n",
       "      <td>The nitric oxide (NO) system has been proven t...</td>\n",
       "      <td>L-DOPA</td>\n",
       "      <td>[DOPAMINE, NITRIC OXIDE, METHYLENE BLUE]</td>\n",
       "    </tr>\n",
       "    <tr>\n",
       "      <th>8</th>\n",
       "      <td>8</td>\n",
       "      <td>Medicine</td>\n",
       "      <td>Gastrointestinal nervous system α-synuclein as...</td>\n",
       "      <td>NaN</td>\n",
       "      <td>2018-07-18</td>\n",
       "      <td>Fudong Yan, Ying Chen, Min Li, Yingqing Wang, ...</td>\n",
       "      <td>Lewy bodies (LB) play an essential role in the...</td>\n",
       "      <td>None</td>\n",
       "      <td>[DOPAMINE]</td>\n",
       "    </tr>\n",
       "    <tr>\n",
       "      <th>9</th>\n",
       "      <td>9</td>\n",
       "      <td>Cellular physiology and biochemistry : interna...</td>\n",
       "      <td>Fibroblast Growth Factor 9 Suppresses Striatal...</td>\n",
       "      <td>NaN</td>\n",
       "      <td>2018-07-18</td>\n",
       "      <td>Issa Olakunle Yusuf, Pei-Hsun Cheng, Hsiu-Mei ...</td>\n",
       "      <td>Huntington's disease (HD) is a heritable neuro...</td>\n",
       "      <td>None</td>\n",
       "      <td>[IODIDE]</td>\n",
       "    </tr>\n",
       "    <tr>\n",
       "      <th>18</th>\n",
       "      <td>18</td>\n",
       "      <td>Current medical research and opinion</td>\n",
       "      <td>Developing consensus among movement disorder s...</td>\n",
       "      <td>NaN</td>\n",
       "      <td>2018-07-17</td>\n",
       "      <td>Angelo Antonini, A Jon Stoessl, Leah S Kleinma...</td>\n",
       "      <td>Lack of a global consensus on definition of ad...</td>\n",
       "      <td>Levodopa</td>\n",
       "      <td>[LEVODOPA, CARBIDOPA]</td>\n",
       "    </tr>\n",
       "    <tr>\n",
       "      <th>20</th>\n",
       "      <td>20</td>\n",
       "      <td>Acta neurologica Belgica</td>\n",
       "      <td>The moral brain and moral behaviour in patient...</td>\n",
       "      <td>NaN</td>\n",
       "      <td>2018-07-16</td>\n",
       "      <td>Patrick Santens, Giel Vanschoenbeek, Marijke M...</td>\n",
       "      <td>Morality is a complex and versatile concept th...</td>\n",
       "      <td>None</td>\n",
       "      <td>[DOPAMINE]</td>\n",
       "    </tr>\n",
       "    <tr>\n",
       "      <th>24</th>\n",
       "      <td>24</td>\n",
       "      <td>Scientific reports</td>\n",
       "      <td>Post-treatment with PT302, a long-acting Exend...</td>\n",
       "      <td>Acta Neurol Scand. 2017 Dec;136(6):732-736, Ar...</td>\n",
       "      <td>2018-07-16</td>\n",
       "      <td>Shuchun Chen, Seong-Jin Yu, Yazhou Li, Daniela...</td>\n",
       "      <td>We previously demonstrated that pretreatment w...</td>\n",
       "      <td>None</td>\n",
       "      <td>[DOPAMINE, METHAMPHETAMINE, GLUCAGON, AMPHETAM...</td>\n",
       "    </tr>\n",
       "    <tr>\n",
       "      <th>29</th>\n",
       "      <td>29</td>\n",
       "      <td>Neurotoxicity research</td>\n",
       "      <td>Nicotine-Induced Neuroprotection in Rotenone I...</td>\n",
       "      <td>NaN</td>\n",
       "      <td>2018-07-13</td>\n",
       "      <td>Camila Mouhape, Gustavo Costa, Margot Ferreira...</td>\n",
       "      <td>Parkinson's disease (PD) is characterized by t...</td>\n",
       "      <td>None</td>\n",
       "      <td>[DOPAMINE, MECAMYLAMINE, NICOTINE, ACETYLCHOLINE]</td>\n",
       "    </tr>\n",
       "    <tr>\n",
       "      <th>31</th>\n",
       "      <td>31</td>\n",
       "      <td>Biochemical and biophysical research communica...</td>\n",
       "      <td>Salusin-β mediate neuroprotective effects for ...</td>\n",
       "      <td>NaN</td>\n",
       "      <td>2018-07-13</td>\n",
       "      <td>Yujung Chang, Junsang Yoo, Hongwon Kim, Hi-Joo...</td>\n",
       "      <td>Neuropeptides, small peptides found in many ma...</td>\n",
       "      <td>None</td>\n",
       "      <td>[DOPAMINE]</td>\n",
       "    </tr>\n",
       "  </tbody>\n",
       "</table>\n",
       "</div>"
      ],
      "text/plain": [
       "    Unnamed: 0                                       published in  \\\n",
       "0            0                          ACS chemical neuroscience   \n",
       "2            2                               ACS chemical biology   \n",
       "6            6               The European journal of neuroscience   \n",
       "8            8                                           Medicine   \n",
       "9            9  Cellular physiology and biochemistry : interna...   \n",
       "18          18               Current medical research and opinion   \n",
       "20          20                           Acta neurologica Belgica   \n",
       "24          24                                 Scientific reports   \n",
       "29          29                             Neurotoxicity research   \n",
       "31          31  Biochemical and biophysical research communica...   \n",
       "\n",
       "                                                title  \\\n",
       "0   Mode-Selective Raman Imaging of Dopamine-Human...   \n",
       "2   Chemical Probe To Monitor the Parkinsonism-Ass...   \n",
       "6   Repurposing an established drug: an emerging r...   \n",
       "8   Gastrointestinal nervous system α-synuclein as...   \n",
       "9   Fibroblast Growth Factor 9 Suppresses Striatal...   \n",
       "18  Developing consensus among movement disorder s...   \n",
       "20  The moral brain and moral behaviour in patient...   \n",
       "24  Post-treatment with PT302, a long-acting Exend...   \n",
       "29  Nicotine-Induced Neuroprotection in Rotenone I...   \n",
       "31  Salusin-β mediate neuroprotective effects for ...   \n",
       "\n",
       "                                            citations       date  \\\n",
       "0                                                 NaN 2018-07-19   \n",
       "2                                                 NaN 2018-07-19   \n",
       "6                                                 NaN 2018-07-18   \n",
       "8                                                 NaN 2018-07-18   \n",
       "9                                                 NaN 2018-07-18   \n",
       "18                                                NaN 2018-07-17   \n",
       "20                                                NaN 2018-07-16   \n",
       "24  Acta Neurol Scand. 2017 Dec;136(6):732-736, Ar... 2018-07-16   \n",
       "29                                                NaN 2018-07-13   \n",
       "31                                                NaN 2018-07-13   \n",
       "\n",
       "                                              authors  \\\n",
       "0                     Achut Prasad Silwal, H Peter Lu   \n",
       "2   Jonas Drechsel, Franziska A Mandl, Stephan A S...   \n",
       "6   Keila Bariotto-Dos-Santos, Fernando Eduardo Pa...   \n",
       "8   Fudong Yan, Ying Chen, Min Li, Yingqing Wang, ...   \n",
       "9   Issa Olakunle Yusuf, Pei-Hsun Cheng, Hsiu-Mei ...   \n",
       "18  Angelo Antonini, A Jon Stoessl, Leah S Kleinma...   \n",
       "20  Patrick Santens, Giel Vanschoenbeek, Marijke M...   \n",
       "24  Shuchun Chen, Seong-Jin Yu, Yazhou Li, Daniela...   \n",
       "29  Camila Mouhape, Gustavo Costa, Margot Ferreira...   \n",
       "31  Yujung Chang, Junsang Yoo, Hongwon Kim, Hi-Joo...   \n",
       "\n",
       "                                             abstract named_drug  \\\n",
       "0   Dopamine (DA) is the catecholamine neurotransm...       None   \n",
       "2   Reactive oxygen species (ROS) play an importan...       None   \n",
       "6   The nitric oxide (NO) system has been proven t...     L-DOPA   \n",
       "8   Lewy bodies (LB) play an essential role in the...       None   \n",
       "9   Huntington's disease (HD) is a heritable neuro...       None   \n",
       "18  Lack of a global consensus on definition of ad...   Levodopa   \n",
       "20  Morality is a complex and versatile concept th...       None   \n",
       "24  We previously demonstrated that pretreatment w...       None   \n",
       "29  Parkinson's disease (PD) is characterized by t...       None   \n",
       "31  Neuropeptides, small peptides found in many ma...       None   \n",
       "\n",
       "                                       named_fda_drug  \n",
       "0                                          [DOPAMINE]  \n",
       "2                                          [CYSTEINE]  \n",
       "6            [DOPAMINE, NITRIC OXIDE, METHYLENE BLUE]  \n",
       "8                                          [DOPAMINE]  \n",
       "9                                            [IODIDE]  \n",
       "18                              [LEVODOPA, CARBIDOPA]  \n",
       "20                                         [DOPAMINE]  \n",
       "24  [DOPAMINE, METHAMPHETAMINE, GLUCAGON, AMPHETAM...  \n",
       "29  [DOPAMINE, MECAMYLAMINE, NICOTINE, ACETYLCHOLINE]  \n",
       "31                                         [DOPAMINE]  "
      ]
     },
     "execution_count": 26,
     "metadata": {},
     "output_type": "execute_result"
    }
   ],
   "source": [
    "park.loc[park.named_fda_drug.notnull()][:5]"
   ]
  },
  {
   "cell_type": "code",
   "execution_count": 27,
   "metadata": {},
   "outputs": [],
   "source": [
    "\"\"\"\n",
    "Many abstracts will contain multiple hits from the drug list. \n",
    "This is how you get the counts of all named drugs in the whole dataframe.\n",
    "\"\"\"\n",
    "drug_counts = park.named_fda_drug.apply(lambda x: pd.Series(x).value_counts()).sum()"
   ]
  },
  {
   "cell_type": "code",
   "execution_count": 28,
   "metadata": {},
   "outputs": [
    {
     "data": {
      "text/plain": [
       "True"
      ]
     },
     "execution_count": 28,
     "metadata": {},
     "output_type": "execute_result"
    }
   ],
   "source": [
    "'LEVODOPA' in drug_counts"
   ]
  },
  {
   "cell_type": "code",
   "execution_count": 29,
   "metadata": {},
   "outputs": [],
   "source": [
    "drug_counts_dict = defaultdict(dict)\n",
    "for year in range(1969, 2018, 1):\n",
    "    mask = (park.date > str(year))&(park.date < str(year+1))\n",
    "    drug_counts = park.loc[mask]\\\n",
    "        .named_fda_drug.apply(lambda x: pd.Series(x).value_counts()).sum()\n",
    "    drug_counts_dict[year] = drug_counts.sort_values(ascending = False)[:20]\\\n",
    "        .to_dict()"
   ]
  },
  {
   "cell_type": "code",
   "execution_count": 30,
   "metadata": {},
   "outputs": [],
   "source": [
    "df_drug_counts = pd.DataFrame(drug_counts_dict).transpose()"
   ]
  },
  {
   "cell_type": "code",
   "execution_count": 44,
   "metadata": {},
   "outputs": [],
   "source": [
    "df_drug_counts['year'] = df_drug_counts.index # dash likes values from columns, not from indexes"
   ]
  },
  {
   "cell_type": "code",
   "execution_count": 47,
   "metadata": {},
   "outputs": [],
   "source": [
    "df_drug_counts.to_csv('dash_chris/named_drugs.csv')"
   ]
  },
  {
   "cell_type": "markdown",
   "metadata": {},
   "source": [
    "#### The rest of the notebook is just some visualization tryouts"
   ]
  },
  {
   "cell_type": "code",
   "execution_count": 34,
   "metadata": {},
   "outputs": [
    {
     "data": {
      "text/plain": [
       "<matplotlib.axes._subplots.AxesSubplot at 0x7fda969421d0>"
      ]
     },
     "execution_count": 34,
     "metadata": {},
     "output_type": "execute_result"
    },
    {
     "data": {
      "image/png": "[encoded data removed]",
      "text/plain": [
       "<Figure size 720x432 with 1 Axes>"
      ]
     },
     "metadata": {},
     "output_type": "display_data"
    }
   ],
   "source": [
    "# keep only columns with more than # non-null rows\n",
    "df_drug_counts.dropna(axis = 1, thresh = 20).plot(kind = 'bar',\n",
    "                                                 figsize = (10,6))"
   ]
  },
  {
   "cell_type": "code",
   "execution_count": 32,
   "metadata": {},
   "outputs": [
    {
     "data": {
      "text/plain": [
       "<matplotlib.axes._subplots.AxesSubplot at 0x7fda96eb1d30>"
      ]
     },
     "execution_count": 32,
     "metadata": {},
     "output_type": "execute_result"
    },
    {
     "data": {
      "image/png": "[encoded data removed]",
      "text/plain": [
       "<Figure size 432x288 with 1 Axes>"
      ]
     },
     "metadata": {},
     "output_type": "display_data"
    }
   ],
   "source": [
    "df_drug_counts.AMANTADINE.plot(kind = 'bar', color = 'b')"
   ]
  },
  {
   "cell_type": "code",
   "execution_count": 33,
   "metadata": {},
   "outputs": [
    {
     "data": {
      "text/plain": [
       "<matplotlib.axes._subplots.AxesSubplot at 0x7fda971230f0>"
      ]
     },
     "execution_count": 33,
     "metadata": {},
     "output_type": "execute_result"
    },
    {
     "data": {
      "image/png": "[encoded data removed]",
      "text/plain": [
       "<Figure size 432x288 with 1 Axes>"
      ]
     },
     "metadata": {},
     "output_type": "display_data"
    }
   ],
   "source": [
    "df_drug_counts.LEVODOPA.plot(kind = 'bar', color = 'r')"
   ]
  },
  {
   "cell_type": "code",
   "execution_count": null,
   "metadata": {},
   "outputs": [],
   "source": []
  }
 ],
 "metadata": {
  "kernelspec": {
   "display_name": "Python 3",
   "language": "python",
   "name": "python3"
  },
  "language_info": {
   "codemirror_mode": {
    "name": "ipython",
    "version": 3
   },
   "file_extension": ".py",
   "mimetype": "text/x-python",
   "name": "python",
   "nbconvert_exporter": "python",
   "pygments_lexer": "ipython3",
   "version": "3.5.5"
  }
 },
 "nbformat": 4,
 "nbformat_minor": 2
}

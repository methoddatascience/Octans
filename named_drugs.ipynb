{
 "cells": [
  {
   "cell_type": "code",
   "execution_count": 73,
   "metadata": {},
   "outputs": [],
   "source": [
    "import pandas as pd\n",
    "import matplotlib.pyplot as plt\n",
    "from collections import defaultdict"
   ]
  },
  {
   "cell_type": "code",
   "execution_count": 2,
   "metadata": {},
   "outputs": [],
   "source": [
    "drugs = ['Amantadine', 'Apomorphine', \n",
    "         'APO-go', 'Co-beneldopa', \n",
    "         'Madopar', 'Co-careldopa', \n",
    "         'Sinemet', 'Entacapone', \n",
    "         'Comtess', 'Pergolide', \n",
    "         'Rasagiline', 'Azilect', \n",
    "         'Selegiline', 'Zelapar', \n",
    "         'Tolcapone', 'Tasmar',\n",
    "         'Levodopa', 'L-DOPA']"
   ]
  },
  {
   "cell_type": "code",
   "execution_count": 77,
   "metadata": {},
   "outputs": [],
   "source": [
    "def load_data(filename):\n",
    "    return pd.read_csv(filename,  \n",
    "                       parse_dates = True)"
   ]
  },
  {
   "cell_type": "code",
   "execution_count": 78,
   "metadata": {},
   "outputs": [],
   "source": [
    "park = load_data('parkinson_2000tonow.csv')"
   ]
  },
  {
   "cell_type": "code",
   "execution_count": 79,
   "metadata": {},
   "outputs": [],
   "source": [
    "park.date = pd.to_datetime(park.date)"
   ]
  },
  {
   "cell_type": "code",
   "execution_count": 136,
   "metadata": {},
   "outputs": [
    {
     "data": {
      "text/plain": [
       "3646"
      ]
     },
     "execution_count": 136,
     "metadata": {},
     "output_type": "execute_result"
    }
   ],
   "source": [
    "len(park)"
   ]
  },
  {
   "cell_type": "code",
   "execution_count": 7,
   "metadata": {},
   "outputs": [],
   "source": [
    "def named_drug(row):\n",
    "    for d in drugs:\n",
    "        if d.lower() in row.lower():\n",
    "            return(d)\n",
    "        "
   ]
  },
  {
   "cell_type": "code",
   "execution_count": 8,
   "metadata": {},
   "outputs": [],
   "source": [
    "park['named_drug'] = park.abstract.apply(named_drug)"
   ]
  },
  {
   "cell_type": "code",
   "execution_count": 9,
   "metadata": {},
   "outputs": [
    {
     "data": {
      "text/plain": [
       "483"
      ]
     },
     "execution_count": 9,
     "metadata": {},
     "output_type": "execute_result"
    }
   ],
   "source": [
    "park.named_drug.notnull().sum()"
   ]
  },
  {
   "cell_type": "code",
   "execution_count": 10,
   "metadata": {},
   "outputs": [
    {
     "data": {
      "text/html": [
       "<div>\n",
       "<style scoped>\n",
       "    .dataframe tbody tr th:only-of-type {\n",
       "        vertical-align: middle;\n",
       "    }\n",
       "\n",
       "    .dataframe tbody tr th {\n",
       "        vertical-align: top;\n",
       "    }\n",
       "\n",
       "    .dataframe thead th {\n",
       "        text-align: right;\n",
       "    }\n",
       "</style>\n",
       "<table border=\"1\" class=\"dataframe\">\n",
       "  <thead>\n",
       "    <tr style=\"text-align: right;\">\n",
       "      <th></th>\n",
       "      <th>Unnamed: 0</th>\n",
       "      <th>title</th>\n",
       "      <th>authors</th>\n",
       "      <th>published in</th>\n",
       "      <th>citations</th>\n",
       "      <th>abstract</th>\n",
       "      <th>named_drug</th>\n",
       "    </tr>\n",
       "    <tr>\n",
       "      <th>date</th>\n",
       "      <th></th>\n",
       "      <th></th>\n",
       "      <th></th>\n",
       "      <th></th>\n",
       "      <th></th>\n",
       "      <th></th>\n",
       "      <th></th>\n",
       "    </tr>\n",
       "  </thead>\n",
       "  <tbody>\n",
       "    <tr>\n",
       "      <th>2018-07-11</th>\n",
       "      <td>6</td>\n",
       "      <td>Human tyrosine hydroxylase in Parkinson's dise...</td>\n",
       "      <td>Toshiharu Nagatsu, Akira Nakashima, Hiroshi Ic...</td>\n",
       "      <td>Journal of neural transmission (Vienna, Austri...</td>\n",
       "      <td>NaN</td>\n",
       "      <td>Parkinson's disease (PD) is an aging-related m...</td>\n",
       "      <td>L-DOPA</td>\n",
       "    </tr>\n",
       "    <tr>\n",
       "      <th>2018-07-10</th>\n",
       "      <td>13</td>\n",
       "      <td>MTOR Pathway-Based Discovery of Genetic Suscep...</td>\n",
       "      <td>Núria Martín-Flores, Rubén Fernández-Santiago,...</td>\n",
       "      <td>Molecular neurobiology</td>\n",
       "      <td>NaN</td>\n",
       "      <td>Dyskinesia induced by L-DOPA administration (L...</td>\n",
       "      <td>L-DOPA</td>\n",
       "    </tr>\n",
       "    <tr>\n",
       "      <th>2018-07-10</th>\n",
       "      <td>15</td>\n",
       "      <td>Scaling behavior of drug transport and absorpt...</td>\n",
       "      <td>William Langhoff, Alexander Riggs, Peter Hinow</td>\n",
       "      <td>PloS one</td>\n",
       "      <td>NaN</td>\n",
       "      <td>Drug delivery to the brain is challenging due ...</td>\n",
       "      <td>L-DOPA</td>\n",
       "    </tr>\n",
       "    <tr>\n",
       "      <th>2018-07-10</th>\n",
       "      <td>17</td>\n",
       "      <td>LRRK2 G2019S Parkinson's disease with more ben...</td>\n",
       "      <td>Sawssan Ben Romdhan, Nouha Farhat, Amina Nasri...</td>\n",
       "      <td>Acta neurologica Scandinavica</td>\n",
       "      <td>NaN</td>\n",
       "      <td>The LRRK2-G2019S mutation is the most common c...</td>\n",
       "      <td>Levodopa</td>\n",
       "    </tr>\n",
       "    <tr>\n",
       "      <th>2018-07-06</th>\n",
       "      <td>38</td>\n",
       "      <td>Dysfunctional inhibitory control in Parkinson'...</td>\n",
       "      <td>Silvia Picazio, Viviana Ponzo, Carlo Caltagiro...</td>\n",
       "      <td>Journal of neurology</td>\n",
       "      <td>NaN</td>\n",
       "      <td>Chronic dopamine replacement therapies in Park...</td>\n",
       "      <td>Levodopa</td>\n",
       "    </tr>\n",
       "  </tbody>\n",
       "</table>\n",
       "</div>"
      ],
      "text/plain": [
       "            Unnamed: 0                                              title  \\\n",
       "date                                                                        \n",
       "2018-07-11           6  Human tyrosine hydroxylase in Parkinson's dise...   \n",
       "2018-07-10          13  MTOR Pathway-Based Discovery of Genetic Suscep...   \n",
       "2018-07-10          15  Scaling behavior of drug transport and absorpt...   \n",
       "2018-07-10          17  LRRK2 G2019S Parkinson's disease with more ben...   \n",
       "2018-07-06          38  Dysfunctional inhibitory control in Parkinson'...   \n",
       "\n",
       "                                                      authors  \\\n",
       "date                                                            \n",
       "2018-07-11  Toshiharu Nagatsu, Akira Nakashima, Hiroshi Ic...   \n",
       "2018-07-10  Núria Martín-Flores, Rubén Fernández-Santiago,...   \n",
       "2018-07-10     William Langhoff, Alexander Riggs, Peter Hinow   \n",
       "2018-07-10  Sawssan Ben Romdhan, Nouha Farhat, Amina Nasri...   \n",
       "2018-07-06  Silvia Picazio, Viviana Ponzo, Carlo Caltagiro...   \n",
       "\n",
       "                                                 published in citations  \\\n",
       "date                                                                      \n",
       "2018-07-11  Journal of neural transmission (Vienna, Austri...       NaN   \n",
       "2018-07-10                             Molecular neurobiology       NaN   \n",
       "2018-07-10                                           PloS one       NaN   \n",
       "2018-07-10                      Acta neurologica Scandinavica       NaN   \n",
       "2018-07-06                               Journal of neurology       NaN   \n",
       "\n",
       "                                                     abstract named_drug  \n",
       "date                                                                      \n",
       "2018-07-11  Parkinson's disease (PD) is an aging-related m...     L-DOPA  \n",
       "2018-07-10  Dyskinesia induced by L-DOPA administration (L...     L-DOPA  \n",
       "2018-07-10  Drug delivery to the brain is challenging due ...     L-DOPA  \n",
       "2018-07-10  The LRRK2-G2019S mutation is the most common c...   Levodopa  \n",
       "2018-07-06  Chronic dopamine replacement therapies in Park...   Levodopa  "
      ]
     },
     "execution_count": 10,
     "metadata": {},
     "output_type": "execute_result"
    }
   ],
   "source": [
    "park[park.named_drug.notnull()][:5]"
   ]
  },
  {
   "cell_type": "code",
   "execution_count": 11,
   "metadata": {},
   "outputs": [
    {
     "data": {
      "text/plain": [
       "named_drug\n",
       "Amantadine       16\n",
       "Apomorphine      54\n",
       "Co-beneldopa      1\n",
       "Entacapone        9\n",
       "L-DOPA          149\n",
       "Levodopa        206\n",
       "Madopar           1\n",
       "Pergolide        17\n",
       "Rasagiline       11\n",
       "Selegiline       16\n",
       "Sinemet           1\n",
       "Tolcapone         2\n",
       "Name: abstract, dtype: int64"
      ]
     },
     "execution_count": 11,
     "metadata": {},
     "output_type": "execute_result"
    }
   ],
   "source": [
    "park.groupby(by = 'named_drug').count().abstract"
   ]
  },
  {
   "cell_type": "code",
   "execution_count": 80,
   "metadata": {},
   "outputs": [],
   "source": [
    "fda_drugs = pd.read_table('Products.txt', usecols = ['Form', 'Strength','DrugName', 'ActiveIngredient'])"
   ]
  },
  {
   "cell_type": "code",
   "execution_count": 81,
   "metadata": {},
   "outputs": [
    {
     "data": {
      "text/plain": [
       "2709"
      ]
     },
     "execution_count": 81,
     "metadata": {},
     "output_type": "execute_result"
    }
   ],
   "source": [
    "len(fda_drugs.ActiveIngredient.unique())"
   ]
  },
  {
   "cell_type": "code",
   "execution_count": 82,
   "metadata": {},
   "outputs": [
    {
     "data": {
      "text/html": [
       "<div>\n",
       "<style scoped>\n",
       "    .dataframe tbody tr th:only-of-type {\n",
       "        vertical-align: middle;\n",
       "    }\n",
       "\n",
       "    .dataframe tbody tr th {\n",
       "        vertical-align: top;\n",
       "    }\n",
       "\n",
       "    .dataframe thead th {\n",
       "        text-align: right;\n",
       "    }\n",
       "</style>\n",
       "<table border=\"1\" class=\"dataframe\">\n",
       "  <thead>\n",
       "    <tr style=\"text-align: right;\">\n",
       "      <th></th>\n",
       "      <th>Form</th>\n",
       "      <th>Strength</th>\n",
       "      <th>DrugName</th>\n",
       "      <th>ActiveIngredient</th>\n",
       "    </tr>\n",
       "  </thead>\n",
       "  <tbody>\n",
       "    <tr>\n",
       "      <th>0</th>\n",
       "      <td>SOLUTION/DROPS;OPHTHALMIC</td>\n",
       "      <td>1%</td>\n",
       "      <td>PAREDRINE</td>\n",
       "      <td>HYDROXYAMPHETAMINE HYDROBROMIDE</td>\n",
       "    </tr>\n",
       "    <tr>\n",
       "      <th>1</th>\n",
       "      <td>TABLET;ORAL</td>\n",
       "      <td>500MG</td>\n",
       "      <td>SULFAPYRIDINE</td>\n",
       "      <td>SULFAPYRIDINE</td>\n",
       "    </tr>\n",
       "    <tr>\n",
       "      <th>2</th>\n",
       "      <td>INJECTABLE;INJECTION</td>\n",
       "      <td>20,000 UNITS/ML</td>\n",
       "      <td>LIQUAEMIN SODIUM</td>\n",
       "      <td>HEPARIN SODIUM</td>\n",
       "    </tr>\n",
       "    <tr>\n",
       "      <th>3</th>\n",
       "      <td>INJECTABLE;INJECTION</td>\n",
       "      <td>40,000 UNITS/ML</td>\n",
       "      <td>LIQUAEMIN SODIUM</td>\n",
       "      <td>HEPARIN SODIUM</td>\n",
       "    </tr>\n",
       "    <tr>\n",
       "      <th>4</th>\n",
       "      <td>INJECTABLE;INJECTION</td>\n",
       "      <td>5,000 UNITS/ML</td>\n",
       "      <td>LIQUAEMIN SODIUM</td>\n",
       "      <td>HEPARIN SODIUM</td>\n",
       "    </tr>\n",
       "  </tbody>\n",
       "</table>\n",
       "</div>"
      ],
      "text/plain": [
       "                        Form         Strength          DrugName  \\\n",
       "0  SOLUTION/DROPS;OPHTHALMIC               1%         PAREDRINE   \n",
       "1                TABLET;ORAL            500MG     SULFAPYRIDINE   \n",
       "2       INJECTABLE;INJECTION  20,000 UNITS/ML  LIQUAEMIN SODIUM   \n",
       "3       INJECTABLE;INJECTION  40,000 UNITS/ML  LIQUAEMIN SODIUM   \n",
       "4       INJECTABLE;INJECTION   5,000 UNITS/ML  LIQUAEMIN SODIUM   \n",
       "\n",
       "                  ActiveIngredient  \n",
       "0  HYDROXYAMPHETAMINE HYDROBROMIDE  \n",
       "1                    SULFAPYRIDINE  \n",
       "2                   HEPARIN SODIUM  \n",
       "3                   HEPARIN SODIUM  \n",
       "4                   HEPARIN SODIUM  "
      ]
     },
     "execution_count": 82,
     "metadata": {},
     "output_type": "execute_result"
    }
   ],
   "source": [
    "fda_drugs.head()"
   ]
  },
  {
   "cell_type": "code",
   "execution_count": 83,
   "metadata": {},
   "outputs": [
    {
     "data": {
      "text/plain": [
       "True"
      ]
     },
     "execution_count": 83,
     "metadata": {},
     "output_type": "execute_result"
    }
   ],
   "source": [
    "'NORDITROPIN' in fda_drugs.DrugName.values"
   ]
  },
  {
   "cell_type": "code",
   "execution_count": 84,
   "metadata": {},
   "outputs": [
    {
     "data": {
      "text/html": [
       "<div>\n",
       "<style scoped>\n",
       "    .dataframe tbody tr th:only-of-type {\n",
       "        vertical-align: middle;\n",
       "    }\n",
       "\n",
       "    .dataframe tbody tr th {\n",
       "        vertical-align: top;\n",
       "    }\n",
       "\n",
       "    .dataframe thead th {\n",
       "        text-align: right;\n",
       "    }\n",
       "</style>\n",
       "<table border=\"1\" class=\"dataframe\">\n",
       "  <thead>\n",
       "    <tr style=\"text-align: right;\">\n",
       "      <th></th>\n",
       "      <th>Form</th>\n",
       "      <th>Strength</th>\n",
       "      <th>DrugName</th>\n",
       "      <th>ActiveIngredient</th>\n",
       "    </tr>\n",
       "  </thead>\n",
       "  <tbody>\n",
       "    <tr>\n",
       "      <th>17015</th>\n",
       "      <td>TABLET;ORAL</td>\n",
       "      <td>EQ 0.05MG BASE</td>\n",
       "      <td>PERGOLIDE MESYLATE</td>\n",
       "      <td>PERGOLIDE MESYLATE</td>\n",
       "    </tr>\n",
       "    <tr>\n",
       "      <th>17016</th>\n",
       "      <td>TABLET;ORAL</td>\n",
       "      <td>EQ 0.25MG BASE</td>\n",
       "      <td>PERGOLIDE MESYLATE</td>\n",
       "      <td>PERGOLIDE MESYLATE</td>\n",
       "    </tr>\n",
       "    <tr>\n",
       "      <th>17017</th>\n",
       "      <td>TABLET;ORAL</td>\n",
       "      <td>EQ 1MG BASE</td>\n",
       "      <td>PERGOLIDE MESYLATE</td>\n",
       "      <td>PERGOLIDE MESYLATE</td>\n",
       "    </tr>\n",
       "    <tr>\n",
       "      <th>17074</th>\n",
       "      <td>TABLET;ORAL</td>\n",
       "      <td>EQ 0.05MG BASE</td>\n",
       "      <td>PERGOLIDE MESYLATE</td>\n",
       "      <td>PERGOLIDE MESYLATE</td>\n",
       "    </tr>\n",
       "    <tr>\n",
       "      <th>17075</th>\n",
       "      <td>TABLET;ORAL</td>\n",
       "      <td>EQ 0.25MG BASE</td>\n",
       "      <td>PERGOLIDE MESYLATE</td>\n",
       "      <td>PERGOLIDE MESYLATE</td>\n",
       "    </tr>\n",
       "    <tr>\n",
       "      <th>17076</th>\n",
       "      <td>TABLET;ORAL</td>\n",
       "      <td>EQ 1MG BASE</td>\n",
       "      <td>PERGOLIDE MESYLATE</td>\n",
       "      <td>PERGOLIDE MESYLATE</td>\n",
       "    </tr>\n",
       "  </tbody>\n",
       "</table>\n",
       "</div>"
      ],
      "text/plain": [
       "              Form        Strength            DrugName    ActiveIngredient\n",
       "17015  TABLET;ORAL  EQ 0.05MG BASE  PERGOLIDE MESYLATE  PERGOLIDE MESYLATE\n",
       "17016  TABLET;ORAL  EQ 0.25MG BASE  PERGOLIDE MESYLATE  PERGOLIDE MESYLATE\n",
       "17017  TABLET;ORAL     EQ 1MG BASE  PERGOLIDE MESYLATE  PERGOLIDE MESYLATE\n",
       "17074  TABLET;ORAL  EQ 0.05MG BASE  PERGOLIDE MESYLATE  PERGOLIDE MESYLATE\n",
       "17075  TABLET;ORAL  EQ 0.25MG BASE  PERGOLIDE MESYLATE  PERGOLIDE MESYLATE\n",
       "17076  TABLET;ORAL     EQ 1MG BASE  PERGOLIDE MESYLATE  PERGOLIDE MESYLATE"
      ]
     },
     "execution_count": 84,
     "metadata": {},
     "output_type": "execute_result"
    }
   ],
   "source": [
    "fda_drugs.loc[fda_drugs.DrugName.str.contains('PERGOLIDE')]"
   ]
  },
  {
   "cell_type": "code",
   "execution_count": 85,
   "metadata": {},
   "outputs": [],
   "source": [
    "fda_drug_names = set(fda_drugs.DrugName.values)"
   ]
  },
  {
   "cell_type": "code",
   "execution_count": 86,
   "metadata": {},
   "outputs": [
    {
     "data": {
      "text/plain": [
       "7102"
      ]
     },
     "execution_count": 86,
     "metadata": {},
     "output_type": "execute_result"
    }
   ],
   "source": [
    "len(fda_drug_names)"
   ]
  },
  {
   "cell_type": "code",
   "execution_count": 87,
   "metadata": {},
   "outputs": [],
   "source": [
    "fda_act_ingr = set(fda_drugs.ActiveIngredient.values)"
   ]
  },
  {
   "cell_type": "code",
   "execution_count": 88,
   "metadata": {},
   "outputs": [],
   "source": [
    "def named_fda_drug(row):\n",
    "    drugs = []\n",
    "    for d in fda_act_ingr:\n",
    "        if d in row.upper():\n",
    "            drugs.append(d)\n",
    "    if len(drugs) != 0:\n",
    "        return drugs"
   ]
  },
  {
   "cell_type": "code",
   "execution_count": 89,
   "metadata": {},
   "outputs": [],
   "source": [
    "park['named_fda_drug'] = park.abstract.apply(named_fda_drug)"
   ]
  },
  {
   "cell_type": "code",
   "execution_count": 90,
   "metadata": {},
   "outputs": [
    {
     "data": {
      "text/plain": [
       "786"
      ]
     },
     "execution_count": 90,
     "metadata": {},
     "output_type": "execute_result"
    }
   ],
   "source": [
    "park.named_fda_drug.notnull().sum()"
   ]
  },
  {
   "cell_type": "code",
   "execution_count": 52,
   "metadata": {},
   "outputs": [
    {
     "data": {
      "text/html": [
       "<div>\n",
       "<style scoped>\n",
       "    .dataframe tbody tr th:only-of-type {\n",
       "        vertical-align: middle;\n",
       "    }\n",
       "\n",
       "    .dataframe tbody tr th {\n",
       "        vertical-align: top;\n",
       "    }\n",
       "\n",
       "    .dataframe thead th {\n",
       "        text-align: right;\n",
       "    }\n",
       "</style>\n",
       "<table border=\"1\" class=\"dataframe\">\n",
       "  <thead>\n",
       "    <tr style=\"text-align: right;\">\n",
       "      <th></th>\n",
       "      <th>Unnamed: 0</th>\n",
       "      <th>title</th>\n",
       "      <th>authors</th>\n",
       "      <th>published in</th>\n",
       "      <th>citations</th>\n",
       "      <th>abstract</th>\n",
       "      <th>named_drug</th>\n",
       "      <th>named_fda_drug</th>\n",
       "    </tr>\n",
       "    <tr>\n",
       "      <th>date</th>\n",
       "      <th></th>\n",
       "      <th></th>\n",
       "      <th></th>\n",
       "      <th></th>\n",
       "      <th></th>\n",
       "      <th></th>\n",
       "      <th></th>\n",
       "      <th></th>\n",
       "    </tr>\n",
       "  </thead>\n",
       "  <tbody>\n",
       "    <tr>\n",
       "      <th>2018-07-11</th>\n",
       "      <td>5</td>\n",
       "      <td>Drug Delivery and Transport into the Central C...</td>\n",
       "      <td>Willi Cawello, Marina Braun, Jens-Otto Andreas</td>\n",
       "      <td>European journal of drug metabolism and pharma...</td>\n",
       "      <td>NaN</td>\n",
       "      <td>Pharmacokinetic studies using deconvolution me...</td>\n",
       "      <td>None</td>\n",
       "      <td>[ROTIGOTINE]</td>\n",
       "    </tr>\n",
       "    <tr>\n",
       "      <th>2018-07-11</th>\n",
       "      <td>6</td>\n",
       "      <td>Human tyrosine hydroxylase in Parkinson's dise...</td>\n",
       "      <td>Toshiharu Nagatsu, Akira Nakashima, Hiroshi Ic...</td>\n",
       "      <td>Journal of neural transmission (Vienna, Austri...</td>\n",
       "      <td>NaN</td>\n",
       "      <td>Parkinson's disease (PD) is an aging-related m...</td>\n",
       "      <td>L-DOPA</td>\n",
       "      <td>[OXYGEN]</td>\n",
       "    </tr>\n",
       "    <tr>\n",
       "      <th>2018-07-11</th>\n",
       "      <td>9</td>\n",
       "      <td>Anti-neuroinflammatory effects of galangin in ...</td>\n",
       "      <td>Mi Eun Kim, Pu Reum Park, Ju Yong Na, Inae Jun...</td>\n",
       "      <td>Molecular and cellular biochemistry</td>\n",
       "      <td>NaN</td>\n",
       "      <td>Neuroinflammation resulting from microglial ac...</td>\n",
       "      <td>None</td>\n",
       "      <td>[NITRIC OXIDE]</td>\n",
       "    </tr>\n",
       "    <tr>\n",
       "      <th>2018-07-10</th>\n",
       "      <td>17</td>\n",
       "      <td>LRRK2 G2019S Parkinson's disease with more ben...</td>\n",
       "      <td>Sawssan Ben Romdhan, Nouha Farhat, Amina Nasri...</td>\n",
       "      <td>Acta neurologica Scandinavica</td>\n",
       "      <td>NaN</td>\n",
       "      <td>The LRRK2-G2019S mutation is the most common c...</td>\n",
       "      <td>Levodopa</td>\n",
       "      <td>[LEVODOPA]</td>\n",
       "    </tr>\n",
       "    <tr>\n",
       "      <th>2018-07-10</th>\n",
       "      <td>20</td>\n",
       "      <td>7 receptors in the regulation of anxiety-like ...</td>\n",
       "      <td>Cheng Xue Du, Yuan Guo, Qiao Jun Zhang, Jin Zh...</td>\n",
       "      <td>Neurological research</td>\n",
       "      <td>NaN</td>\n",
       "      <td>7 receptors in the prelimbic (PrL) cortex are ...</td>\n",
       "      <td>None</td>\n",
       "      <td>[DIMETHYL SULFOXIDE]</td>\n",
       "    </tr>\n",
       "    <tr>\n",
       "      <th>2018-07-09</th>\n",
       "      <td>24</td>\n",
       "      <td>Noradrenergic receptor modulation influences t...</td>\n",
       "      <td>Laura M Grant, Kelsey J Barth, Cagla Muslu, Cy...</td>\n",
       "      <td>Behavioral neuroscience</td>\n",
       "      <td>NaN</td>\n",
       "      <td>Rats produce high rates of ultrasonic vocaliza...</td>\n",
       "      <td>None</td>\n",
       "      <td>[EPINEPHRINE, CLONIDINE]</td>\n",
       "    </tr>\n",
       "    <tr>\n",
       "      <th>2018-07-07</th>\n",
       "      <td>33</td>\n",
       "      <td>Cyclosomatostatin- and haloperidol-induced cat...</td>\n",
       "      <td>Ilya D Ionov, Irina I Pushinskaya, Nicholas P ...</td>\n",
       "      <td>Neuroscience letters</td>\n",
       "      <td>NaN</td>\n",
       "      <td>Total sleep deprivation (SD) has been found to...</td>\n",
       "      <td>None</td>\n",
       "      <td>[HALOPERIDOL]</td>\n",
       "    </tr>\n",
       "    <tr>\n",
       "      <th>2018-07-06</th>\n",
       "      <td>38</td>\n",
       "      <td>Dysfunctional inhibitory control in Parkinson'...</td>\n",
       "      <td>Silvia Picazio, Viviana Ponzo, Carlo Caltagiro...</td>\n",
       "      <td>Journal of neurology</td>\n",
       "      <td>NaN</td>\n",
       "      <td>Chronic dopamine replacement therapies in Park...</td>\n",
       "      <td>Levodopa</td>\n",
       "      <td>[LEVODOPA]</td>\n",
       "    </tr>\n",
       "    <tr>\n",
       "      <th>2018-07-05</th>\n",
       "      <td>43</td>\n",
       "      <td>Structure and dynamics of the extended-helix s...</td>\n",
       "      <td>Yoon-Hui Sung, David Eliezer</td>\n",
       "      <td>Protein science : a publication of the Protein...</td>\n",
       "      <td>NaN</td>\n",
       "      <td>The Parkinson's protein alpha-synuclein binds ...</td>\n",
       "      <td>None</td>\n",
       "      <td>[ALCOHOL]</td>\n",
       "    </tr>\n",
       "    <tr>\n",
       "      <th>2018-07-03</th>\n",
       "      <td>51</td>\n",
       "      <td>3-(Naphthalen-2-yl(propoxy)methyl)azetidine hy...</td>\n",
       "      <td>Seung-Ju Yang, Ji Woong Yang, Jung-Min Na, Ji ...</td>\n",
       "      <td>BMB reports</td>\n",
       "      <td>NaN</td>\n",
       "      <td>Parkinson's disease (PD) is a common chronic n...</td>\n",
       "      <td>None</td>\n",
       "      <td>[NITRIC OXIDE]</td>\n",
       "    </tr>\n",
       "  </tbody>\n",
       "</table>\n",
       "</div>"
      ],
      "text/plain": [
       "            Unnamed: 0                                              title  \\\n",
       "date                                                                        \n",
       "2018-07-11           5  Drug Delivery and Transport into the Central C...   \n",
       "2018-07-11           6  Human tyrosine hydroxylase in Parkinson's dise...   \n",
       "2018-07-11           9  Anti-neuroinflammatory effects of galangin in ...   \n",
       "2018-07-10          17  LRRK2 G2019S Parkinson's disease with more ben...   \n",
       "2018-07-10          20  7 receptors in the regulation of anxiety-like ...   \n",
       "2018-07-09          24  Noradrenergic receptor modulation influences t...   \n",
       "2018-07-07          33  Cyclosomatostatin- and haloperidol-induced cat...   \n",
       "2018-07-06          38  Dysfunctional inhibitory control in Parkinson'...   \n",
       "2018-07-05          43  Structure and dynamics of the extended-helix s...   \n",
       "2018-07-03          51  3-(Naphthalen-2-yl(propoxy)methyl)azetidine hy...   \n",
       "\n",
       "                                                      authors  \\\n",
       "date                                                            \n",
       "2018-07-11     Willi Cawello, Marina Braun, Jens-Otto Andreas   \n",
       "2018-07-11  Toshiharu Nagatsu, Akira Nakashima, Hiroshi Ic...   \n",
       "2018-07-11  Mi Eun Kim, Pu Reum Park, Ju Yong Na, Inae Jun...   \n",
       "2018-07-10  Sawssan Ben Romdhan, Nouha Farhat, Amina Nasri...   \n",
       "2018-07-10  Cheng Xue Du, Yuan Guo, Qiao Jun Zhang, Jin Zh...   \n",
       "2018-07-09  Laura M Grant, Kelsey J Barth, Cagla Muslu, Cy...   \n",
       "2018-07-07  Ilya D Ionov, Irina I Pushinskaya, Nicholas P ...   \n",
       "2018-07-06  Silvia Picazio, Viviana Ponzo, Carlo Caltagiro...   \n",
       "2018-07-05                       Yoon-Hui Sung, David Eliezer   \n",
       "2018-07-03  Seung-Ju Yang, Ji Woong Yang, Jung-Min Na, Ji ...   \n",
       "\n",
       "                                                 published in citations  \\\n",
       "date                                                                      \n",
       "2018-07-11  European journal of drug metabolism and pharma...       NaN   \n",
       "2018-07-11  Journal of neural transmission (Vienna, Austri...       NaN   \n",
       "2018-07-11                Molecular and cellular biochemistry       NaN   \n",
       "2018-07-10                      Acta neurologica Scandinavica       NaN   \n",
       "2018-07-10                              Neurological research       NaN   \n",
       "2018-07-09                            Behavioral neuroscience       NaN   \n",
       "2018-07-07                               Neuroscience letters       NaN   \n",
       "2018-07-06                               Journal of neurology       NaN   \n",
       "2018-07-05  Protein science : a publication of the Protein...       NaN   \n",
       "2018-07-03                                        BMB reports       NaN   \n",
       "\n",
       "                                                     abstract named_drug  \\\n",
       "date                                                                       \n",
       "2018-07-11  Pharmacokinetic studies using deconvolution me...       None   \n",
       "2018-07-11  Parkinson's disease (PD) is an aging-related m...     L-DOPA   \n",
       "2018-07-11  Neuroinflammation resulting from microglial ac...       None   \n",
       "2018-07-10  The LRRK2-G2019S mutation is the most common c...   Levodopa   \n",
       "2018-07-10  7 receptors in the prelimbic (PrL) cortex are ...       None   \n",
       "2018-07-09  Rats produce high rates of ultrasonic vocaliza...       None   \n",
       "2018-07-07  Total sleep deprivation (SD) has been found to...       None   \n",
       "2018-07-06  Chronic dopamine replacement therapies in Park...   Levodopa   \n",
       "2018-07-05  The Parkinson's protein alpha-synuclein binds ...       None   \n",
       "2018-07-03  Parkinson's disease (PD) is a common chronic n...       None   \n",
       "\n",
       "                      named_fda_drug  \n",
       "date                                  \n",
       "2018-07-11              [ROTIGOTINE]  \n",
       "2018-07-11                  [OXYGEN]  \n",
       "2018-07-11            [NITRIC OXIDE]  \n",
       "2018-07-10                [LEVODOPA]  \n",
       "2018-07-10      [DIMETHYL SULFOXIDE]  \n",
       "2018-07-09  [EPINEPHRINE, CLONIDINE]  \n",
       "2018-07-07             [HALOPERIDOL]  \n",
       "2018-07-06                [LEVODOPA]  \n",
       "2018-07-05                 [ALCOHOL]  \n",
       "2018-07-03            [NITRIC OXIDE]  "
      ]
     },
     "execution_count": 52,
     "metadata": {},
     "output_type": "execute_result"
    }
   ],
   "source": [
    "park.loc[park.named_fda_drug.notnull()][:10]"
   ]
  },
  {
   "cell_type": "code",
   "execution_count": 53,
   "metadata": {},
   "outputs": [
    {
     "data": {
      "text/plain": [
       "3646"
      ]
     },
     "execution_count": 53,
     "metadata": {},
     "output_type": "execute_result"
    }
   ],
   "source": [
    "len(park)"
   ]
  },
  {
   "cell_type": "code",
   "execution_count": 57,
   "metadata": {},
   "outputs": [],
   "source": [
    "drug_counts = park.named_fda_drug.apply(lambda x: pd.Series(x).value_counts()).sum()"
   ]
  },
  {
   "cell_type": "code",
   "execution_count": 72,
   "metadata": {},
   "outputs": [
    {
     "data": {
      "text/plain": [
       "LEVODOPA                   235.0\n",
       "OXYGEN                     135.0\n",
       "NITRIC OXIDE                61.0\n",
       "ADENOSINE                   50.0\n",
       "AMPHETAMINE                 39.0\n",
       "HYDROGEN PEROXIDE           30.0\n",
       "CARBIDOPA                   29.0\n",
       "HALOPERIDOL                 24.0\n",
       "ALCOHOL                     20.0\n",
       "COPPER                      20.0\n",
       "SELEGILINE                  19.0\n",
       "EPINEPHRINE                 17.0\n",
       "AMINO ACIDS                 17.0\n",
       "ROTIGOTINE                  11.0\n",
       "ASCORBIC ACID               11.0\n",
       "NICOTINE                    11.0\n",
       "NITROGEN                    11.0\n",
       "ENTACAPONE                  10.0\n",
       "CABERGOLINE                  9.0\n",
       "SECRETIN                     8.0\n",
       "CLOZAPINE                    8.0\n",
       "RIVASTIGMINE                 8.0\n",
       "ACETYLCYSTEINE               8.0\n",
       "ESTRADIOL                    7.0\n",
       "RESERPINE                    6.0\n",
       "METHYLPHENIDATE              6.0\n",
       "OLANZAPINE                   6.0\n",
       "HELIUM                       6.0\n",
       "TESTOSTERONE                 6.0\n",
       "GLYCINE                      6.0\n",
       "                           ...  \n",
       "INDOMETHACIN                 1.0\n",
       "INULIN                       1.0\n",
       "ISOCARBOXAZID                1.0\n",
       "KETOPROFEN                   1.0\n",
       "NIMODIPINE                   1.0\n",
       "LAMOTRIGINE                  1.0\n",
       "MIRTAZAPINE                  1.0\n",
       "LINDANE                      1.0\n",
       "LOXAPINE                     1.0\n",
       "MALATHION                    1.0\n",
       "MANGAFODIPIR TRISODIUM       1.0\n",
       "NIFEDIPINE                   1.0\n",
       "NIZATIDINE                   1.0\n",
       "DICLOFENAC SODIUM            1.0\n",
       "OXYTOCIN                     1.0\n",
       "DIGOXIN                      1.0\n",
       "DIMETHYL FUMARATE            1.0\n",
       "DISULFIRAM                   1.0\n",
       "DOXYCYCLINE                  1.0\n",
       "PERAMPANEL                   1.0\n",
       "DUTASTERIDE                  1.0\n",
       "ESTRONE                      1.0\n",
       "GADOTERIDOL                  1.0\n",
       "ETOPOSIDE                    1.0\n",
       "EVANS BLUE                   1.0\n",
       "FERRIC AMMONIUM CITRATE      1.0\n",
       "FLUDROCORTISONE ACETATE      1.0\n",
       "FLURBIPROFEN                 1.0\n",
       "GABAPENTIN                   1.0\n",
       "ISOFLURANE                   1.0\n",
       "Length: 139, dtype: float64"
      ]
     },
     "execution_count": 72,
     "metadata": {},
     "output_type": "execute_result"
    }
   ],
   "source": [
    "drug_counts.sort_values(ascending = False)"
   ]
  },
  {
   "cell_type": "code",
   "execution_count": 113,
   "metadata": {},
   "outputs": [],
   "source": [
    "drug_counts_dict = defaultdict(dict)\n",
    "for year in range(2000, 2018, 1):\n",
    "    mask = (park.date > str(year))&(park.date < str(year+1))\n",
    "    drug_counts = park.loc[mask]\\\n",
    "        .named_fda_drug.apply(lambda x: pd.Series(x).value_counts()).sum()\n",
    "    drug_counts_dict[year] = drug_counts.sort_values(ascending = False)[:20]\\\n",
    "        .to_dict()"
   ]
  },
  {
   "cell_type": "code",
   "execution_count": 114,
   "metadata": {},
   "outputs": [],
   "source": [
    "df_drug_counts = pd.DataFrame(drug_counts_dict).transpose()"
   ]
  },
  {
   "cell_type": "code",
   "execution_count": 139,
   "metadata": {},
   "outputs": [
    {
     "data": {
      "text/plain": [
       "<matplotlib.axes._subplots.AxesSubplot at 0x7efef463dc88>"
      ]
     },
     "execution_count": 139,
     "metadata": {},
     "output_type": "execute_result"
    },
    {
     "data": {
      "image/png": "[encoded data removed]",
      "text/plain": [
       "<matplotlib.figure.Figure at 0x7efef4b606a0>"
      ]
     },
     "metadata": {},
     "output_type": "display_data"
    }
   ],
   "source": [
    "# keep only columns with more than 9 non-null rows\n",
    "df_drug_counts.dropna(axis = 1, thresh = 6).plot(kind = 'bar',\n",
    "                                                 figsize = (10,6),\n",
    "                                                 stacked = True)\n"
   ]
  },
  {
   "cell_type": "code",
   "execution_count": null,
   "metadata": {},
   "outputs": [],
   "source": []
  }
 ],
 "metadata": {
  "kernelspec": {
   "display_name": "Python 3",
   "language": "python",
   "name": "python3"
  },
  "language_info": {
   "codemirror_mode": {
    "name": "ipython",
    "version": 3
   },
   "file_extension": ".py",
   "mimetype": "text/x-python",
   "name": "python",
   "nbconvert_exporter": "python",
   "pygments_lexer": "ipython3",
   "version": "3.6.6"
  }
 },
 "nbformat": 4,
 "nbformat_minor": 2
}
